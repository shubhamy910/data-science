{
 "cells": [
  {
   "cell_type": "code",
   "execution_count": 1,
   "id": "327c162e-f565-46e2-802a-4269bd9df9a5",
   "metadata": {},
   "outputs": [],
   "source": [
    "#Q1. Explain GET and POST methods."
   ]
  },
  {
   "cell_type": "code",
   "execution_count": null,
   "id": "2d22c7ed-b6cf-4b88-b323-0646f6bb6fee",
   "metadata": {},
   "outputs": [],
   "source": [
    "#answer1- \n",
    "\"\"\"\n",
    "GET: The GET method is used to retrieve or fetch data from a server. When a GET request is made, \n",
    "the client (such as a web browser) sends a request to the server to retrieve a specific resource \n",
    "(e.g., a webpage or an image). The data is appended to the URL as query parameters, visible in the address\n",
    "bar of the browser. GET requests are generally considered to be idempotent, meaning that making the same request \n",
    "multiple times will have the same result. Example: When you enter a URL in your browser or click on a hyperlink, \n",
    "a GET request is made to retrieve the corresponding webpage\n",
    "\n",
    "POST: The POST method is used to submit data to be processed by the server. When a POST request is made, \n",
    "the client sends data to the server in the body of the request, rather than appending it to the URL. \n",
    "This method is often used for creating or updating resources on the server. Unlike GET requests, POST requests \n",
    "are not idempotent, meaning that making the same request multiple times may result in different outcomes. \n",
    "Example: When you submit a form on a website, such as a registration form, the data you enter is sent to the \n",
    "server using a POST request.\n",
    "\"\"\""
   ]
  },
  {
   "cell_type": "code",
   "execution_count": 2,
   "id": "ae4fea14-bfeb-44af-8389-39df17345ea3",
   "metadata": {},
   "outputs": [],
   "source": [
    "#Q2. Why is request used in Flask?"
   ]
  },
  {
   "cell_type": "code",
   "execution_count": null,
   "id": "51ba5d2b-8c1a-492f-a53f-131ff1e4eaa2",
   "metadata": {},
   "outputs": [],
   "source": [
    "#answer2-\n",
    "\"\"\"\n",
    "In Flask, the request object is used to access incoming request data such as form data, query parameters, headers,\n",
    "and files. It provides a way to extract data from the HTTP request made by the client. \n",
    "The request object allows you to access and work with the data sent by the client, making it possible to handle\n",
    "user input, process form submissions, and interact with the request headers. \n",
    "\"\"\""
   ]
  },
  {
   "cell_type": "code",
   "execution_count": 3,
   "id": "97c8fd74-e04f-4bee-97b8-3d528e37e41b",
   "metadata": {},
   "outputs": [],
   "source": [
    "#Q3. Why is redirect() used in Flask?"
   ]
  },
  {
   "cell_type": "code",
   "execution_count": null,
   "id": "ff253650-ce23-441c-8f2d-c4d60bea3b8e",
   "metadata": {},
   "outputs": [],
   "source": [
    "\"\"\"\n",
    "In Flask, the redirect() function is used to perform a redirect to a different URL or route. \n",
    "It is a convenient way to redirect the user's browser to another page or route within the application. \n",
    "Redirects are commonly used after a successful form submission or to direct the user to a different \n",
    "part of the application based on certain conditions or actions. \n",
    "By using redirect(), you can easily control the flow of the user's navigation within your Flask application.\n",
    "\"\"\""
   ]
  },
  {
   "cell_type": "code",
   "execution_count": 5,
   "id": "41bb3cc6-5f58-4648-b053-2285fb5a7f16",
   "metadata": {},
   "outputs": [],
   "source": [
    "#Q4. What are templates in Flask? Why is the render_template() function used?"
   ]
  },
  {
   "cell_type": "code",
   "execution_count": null,
   "id": "a220fee9-12a5-403d-8d52-dfd3c946ad07",
   "metadata": {},
   "outputs": [],
   "source": [
    "#answer4-\n",
    "\"\"\"\n",
    "In Flask, templates are files that contain the HTML structure and dynamic content placeholders of a web page.\n",
    "They allow developers to separate the presentation logic from the application logic, making it easier to manage \n",
    "and update the user interface.\n",
    "\n",
    "Templates in Flask: Templates are typically stored in a dedicated directory within the Flask application, \n",
    "often named \"templates.\" They are written in HTML, but they can also contain placeholders for dynamic content \n",
    "using templating languages such as Jinja2, which is the default templating engine in Flask. Templates allow you \n",
    "to define the structure, layout, and design of web pages while keeping the content separate from the code.\n",
    "\n",
    "render_template() function: The render_template() function is used in Flask to render a specified template file \n",
    "and return it as an HTTP response. It takes the template file's name as an argument and can also accept additional \n",
    "parameters to pass dynamic data to the template. The function locates the template file, processes it using the \n",
    "templating engine, and returns the resulting HTML to the client's web browser.\n",
    "\n",
    "\"\"\""
   ]
  },
  {
   "cell_type": "code",
   "execution_count": 6,
   "id": "d6769475-b632-4fe6-90ad-155c015466cd",
   "metadata": {},
   "outputs": [],
   "source": [
    "#Q5. Create a simple API. Use Postman to test it. Attach the screenshot of the output in the Jupyter Notebook."
   ]
  },
  {
   "cell_type": "code",
   "execution_count": null,
   "id": "e1269e24-cc99-4d9b-9b1e-bc94b2cf9101",
   "metadata": {},
   "outputs": [],
   "source": [
    "from flask import Flask, render_template, request, jsonify, url_for\n",
    "\n",
    "app = Flask(__name__)\n",
    "\n",
    "@app.route(\"/welcome\", methods = ['GET'])\n",
    "def welcome():\n",
    "    return jsonify(\"Welcome to ABC Corporation\")\n",
    "\n",
    "\n",
    "if __name__==\"__main__\":\n",
    "     app.run(host=\"0.0.0.0\")"
   ]
  },
  {
   "cell_type": "code",
   "execution_count": null,
   "id": "7f6d783f-46a2-48b1-ba3d-b49451b86508",
   "metadata": {},
   "outputs": [],
   "source": []
  }
 ],
 "metadata": {
  "kernelspec": {
   "display_name": "Python 3 (ipykernel)",
   "language": "python",
   "name": "python3"
  },
  "language_info": {
   "codemirror_mode": {
    "name": "ipython",
    "version": 3
   },
   "file_extension": ".py",
   "mimetype": "text/x-python",
   "name": "python",
   "nbconvert_exporter": "python",
   "pygments_lexer": "ipython3",
   "version": "3.10.8"
  }
 },
 "nbformat": 4,
 "nbformat_minor": 5
}
