{
 "cells": [
  {
   "cell_type": "markdown",
   "id": "8af081e6-cd39-4f84-a1ca-ebe0db729dc4",
   "metadata": {},
   "source": [
    "Q1. In order to predict house price based on several characteristics, such as location, square footage, number of bedrooms, etc., you are developing an SVM regression model. Which regression metric in this situation would be the best to employ?"
   ]
  },
  {
   "cell_type": "markdown",
   "id": "a1e4512c-c20e-4c17-8f14-25b008213748",
   "metadata": {},
   "source": [
    "Answer1. \n",
    "\n",
    "In the context of SVM regression for predicting house prices, the most appropriate regression metric to employ would be Mean Squared Error (MSE). MSE measures the average squared difference between the predicted house prices and the actual house prices in the dataset. It is commonly used in regression tasks and is sensitive to both the magnitude and direction of errors. Lower MSE values indicate better model performance, as they indicate smaller prediction errors."
   ]
  },
  {
   "cell_type": "markdown",
   "id": "bb195185-ab76-44ea-896d-1de04f2fc263",
   "metadata": {},
   "source": [
    "Q2. You have built an SVM regression model and are trying to decide between using MSE or R-squared as your evaluation metric. Which metric would be more appropriate if your goal is to predict the actual price of a house as accurately as possible?"
   ]
  },
  {
   "cell_type": "markdown",
   "id": "31cb306b-1d19-4887-b100-19012a9c6498",
   "metadata": {},
   "source": [
    "Answer2. \n",
    "\n",
    "If your goal is to predict the actual price of a house as accurately as possible, then MSE (Mean Squared Error) would be the more appropriate evaluation metric. MSE provides a measure of the average squared difference between the predicted and actual house prices. It directly penalizes larger errors and encourages the model to minimize discrepancies between predicted and actual prices.\n",
    "\n",
    "R-squared (Coefficient of Determination) measures the proportion of the variance in the target variable that is explained by the model. While R-squared can provide insights into how well the model explains the variance, it may not be the best choice if the primary focus is on predicting house prices accurately."
   ]
  },
  {
   "cell_type": "markdown",
   "id": "1e80d6f7-0056-47a9-bac6-9357475e6e63",
   "metadata": {},
   "source": [
    "Q3. You have a dataset with a significant number of outliers and are trying to select an appropriate regression metric to use with your SVM model. Which metric would be the most appropriate in this scenario?\n"
   ]
  },
  {
   "cell_type": "markdown",
   "id": "ac828484-149c-4bed-a86d-417290d31135",
   "metadata": {},
   "source": [
    "Answer3.\n",
    "\n",
    "When dealing with a dataset that contains a significant number of outliers, the most appropriate regression metric to use is Mean Absolute Error (MAE). MAE measures the average absolute difference between the predicted and actual values. Unlike MSE, which squares the errors and gives more weight to larger errors, MAE is less sensitive to outliers. It provides a robust measure of prediction error that is less influenced by extreme values."
   ]
  },
  {
   "cell_type": "markdown",
   "id": "b369b2f3-a2a3-4bb8-9390-debc295d4cc3",
   "metadata": {},
   "source": [
    "Q4. You have built an SVM regression model using a polynomial kernel and are trying to select the best metric to evaluate its performance. You have calculated both MSE and RMSE and found that both values are very close. Which metric should you choose to use in this case?"
   ]
  },
  {
   "cell_type": "markdown",
   "id": "b49e8b81-19d1-4d87-9dd7-a9252c3a24be",
   "metadata": {},
   "source": [
    "Answer4.\n",
    "\n",
    "In this case, you should choose to use Root Mean Squared Error (RMSE) as the evaluation metric for your SVM regression model with a polynomial kernel. RMSE is essentially the square root of MSE and has the advantage of being in the same unit as the target variable (house prices), making it more interpretable.\n",
    "\n",
    "Since both MSE and RMSE are very close, either metric can be suitable for evaluating the model's performance. However, RMSE is often preferred when the goal is to provide an easily interpretable measure of prediction error in the original unit of the target variable."
   ]
  },
  {
   "cell_type": "markdown",
   "id": "ebe9246b-6065-4071-bc95-2beed2484e26",
   "metadata": {},
   "source": [
    "Q5. You are comparing the performance of different SVM regression models using different kernels (linear, polynomial, and RBF) and are trying to select the best evaluation metric. Which metric would be most appropriate if your goal is to measure how well the model explains the variance in the target variable?"
   ]
  },
  {
   "cell_type": "markdown",
   "id": "684f19ad-426a-4781-a538-8806f106590a",
   "metadata": {},
   "source": [
    "Answer5. \n",
    "\n",
    "If your goal is to measure how well the model explains the variance in the target variable, the most appropriate evaluation metric is R-squared (Coefficient of Determination). R-squared quantifies the proportion of the variance in the target variable that is explained by the model. It ranges from 0 to 1, where higher values indicate that a larger proportion of the variance is explained.\n",
    "\n",
    "R-squared is particularly useful when comparing models with different kernels because it provides a standardized measure of explanatory power, allowing you to assess how well each model captures the underlying patterns in the data. It helps you understand how much of the variance in the target variable can be attributed to the model's predictions."
   ]
  },
  {
   "cell_type": "code",
   "execution_count": null,
   "id": "89344b17-a89a-4077-9acf-f7f2978d3c78",
   "metadata": {},
   "outputs": [],
   "source": []
  }
 ],
 "metadata": {
  "kernelspec": {
   "display_name": "Python 3 (ipykernel)",
   "language": "python",
   "name": "python3"
  },
  "language_info": {
   "codemirror_mode": {
    "name": "ipython",
    "version": 3
   },
   "file_extension": ".py",
   "mimetype": "text/x-python",
   "name": "python",
   "nbconvert_exporter": "python",
   "pygments_lexer": "ipython3",
   "version": "3.10.8"
  }
 },
 "nbformat": 4,
 "nbformat_minor": 5
}
