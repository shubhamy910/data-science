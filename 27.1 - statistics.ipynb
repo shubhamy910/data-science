{
 "cells": [
  {
   "cell_type": "markdown",
   "id": "df146744-eab9-4816-8b58-80c4f7f7c31e",
   "metadata": {
    "jp-MarkdownHeadingCollapsed": true,
    "tags": []
   },
   "source": [
    "Q1. What is Statistics?"
   ]
  },
  {
   "cell_type": "markdown",
   "id": "447d218f-8338-4d63-b671-5453ef066a6d",
   "metadata": {},
   "source": [
    "Answer1-  Statistics is the science of collecting, organizing and analyzing data."
   ]
  },
  {
   "cell_type": "markdown",
   "id": "92abdfbd-0f3e-4c6c-878d-96d88b4fcc1b",
   "metadata": {},
   "source": [
    "Q2. Define the different types of statistics and give an example of when each type might be used."
   ]
  },
  {
   "cell_type": "markdown",
   "id": "775f8ba7-b810-40c9-b4d5-f1814adf27de",
   "metadata": {},
   "source": [
    "answer2- \n",
    "\n",
    "Descriptive Statistics-: Descriptive statistics involve summarizing and describing the main features of a dataset. It includes measures such as mean, median, mode, standard deviation, and graphs like histograms and box plots. For example, descriptive statistics can be used to summarize the average income of a population.\n",
    "\n",
    "\n",
    "Inferential Statistics-: Inferential statistics involves drawing conclusions or making predictions about a population based on a sample of data. It uses techniques such as hypothesis testing and confidence intervals. For instance, inferential statistics can be used to determine whether a new drug is effective by comparing the results of a control group and a treatment group."
   ]
  },
  {
   "cell_type": "markdown",
   "id": "937ce554-d021-46d9-8dd8-c7abd37a10af",
   "metadata": {},
   "source": [
    "Q3. What are the different types of data and how do they differ from each other? Provide an example of each type of data."
   ]
  },
  {
   "cell_type": "markdown",
   "id": "744ad662-1448-41ef-b7f3-77c3df36cf62",
   "metadata": {},
   "source": [
    "Answer3- There are two main types of data:\n",
    "\n",
    "Qualitative or Categorical Data: Qualitative data consists of non-numerical observations or attributes. It describes qualities or characteristics and can be further divided into nominal and ordinal data.\n",
    "\n",
    "Nominal Data: Nominal data represents categories or labels with no inherent order or ranking. Examples include gender (male, female), colors (red, blue, green), or types of animals (cat, dog, bird).\n",
    "\n",
    "Ordinal Data: Ordinal data also represents categories, but they have a natural order or ranking. For example, ratings such as \"good,\" \"better,\" and \"best\" or educational levels such as \"high school,\" \"bachelor's degree,\" and \"master's degree\" can be considered ordinal data.\n",
    "\n",
    "Quantitative or Numerical Data: Quantitative data consists of numerical measurements or quantities. It can be further classified as discrete or continuous data.\n",
    "\n",
    "Discrete Data: Discrete data represent values that can only take on specific, separate values. For instance, the number of students in a class (1, 2, 3, ...) or the count of cars passing by an intersection during specific time intervals.\n",
    "\n",
    "Continuous Data: Continuous data represent measurements that can take on any value within a specific range. Examples include height, weight, temperature, or time. Continuous data can be further divided into interval or ratio data.\n",
    "\n",
    "Interval Data: Interval data have meaningful intervals between values, but there is no true zero point. An example is temperature measured in Celsius or Fahrenheit.\n",
    "\n",
    "Ratio Data: Ratio data have a meaningful zero point, and ratios between values are meaningful. Examples include height, weight, or income."
   ]
  },
  {
   "cell_type": "markdown",
   "id": "cce88999-6d40-496c-a774-523dff7fcefa",
   "metadata": {},
   "source": [
    "Q4. Categorise the following datasets with respect to quantitative and qualitative data types:\n",
    "\n",
    "(i) Grading in exam: A+, A, B+, B, C+, C, D, E\n",
    "\n",
    "(ii) Colour of mangoes: yellow, green, orange, red\n",
    "\n",
    "(iii) Height data of a class: [178.9, 179, 179.5, 176, 177.2, 178.3, 175.8,...]\n",
    "\n",
    "(iv) Number of mangoes exported by a farm: [500, 600, 478, 672, ...]"
   ]
  },
  {
   "cell_type": "markdown",
   "id": "df68a70f-8af9-422c-a6b7-e5c46ad5c2f9",
   "metadata": {},
   "source": [
    "Answer4-\n",
    "(i) Grading in exam: This dataset represents qualitative data, specifically ordinal data, as the grades have a natural order or ranking. For example, A+ is higher than A, and B+ is higher than B. Therefore, it is an example of ordinal data.\n",
    "\n",
    "(ii) Colour of mangoes: This dataset represents qualitative data, specifically nominal data, as the colors do not have any inherent order or ranking. Each color represents a distinct category without a specific order. Hence, it is an example of nominal data.\n",
    "\n",
    "(iii) Height data of a class: This dataset represents quantitative data, specifically continuous data. The measurements are numeric and can take on any value within a specific range. It is an example of continuous data.\n",
    "\n",
    "(iv) Number of mangoes exported by a farm: This dataset represents quantitative data, specifically discrete data. The values represent counts, and they can only take on specific, separate values (whole numbers). Therefore, it is an example of discrete data."
   ]
  },
  {
   "cell_type": "markdown",
   "id": "1cfa9a7b-43f8-4a04-9c72-f77f39a5c24e",
   "metadata": {},
   "source": [
    "Q5. Explain the concept of levels of measurement and give an example of a variable for each level."
   ]
  },
  {
   "cell_type": "markdown",
   "id": "fbc3fbfd-7a17-4083-b82e-00239d065707",
   "metadata": {},
   "source": [
    "Answer5-\n",
    " Levels of measurement, also known as scales of measurement, refer to the different ways in which variables can be measured or classified. There are four levels of measurement:\n",
    "\n",
    "1.) Nominal Level: Variables at the nominal level are categorical and have no inherent order or ranking. They represent different categories or groups. For example, gender (male/female) is a nominal variable.\n",
    "\n",
    "2.) Ordinal Level: Variables at the ordinal level have categories with a natural order or ranking. The difference between categories is not quantifiable. For instance, a Likert scale measuring agreement levels (strongly disagree, disagree, neutral, agree, strongly agree) is an ordinal variable.\n",
    "\n",
    "3.) Interval Level: Variables at the interval level have ordered categories with equal intervals between them. They do not have a meaningful zero point. An example is temperature measured in Celsius or Fahrenheit.\n",
    "\n",
    "4.) Ratio Level: Variables at the ratio level have ordered categories with equal intervals between them, and they have a meaningful zero point. Ratios between values are meaningful. Examples include height, weight, or income."
   ]
  },
  {
   "cell_type": "markdown",
   "id": "668206ac-de44-4c79-b284-8c74bb9a2765",
   "metadata": {},
   "source": [
    "Q6. Why is it important to understand the level of measurement when analyzing data? Provide an example to illustrate your answer."
   ]
  },
  {
   "cell_type": "markdown",
   "id": "f2a393b3-debd-499e-97e8-35b69770d35d",
   "metadata": {},
   "source": [
    "answer6-  Understanding the level of measurement is important when analyzing data because it determines the appropriate statistical analyses and operations that can be performed. It guides the selection of appropriate summary statistics, graphical displays, and the choice of statistical tests. For example, if a variable is measured at the ordinal level, it would be inappropriate to calculate a mean, but a median would be a suitable measure of central tendency."
   ]
  },
  {
   "cell_type": "markdown",
   "id": "6faa02db-c35e-493e-af4d-43934db15dee",
   "metadata": {},
   "source": [
    "Q7. How nominal data type is different from ordinal data type."
   ]
  },
  {
   "cell_type": "markdown",
   "id": "1f1af3ba-2956-4b70-82da-d5b887570241",
   "metadata": {},
   "source": [
    "Answer7-\n",
    " Nominal data and ordinal data differ in terms of the presence or absence of order or ranking among categories.\n",
    "\n",
    "Nominal Data: Nominal data represent categories without any inherent order or ranking. They are labels or names assigned to different groups. For example, the colors of cars (red, blue, green) are nominal data. In nominal data, the categories are distinct, but no order can be imposed on them.\n",
    "\n",
    "Ordinal Data: Ordinal data represent categories with a natural order or ranking. The categories have a meaningful sequence or hierarchy. For example, survey responses (strongly disagree, disagree, neutral, agree, strongly agree) are ordinal data. In ordinal data, the categories have an order, but the differences between categories may not be uniform or measurable."
   ]
  },
  {
   "cell_type": "markdown",
   "id": "8ef5b973-6ede-4554-810d-f60405e2409a",
   "metadata": {},
   "source": [
    "Q8. Which type of plot can be used to display data in terms of range?"
   ]
  },
  {
   "cell_type": "markdown",
   "id": "233abc55-7a12-4041-8cb4-63f0dfbcf77a",
   "metadata": {},
   "source": [
    "Answer8-\n",
    "A range plot or range chart can be used to display data in terms of range. A range plot shows the minimum and maximum values of a dataset or the range between the highest and lowest values. It provides a visual representation of the spread or variability of the data. For example, a range plot could display the range of daily temperature fluctuations over a month."
   ]
  },
  {
   "cell_type": "markdown",
   "id": "1c6d26b3-064b-4b8b-90bf-dd5448067bf3",
   "metadata": {},
   "source": [
    "Q9. Describe the difference between descriptive and inferential statistics. Give an example of each type of statistics and explain how they are used."
   ]
  },
  {
   "cell_type": "markdown",
   "id": "9f603bf2-d792-4b42-9187-eb2bc7ebd1f5",
   "metadata": {},
   "source": [
    "Answer9-\n",
    "\n",
    "Descriptive statistics and inferential statistics are two branches of statistics that serve different purposes:\n",
    "\n",
    "Descriptive Statistics: Descriptive statistics involves summarizing and describing the main features of a dataset. It focuses on organizing, presenting, and analyzing data to provide a meaningful summary. Descriptive statistics are used to describe the characteristics of a sample or population. Examples of descriptive statistics include calculating the mean, median, mode, standard deviation, or creating graphs like histograms or pie charts. Descriptive statistics are used to provide insights and understand patterns within the data.\n",
    "\n",
    "Inferential Statistics: Inferential statistics involves drawing conclusions or making inferences about a population based on a sample of data. It uses probability theory and statistical methods to make generalizations or predictions. Inferential statistics are used to test hypotheses, estimate population parameters, and determine the significance of relationships or differences. For example, conducting hypothesis tests or constructing confidence intervals are inferential statistical techniques."
   ]
  },
  {
   "cell_type": "markdown",
   "id": "506ecd31-6595-4c4c-951d-f9e1626ad787",
   "metadata": {},
   "source": [
    "Q10. What are some common measures of central tendency and variability used in statistics? Explain how each measure can be used to describe a dataset."
   ]
  },
  {
   "cell_type": "markdown",
   "id": "aa6b2f6c-ea37-4606-a756-cb2ef6b0206b",
   "metadata": {},
   "source": [
    "Answer10-\n",
    "Measures of Central Tendency: Measures of central tendency describe the center or average of a dataset.\n",
    "\n",
    "Mean: The mean is the arithmetic average of a set of values. It is calculated by summing all the values and dividing by the total number of values.\n",
    "\n",
    "Median: The median is the middle value in a dataset when it is arranged in ascending or descending order. It divides the dataset into two equal halves.\n",
    "\n",
    "Mode: The mode is the value or values that appear most frequently in a dataset.\n",
    "\n",
    "Measures of Variability: Measures of variability describe the spread or dispersion of a dataset.\n",
    "\n",
    "Range: The range is the difference between the highest and lowest values in a dataset.\n",
    "\n",
    "Standard Deviation: The standard deviation measures the average distance between each data point and the mean. It quantifies the spread of data around the mean.\n",
    "\n",
    "Variance: The variance is the average of the squared differences between each data point and the mean. It provides a measure of the overall variability of the data.\n",
    "\n",
    "Interquartile Range (IQR): The interquartile range is the difference between the first quartile (25th percentile) and the third quartile (75th percentile) in a dataset. It measures the spread of the middle 50% of the data, disregarding extreme values."
   ]
  },
  {
   "cell_type": "code",
   "execution_count": null,
   "id": "f1a89946-cdf2-41cd-86c4-07edf989f394",
   "metadata": {},
   "outputs": [],
   "source": []
  }
 ],
 "metadata": {
  "kernelspec": {
   "display_name": "Python 3 (ipykernel)",
   "language": "python",
   "name": "python3"
  },
  "language_info": {
   "codemirror_mode": {
    "name": "ipython",
    "version": 3
   },
   "file_extension": ".py",
   "mimetype": "text/x-python",
   "name": "python",
   "nbconvert_exporter": "python",
   "pygments_lexer": "ipython3",
   "version": "3.10.8"
  }
 },
 "nbformat": 4,
 "nbformat_minor": 5
}
