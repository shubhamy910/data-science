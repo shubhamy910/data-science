{
 "cells": [
  {
   "cell_type": "markdown",
   "id": "ac6a7ce8-e21b-4172-841e-c78897d58791",
   "metadata": {},
   "source": [
    "Q1. What are the three measures of central tendency?"
   ]
  },
  {
   "cell_type": "markdown",
   "id": "a48aa981-6905-4ef3-bf7b-17ec2683856c",
   "metadata": {},
   "source": [
    "Answer1- The three measures of central tendency are the mean, median, and mode.\n",
    "\n"
   ]
  },
  {
   "cell_type": "markdown",
   "id": "6278f004-fb18-4175-9967-7fcc12341bdb",
   "metadata": {},
   "source": [
    "Q2. What is the difference between the mean, median, and mode? How are they used to measure the central tendency of a dataset?"
   ]
  },
  {
   "cell_type": "markdown",
   "id": "0e53513c-bffc-427b-ade1-27b5b1ccf160",
   "metadata": {},
   "source": [
    "Answer2- The mean is the arithmetic average of a dataset and is calculated by summing all the values and dividing by the total number of values. It is influenced by extreme values.\n",
    "\n",
    "The median is the middle value in a dataset when it is arranged in ascending or descending order. It divides the dataset into two equal halves and is not affected by extreme values.\n",
    "\n",
    "The mode is the value or values that appear most frequently in a dataset. It can have multiple modes or no mode at all.\n",
    "\n",
    "These measures are used to determine the typical or central value of a dataset. The mean is commonly used when the data is normally distributed and not heavily skewed, while the median is preferred when the data has outliers or is skewed. The mode is useful for categorical or discrete data."
   ]
  },
  {
   "cell_type": "markdown",
   "id": "58761a32-14f3-4f1a-944c-f073548de7e6",
   "metadata": {},
   "source": [
    "Q3. Measure the three measures of central tendency for the given height data:\n",
    "\n",
    "[178,177,176,177,178.2,178,175,179,180,175,178.9,176.2,177,172.5,178,176.5]"
   ]
  },
  {
   "cell_type": "code",
   "execution_count": 1,
   "id": "367e0c33-8bb6-42db-bef2-5d6380df6c83",
   "metadata": {},
   "outputs": [
    {
     "name": "stdout",
     "output_type": "stream",
     "text": [
      "Mean : 177.01875\n",
      "Median : 177.0\n",
      "Mode ModeResult(mode=array([177.]), count=array([3]))\n"
     ]
    },
    {
     "name": "stderr",
     "output_type": "stream",
     "text": [
      "/tmp/ipykernel_110/961083257.py:8: FutureWarning: Unlike other reduction functions (e.g. `skew`, `kurtosis`), the default behavior of `mode` typically preserves the axis it acts along. In SciPy 1.11.0, this behavior will change: the default value of `keepdims` will become False, the `axis` over which the statistic is taken will be eliminated, and the value None will no longer be accepted. Set `keepdims` to True or False to avoid this warning.\n",
      "  mode = stats.mode(data)\n"
     ]
    }
   ],
   "source": [
    "#Answer3-\n",
    "\n",
    "import numpy as np\n",
    "from scipy import stats\n",
    "data = [178,177,176,177,178.2,178,175,179,180,175,178.9,176.2,177,172.5,178,176.5]\n",
    "mean = np.mean(data)\n",
    "median = np.median(data)\n",
    "mode = stats.mode(data)\n",
    "print(\"Mean :\",mean)\n",
    "print(\"Median :\",median)\n",
    "print(\"Mode\",mode)"
   ]
  },
  {
   "cell_type": "markdown",
   "id": "7b8e4112-37bb-4fe3-8091-c12e83591560",
   "metadata": {},
   "source": [
    "Q4. Find the standard deviation for the given data:\n",
    "\n",
    "[178,177,176,177,178.2,178,175,179,180,175,178.9,176.2,177,172.5,178,176.5]"
   ]
  },
  {
   "cell_type": "code",
   "execution_count": 3,
   "id": "ee65e864-6019-48ce-97e7-ed9d8d10608d",
   "metadata": {},
   "outputs": [
    {
     "data": {
      "text/plain": [
       "1.7885814036548633"
      ]
     },
     "execution_count": 3,
     "metadata": {},
     "output_type": "execute_result"
    }
   ],
   "source": [
    "#Answer3-\n",
    "\n",
    "data = [178,177,176,177,178.2,178,175,179,180,175,178.9,176.2,177,172.5,178,176.5]\n",
    "np.std(data)"
   ]
  },
  {
   "cell_type": "markdown",
   "id": "088a5355-9256-4ba2-be0d-234c1a68c934",
   "metadata": {},
   "source": [
    "Q5. How are measures of dispersion such as range, variance, and standard deviation used to describe the spread of a dataset? Provide an example."
   ]
  },
  {
   "cell_type": "markdown",
   "id": "08f51c78-ed3a-4569-bad2-081976d62e54",
   "metadata": {},
   "source": [
    "Answer5 :\n",
    "\n",
    "Range: The range is the difference between the highest and lowest values in a dataset. It provides a simple measure of the spread but is sensitive to extreme values.\n",
    "\n",
    "Variance: Variance measures the average squared difference between each data point and the mean. It quantifies the overall variability of the dataset. A higher variance indicates greater spread.\n",
    "\n",
    "Standard Deviation: The standard deviation is the square root of the variance. It measures the average distance between each data point and the mean. It provides a more interpretable measure of spread compared to variance.\n",
    "\n",
    "For example, consider two datasets of exam scores: Dataset A: [80, 85, 90, 95, 100] Dataset B: [60, 70, 80, 90, 100]\n",
    "\n",
    "Both datasets have the same mean (90) and median (90), indicating similar central tendency. However, the range, variance, and standard deviation will differ:\n",
    "\n",
    "Dataset A: Range = 100 - 80 = 20 Variance = 50 Standard Deviation = sqrt(50) ≈ 7.07\n",
    "\n",
    "Dataset B: Range = 100 - 60 = 40 Variance = 200 Standard Deviation = sqrt(200) ≈ 14.14\n",
    "\n",
    "The measures of dispersion show that Dataset B has a wider spread than Dataset A, with a larger range, variance, and standard deviation."
   ]
  },
  {
   "cell_type": "markdown",
   "id": "3e6412e9-3f3d-4f82-9878-9d0000aa7fcd",
   "metadata": {},
   "source": [
    "Q6. What is a Venn diagram?"
   ]
  },
  {
   "cell_type": "markdown",
   "id": "904232fe-170f-4e50-9620-5c69964fadee",
   "metadata": {},
   "source": [
    "Answer6 : A Venn diagram is a visual representation of the relationships between different sets or groups. It consists of overlapping circles or other shapes that represent the sets. The overlapping regions show the elements that belong to multiple sets, while the non-overlapping regions represent elements exclusive to each set.\n",
    "\n",
    "Venn diagrams are commonly used to illustrate set intersections, unions, and differences. They help in visualizing logical relationships and understanding the overlap or distinctiveness of different categories or data."
   ]
  },
  {
   "cell_type": "markdown",
   "id": "3ccecd2d-ec87-4075-bc0d-2022cfa29f2f",
   "metadata": {},
   "source": [
    "Q7. For the two given sets A = (2,3,4,5,6,7) & B = (0,2,6,8,10).\n",
    "Find: (i) A  ∩ B \n",
    "      (ii) A ⋃ B"
   ]
  },
  {
   "cell_type": "markdown",
   "id": "daf1e08b-0412-470e-88b4-4b4cf4a7d3dc",
   "metadata": {},
   "source": [
    "Answer7 :\n",
    "\n",
    "A ∩ B = {2, 6}\n",
    "\n",
    "A ⋃ B = {0, 2, 3, 4, 5, 6, 7, 8, 10}"
   ]
  },
  {
   "cell_type": "markdown",
   "id": "30197b8e-fb8a-4225-803f-0f7e2200b104",
   "metadata": {},
   "source": [
    "Q8. What do you understand about skewness in data?"
   ]
  },
  {
   "cell_type": "markdown",
   "id": "e28ad55c-8b8b-41cb-bde8-659ca6940147",
   "metadata": {},
   "source": [
    "Answer8 : Skewness in data refers to the asymmetry or lack of symmetry in the distribution of values. It measures the degree and direction of distortion from a symmetrical distribution. Skewness provides information about the tail behavior of the distribution.\n",
    "\n",
    "Positive Skewness: If the distribution has a long right tail and the majority of the data is concentrated on the left side, it is considered positively skewed. The mean is typically greater than the median in a positively skewed distribution.\n",
    "\n",
    "Negative Skewness: If the distribution has a long left tail and the majority of the data is concentrated on the right side, it is considered negatively skewed. The mean is typically less than the median in a negatively skewed distribution."
   ]
  },
  {
   "cell_type": "markdown",
   "id": "f4e1752e-a1c3-4349-8e6f-0ed0659b3cd3",
   "metadata": {},
   "source": [
    "Q9. If a data is right skewed then what will be the position of median with respect to mean?"
   ]
  },
  {
   "cell_type": "markdown",
   "id": "995cd452-94a0-4b00-bc3a-57db6bd62a32",
   "metadata": {},
   "source": [
    "Answer9 : If a data is right skewed, the position of the median will be to the right of the mean. In right-skewed distributions, the mean is pulled towards the longer tail, which leads to the median being greater than the mean.\n"
   ]
  },
  {
   "cell_type": "markdown",
   "id": "18e0be03-b761-4ac7-9508-97651e17416c",
   "metadata": {},
   "source": [
    "Q10. Explain the difference between covariance and correlation. How are these measures used in statistical analysis?"
   ]
  },
  {
   "cell_type": "markdown",
   "id": "18482079-12c6-466c-a612-5984435482e7",
   "metadata": {},
   "source": [
    "Answer10 : Covariance and correlation are both measures of the relationship between two variables, but they differ in terms of scale and interpretation.\n",
    "\n",
    "Covariance: Covariance measures the directional relationship between two variables. It indicates how changes in one variable are associated with changes in another variable. Covariance can take any value, positive or negative, depending on the nature of the relationship. However, it does not provide a standardized measure, making it difficult to compare across different datasets.\n",
    "\n",
    "Correlation: Correlation is a standardized measure of the linear relationship between two variables. It ranges from -1 to 1, where -1 represents a perfect negative correlation, 1 represents a perfect positive correlation, and 0 represents no linear correlation. Correlation provides a more interpretable measure compared to covariance since it is not affected by the scale of the variables.\n",
    "\n",
    "These measures are used in statistical analysis to understand the relationship between variables, assess the strength and direction of the relationship, and make predictions or inferences based on the observed associations."
   ]
  },
  {
   "cell_type": "markdown",
   "id": "08bc9890-a2cc-490c-9942-40924d0d7884",
   "metadata": {},
   "source": [
    "Q11. What is the formula for calculating the sample mean? Provide an example calculation for a dataset. "
   ]
  },
  {
   "cell_type": "markdown",
   "id": "2515d419-be67-4e0b-a680-02777b0f4bb3",
   "metadata": {},
   "source": [
    "Answer11 :\n",
    "\n",
    "Sample Mean (x̄) = (Sum of all the data points) / (Total number of data points)\n",
    "\n",
    "For example, dataset: [5, 10, 15, 20, 25]\n",
    "\n",
    "Sample Mean = (5 + 10 + 15 + 20 + 25) / 5 = 75 / 5 = 15\n"
   ]
  },
  {
   "cell_type": "markdown",
   "id": "75d527ef-99ba-489b-b55f-05d4f7c3ed05",
   "metadata": {},
   "source": [
    "Q12. For a normal distribution data what is the relationship between its measure of central tendency?"
   ]
  },
  {
   "cell_type": "markdown",
   "id": "2e3e795b-a4c7-4126-9eea-c23d17864146",
   "metadata": {},
   "source": [
    "Answer12: In a normal distribution, the mean, median, and mode are all located at the same point. They coincide and are equal, resulting in a symmetrical distribution. This property of a normal distribution is a characteristic feature, and the values of mean, median, and mode are all the same."
   ]
  },
  {
   "cell_type": "markdown",
   "id": "66aea255-cbf0-4572-962f-3b75275e3475",
   "metadata": {},
   "source": [
    "Q13. How is covariance different from correlation?"
   ]
  },
  {
   "cell_type": "markdown",
   "id": "ec13e64b-b440-43cf-84e4-e1787cc97ed5",
   "metadata": {},
   "source": [
    "Answer13 : Covariance: Covariance measures the strength and direction of the linear relationship between two variables. It indicates how changes in one variable are related to changes in another variable. Covariance is affected by the units of the variables, and the magnitude of the covariance is not easily interpretable.\n",
    "\n",
    "Correlation: Correlation is a standardized measure of the linear relationship between two variables. It ranges from -1 to 1, where -1 represents a perfect negative correlation, 1 represents a perfect positive correlation, and 0 represents no linear correlation. Correlation provides a more interpretable measure since it is not affected by the units of the variables and allows for comparison across different datasets.\n",
    "\n",
    "In summary, covariance measures the direction and strength of the relationship between variables, while correlation provides a standardized measure of the relationship that is not influenced by the scale of the variables."
   ]
  },
  {
   "cell_type": "markdown",
   "id": "07ad2957-2cd4-4c6b-8369-4f2785116749",
   "metadata": {},
   "source": [
    "Q14. How do outliers affect measures of central tendency and dispersion? Provide an example."
   ]
  },
  {
   "cell_type": "markdown",
   "id": "3afd397d-6c79-4916-bd38-422ec24f7d97",
   "metadata": {},
   "source": [
    "Answer14 : Outliers can have a significant impact on measures of central tendency and dispersion:\n",
    "\n",
    "Measures of Central Tendency: Outliers can greatly influence the mean, pulling it towards their extreme values. The mean is not a robust measure and is sensitive to outliers. However, the median is less affected by outliers since it only considers the middle value or values. The median is a more robust measure of central tendency in the presence of outliers.\n",
    "\n",
    "Measures of Dispersion: Outliers can substantially impact measures of dispersion, such as the range, variance, and standard deviation. The range is directly affected by outliers since it includes the highest and lowest values. Outliers can increase the variance and standard deviation, as these measures consider the squared differences between each data point and the mean. The presence of outliers can inflate these measures.\n",
    "\n",
    "For example, consider the dataset: [10, 12, 13, 15, 20, 100]. The outlier value of 100 significantly affects the mean, making it higher than the expected central value. The median, on the other hand, is not affected by the outlier and remains closer to the expected central value. Similarly, the presence of the outlier expands the range and increases the variance and standard deviation, indicating higher dispersion in the dataset."
   ]
  },
  {
   "cell_type": "code",
   "execution_count": null,
   "id": "016d9d55-6f15-4771-9f55-c7162f3ffc17",
   "metadata": {},
   "outputs": [],
   "source": []
  }
 ],
 "metadata": {
  "kernelspec": {
   "display_name": "Python 3 (ipykernel)",
   "language": "python",
   "name": "python3"
  },
  "language_info": {
   "codemirror_mode": {
    "name": "ipython",
    "version": 3
   },
   "file_extension": ".py",
   "mimetype": "text/x-python",
   "name": "python",
   "nbconvert_exporter": "python",
   "pygments_lexer": "ipython3",
   "version": "3.10.8"
  }
 },
 "nbformat": 4,
 "nbformat_minor": 5
}
