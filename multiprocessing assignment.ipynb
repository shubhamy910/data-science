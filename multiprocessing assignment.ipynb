{
 "cells": [
  {
   "cell_type": "code",
   "execution_count": 1,
   "id": "63cf212d-aefc-4ef1-82ac-379a6a980b03",
   "metadata": {},
   "outputs": [],
   "source": [
    "#Q1- What is multiprocessing in python? Why is it useful?"
   ]
  },
  {
   "cell_type": "code",
   "execution_count": 2,
   "id": "81f162eb-96d8-4c21-89fd-2b9626057e54",
   "metadata": {},
   "outputs": [],
   "source": [
    "#answer1- Multiprocessing in Python allows running multiple processes concurrently, utilizing multiple processor cores. It is useful because it improves performance by distributing the workload across cores, increases efficiency for CPU-bound tasks, and enables parallelism for faster execution of computationally intensive tasks."
   ]
  },
  {
   "cell_type": "code",
   "execution_count": 4,
   "id": "88c05f22-9a1a-4953-879f-5c1a8cd05924",
   "metadata": {},
   "outputs": [],
   "source": [
    "#Q2- What are the differences between multiprocessing and multithreading?"
   ]
  },
  {
   "cell_type": "code",
   "execution_count": 5,
   "id": "795e4f32-2c56-4532-ada8-2a1ea9554675",
   "metadata": {},
   "outputs": [],
   "source": [
    "#answer2- The differences between multiprocessing and multithreading are -\n",
    "#1- Execution model: Multiprocessing involves running multiple processes simultaneously, each with its own memory space. Multithreading, on the other hand, involves running multiple threads within a single process, sharing the same memory space.\n",
    "\n",
    "#2- Concurrency: In multiprocessing, processes can execute independently and concurrently, making use of multiple processor cores. In multithreading, threads run concurrently within a single process, sharing the CPU time.\n",
    "\n",
    "#3- Memory and data sharing: Processes in multiprocessing have separate memory spaces, and communication between them requires explicit inter-process communication mechanisms like pipes or queues. In multithreading, threads share the same memory space, making it easier to share data between them.\n",
    "\n",
    "#4- Performance: Multiprocessing is suitable for CPU-bound tasks, as it can fully utilize multiple processor cores, resulting in improved performance. Multithreading is more suitable for I/O-bound tasks, as threads can overlap I/O operations while waiting for data, thus maximizing CPU utilization.\n",
    "\n",
    "#5-Complexity and overhead: Multiprocessing typically has higher overhead due to the need for inter-process communication and memory management. Multithreading has lower overhead since threads share the same memory space and have lightweight context switching."
   ]
  },
  {
   "cell_type": "code",
   "execution_count": 6,
   "id": "78c65412-f699-4e1b-99a3-6fb2686bc4b6",
   "metadata": {},
   "outputs": [],
   "source": [
    "#Q3-  Write a python code to create a process using the multiprocessing module."
   ]
  },
  {
   "cell_type": "code",
   "execution_count": 12,
   "id": "f729158c-73a0-46d1-9537-3b672a171d79",
   "metadata": {},
   "outputs": [
    {
     "name": "stdout",
     "output_type": "stream",
     "text": [
      "this is my multiprocessingg process program\n"
     ]
    }
   ],
   "source": [
    "#answer3- \n",
    "\n",
    "import multiprocessing\n",
    "\n",
    "def test():\n",
    "    print(\"this is my multiprocessingg process program\")\n",
    "\n",
    "if __name__ == '__main__':\n",
    "    process = multiprocessing.Process(target=test)\n",
    "    process.start()\n",
    "    process.join()"
   ]
  },
  {
   "cell_type": "code",
   "execution_count": 13,
   "id": "ebdd5b0f-0a8d-41d8-b77c-8aecc2d62806",
   "metadata": {},
   "outputs": [],
   "source": [
    "#Q4- What is a multiprocessing pool in python? Why is it used?"
   ]
  },
  {
   "cell_type": "code",
   "execution_count": 14,
   "id": "d9dc8f10-4e0b-48ed-9ba4-a5ce0c22885d",
   "metadata": {},
   "outputs": [],
   "source": [
    "#answer4- A multiprocessing pool in Python is a feature provided by the multiprocessing module that allows you to create a pool of worker processes. The pool manages a set of worker processes, distributing tasks among them, and returning the results.\n",
    "#multiprocessing pools are used for -:\n",
    "\n",
    "#1- Task distribution: The pool distributes tasks among the worker processes, automatically dividing the workload and assigning tasks to available workers. This helps in parallelizing tasks and utilizing multiple processors efficiently.\n",
    "\n",
    "#2- Process reuse: Instead of creating and terminating a process for each individual task, a pool of worker processes can be created and reused for multiple tasks. This reduces the overhead of process creation and termination, resulting in improved performance.\n",
    "\n",
    "#3- Result management: The pool provides mechanisms to collect and manage the results of the executed tasks. It allows you to retrieve the results in the order of completion or in the order of task submission, making it easier to process the results as needed."
   ]
  },
  {
   "cell_type": "code",
   "execution_count": 16,
   "id": "ebe8bb07-3010-42ea-a81a-771c6d05bce0",
   "metadata": {},
   "outputs": [],
   "source": [
    "#Q5-. How can we create a pool of worker processes in python using the multiprocessing module?"
   ]
  },
  {
   "cell_type": "code",
   "execution_count": 23,
   "id": "bccad556-f1df-4796-8177-6515d51cef2d",
   "metadata": {},
   "outputs": [
    {
     "name": "stdout",
     "output_type": "stream",
     "text": [
      "This is my pool example. This is my pool example. This is my pool example. This is my pool example.     2143\n",
      "\n",
      "\n",
      "\n"
     ]
    }
   ],
   "source": [
    "#answer5- To create a pool of worker processes in Python using the multiprocessing module, you can utilize the multiprocessing.Pool class.\n",
    "#Here are the steps involved:\n",
    "#Import the multiprocessing module: Start by importing the multiprocessing module.\n",
    "#Create a pool: Use the multiprocessing.Pool constructor to create a pool of worker processes. You can specify the number of processes in the pool using the processes argument.\n",
    "#Submit tasks: Use the pool.apply() or pool.map() method to submit tasks to the pool. These methods automatically distribute the tasks among the worker processes in the pool.\n",
    "#Collect results: If needed, use the returned results from the apply() or map() methods to retrieve the results of the executed tasks.\n",
    "#Terminate the pool: please make sure.After all tasks are completed, it is important to call the pool.close() method to indicate that no more tasks will be submitted to the pool. Then, use pool.join() to wait for all the worker processes to finish before terminating the pool.\n",
    "\n",
    "\n",
    "import multiprocessing\n",
    "\n",
    "def worker(number):\n",
    "    print(\"This is my pool example. \" , number)\n",
    "\n",
    "if __name__ == '__main__':\n",
    "    pool = multiprocessing.Pool(processes=5)\n",
    "    numbers = [1, 2, 3, 4]\n",
    "    pool.map(worker, numbers)\n",
    "    pool.close()\n",
    "    pool.join()"
   ]
  },
  {
   "cell_type": "code",
   "execution_count": 24,
   "id": "e92b5847-1dbf-4507-9147-c9ccf521db54",
   "metadata": {},
   "outputs": [],
   "source": [
    "#Q6- Write a python program to create 4 processes, each process should print a different number using the multiprocessing module in python."
   ]
  },
  {
   "cell_type": "code",
   "execution_count": null,
   "id": "0bbf2133-982e-4541-bcf1-e99b9f445311",
   "metadata": {},
   "outputs": [],
   "source": [
    "#answer6- \n",
    "\n",
    "import multiprocessing\n",
    "\n",
    "def print_number(number):\n",
    "    print(f\"Process {number}: {number}\")\n",
    "\n",
    "if __name__ == '__main__':\n",
    "    processes = []\n",
    "    for i in range(4):\n",
    "        process = multiprocessing.Process(target=print_number, args=(i+1,))\n",
    "\n",
    "        \n",
    "        processes.append(process) # Add the process to the list\n",
    "\n",
    "        process.start() # Start the process\n",
    "\n",
    "    for process in processes: # Wait for all processes to finish\n",
    "        process.join()\n",
    "\n",
    "    print(\"All processes finished.\")\n",
    "Process 1: 1"
   ]
  }
 ],
 "metadata": {
  "kernelspec": {
   "display_name": "Python 3 (ipykernel)",
   "language": "python",
   "name": "python3"
  },
  "language_info": {
   "codemirror_mode": {
    "name": "ipython",
    "version": 3
   },
   "file_extension": ".py",
   "mimetype": "text/x-python",
   "name": "python",
   "nbconvert_exporter": "python",
   "pygments_lexer": "ipython3",
   "version": "3.10.8"
  }
 },
 "nbformat": 4,
 "nbformat_minor": 5
}
