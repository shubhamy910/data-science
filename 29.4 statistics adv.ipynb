{
 "cells": [
  {
   "cell_type": "code",
   "execution_count": null,
   "id": "267481d8-24ed-4a06-af23-e6eab827547b",
   "metadata": {},
   "outputs": [],
   "source": []
  },
  {
   "cell_type": "markdown",
   "id": "0d1d28c0-b61a-4cc2-91ed-020f0b5c473c",
   "metadata": {},
   "source": [
    "Q1. Write a Python function that takes in two arrays of data and calculates the F-value for a variance ratio test. The function should return the F-value and the corresponding p-value for the test.\n"
   ]
  },
  {
   "cell_type": "code",
   "execution_count": 2,
   "id": "65bb5475-db6b-420c-aec8-ca283352c76d",
   "metadata": {},
   "outputs": [],
   "source": [
    "#answer1-\n",
    "\n",
    "import numpy as np\n",
    "from scipy.stats import f\n",
    "\n",
    "def variance_ratio_test(data1, data2):\n",
    "    \n",
    "    variance1 = np.var(data1, ddof=1)  \n",
    "    variance2 = np.var(data2, ddof=1)\n",
    "    \n",
    "    f_value = variance1 / variance2\n",
    "    \n",
    "    df1 = len(data1) - 1\n",
    "    df2 = len(data2) - 1\n",
    "    \n",
    "    p_value = 2 * min(f.cdf(f_value, df1, df2), 1 - f.cdf(f_value, df1, df2))\n",
    "    \n",
    "    return f_value, p_value"
   ]
  },
  {
   "cell_type": "markdown",
   "id": "452e50b3-3d28-4fe5-b639-7f3e75d1e037",
   "metadata": {},
   "source": [
    "Q2. Given a significance level of 0.05 and the degrees of freedom for the numerator and denominator of an F-distribution, write a Python function that returns the critical F-value for a two-tailed test.\n"
   ]
  },
  {
   "cell_type": "code",
   "execution_count": 3,
   "id": "0cb33a01-d294-4513-bac3-956cbabd218d",
   "metadata": {},
   "outputs": [],
   "source": [
    "#answer2-\n",
    "\n",
    "from scipy.stats import f\n",
    "\n",
    "def critical_f_value(significance_level, df1, df2):\n",
    "    \n",
    "    critical_value = f.ppf(1 - significance_level / 2, df1, df2)\n",
    "    return critical_value"
   ]
  },
  {
   "cell_type": "markdown",
   "id": "a8dc10d8-bbbb-4e7c-b729-823fbd181a59",
   "metadata": {},
   "source": [
    "Q3. Write a Python program that generates random samples from two normal distributions with known variances and uses an F-test to determine if the variances are equal. The program should output the F- value, degrees of freedom, and p-value for the test.\n"
   ]
  },
  {
   "cell_type": "code",
   "execution_count": 4,
   "id": "2e4c7c63-bc43-4828-a569-9fef55c7e1e6",
   "metadata": {},
   "outputs": [
    {
     "name": "stdout",
     "output_type": "stream",
     "text": [
      "F-Value: 0.7533631781311297\n",
      "Degrees of Freedom: 49 , 49\n",
      "P-Value: 0.3248444670585394\n"
     ]
    }
   ],
   "source": [
    "#answer3-\n",
    "\n",
    "import numpy as np\n",
    "from scipy.stats import f\n",
    "\n",
    "def equal_variance_test(sample1, sample2):\n",
    "    \n",
    "    variance1 = np.var(sample1, ddof=1) \n",
    "    variance2 = np.var(sample2, ddof=1)\n",
    "    \n",
    "   \n",
    "    f_value = variance1 / variance2\n",
    "    \n",
    "   \n",
    "    df1 = len(sample1) - 1\n",
    "    df2 = len(sample2) - 1\n",
    "    \n",
    "    \n",
    "    p_value = 2 * min(f.cdf(f_value, df1, df2), 1 - f.cdf(f_value, df1, df2))\n",
    "    \n",
    "    return f_value, df1, df2, p_value\n",
    "\n",
    "\n",
    "sample1 = np.random.normal(loc=0, scale=1, size=50)\n",
    "sample2 = np.random.normal(loc=0, scale=1, size=50)\n",
    "\n",
    "f_value, df1, df2, p_value = equal_variance_test(sample1, sample2)\n",
    "print(\"F-Value:\", f_value)\n",
    "print(\"Degrees of Freedom:\", df1, \",\", df2)\n",
    "print(\"P-Value:\", p_value)"
   ]
  },
  {
   "cell_type": "markdown",
   "id": "eb372339-0958-4e88-a01c-dfbfde40cc80",
   "metadata": {},
   "source": [
    "Q4.The variances of two populations are known to be 10 and 15. A sample of 12 observations is taken from each population. Conduct an F-test at the 5% significance level to determine if the variances are significantly different.\n"
   ]
  },
  {
   "cell_type": "code",
   "execution_count": 5,
   "id": "ad911af2-a34c-4f15-861b-1b6b1693b44a",
   "metadata": {},
   "outputs": [
    {
     "name": "stdout",
     "output_type": "stream",
     "text": [
      "Fail to reject the null hypothesis. Variances are not significantly different.\n"
     ]
    }
   ],
   "source": [
    "#answer4-\n",
    "\n",
    "from scipy.stats import f\n",
    "\n",
    "def f_test_for_variances(variance1, variance2, sample_size1, sample_size2, significance_level):\n",
    "    \n",
    "    df1 = sample_size1 - 1\n",
    "    df2 = sample_size2 - 1\n",
    "    \n",
    "    f_value = variance1 / variance2\n",
    "    \n",
    "    critical_value = f.ppf(1 - significance_level, df1, df2)\n",
    "    \n",
    "    if f_value > critical_value:\n",
    "        print(\"Reject the null hypothesis. Variances are significantly different.\")\n",
    "    else:\n",
    "        print(\"Fail to reject the null hypothesis. Variances are not significantly different.\")\n",
    "\n",
    "variance1 = 10\n",
    "variance2 = 15\n",
    "sample_size1 = 12\n",
    "sample_size2 = 12\n",
    "significance_level = 0.05\n",
    "\n",
    "f_test_for_variances(variance1, variance2, sample_size1, sample_size2, significance_level)"
   ]
  },
  {
   "cell_type": "markdown",
   "id": "a5a4e1ff-7a3b-4dcc-bf1a-44232f57a74d",
   "metadata": {},
   "source": [
    "Q5. A manufacturer claims that the variance of the diameter of a certain product is 0.005. A sample of 25 products is taken, and the sample variance is found to be 0.006. Conduct an F-test at the 1% significance level to determine if the claim is justified.\n"
   ]
  },
  {
   "cell_type": "markdown",
   "id": "c95c7a75-82e7-484b-bd79-4591ad54b3bc",
   "metadata": {},
   "source": [
    "#answer5-\n",
    "\n",
    "from scipy.stats import f\n",
    "\n",
    "def f_test_for_claim(sample_variance, sample_size, claimed_variance, significance_level):\n",
    "    \n",
    "    df1 = sample_size - 1\n",
    "    df2 = sample_size - 1\n",
    "    \n",
    "    f_value = sample_variance / claimed_variance\n",
    "    \n",
    "    critical_value = f.ppf(1 - significance_level, df1, df2)\n",
    "    \n",
    "    if f_value > critical_value:\n",
    "        print(\"Reject the null hypothesis. The claim is not justified.\")\n",
    "    else:\n",
    "        print(\"Fail to reject the null hypothesis. The claim is justified.\")\n",
    "\n",
    "sample_variance = 0.006\n",
    "sample_size = 25\n",
    "claimed_variance = 0.005\n",
    "significance_level = 0.01\n",
    "\n",
    "f_test_for_claim(sample_variance, sample_size, claimed_variance, significance_level)"
   ]
  },
  {
   "cell_type": "markdown",
   "id": "af4e85dc-67a3-4ebf-91af-d836358ccc44",
   "metadata": {},
   "source": [
    "Q6. Write a Python function that takes in the degrees of freedom for the numerator and denominator of an F-distribution and calculates the mean and variance of the distribution. The function should return the mean and variance as a tuple.\n"
   ]
  },
  {
   "cell_type": "code",
   "execution_count": 8,
   "id": "ad344871-c215-4efe-9754-aa3131a1ed88",
   "metadata": {},
   "outputs": [
    {
     "name": "stdout",
     "output_type": "stream",
     "text": [
      "Mean of F-distribution: 1.25\n",
      "Variance of F-distribution: 1.3541666666666667\n"
     ]
    }
   ],
   "source": [
    "#answer6-\n",
    "\n",
    "from scipy.stats import f\n",
    "\n",
    "def f_distribution_stats(df1, df2):\n",
    "   \n",
    "    mean = df2 / (df2 - 2)\n",
    "    \n",
    "    variance = (2 * df2**2 * (df1 + df2 - 2)) / (df1 * (df2 - 2)**2 * (df2 - 4))\n",
    "    \n",
    "    return mean, variance\n",
    "\n",
    "df1 = 5\n",
    "df2 = 10\n",
    "mean, variance = f_distribution_stats(df1, df2)\n",
    "print(\"Mean of F-distribution:\", mean)\n",
    "print(\"Variance of F-distribution:\", variance)"
   ]
  },
  {
   "cell_type": "markdown",
   "id": "4295e86a-da2e-4f44-a238-39662dd0ee17",
   "metadata": {},
   "source": [
    "Q7. A random sample of 10 measurements is taken from a normal population with unknown variance. The sample variance is found to be 25. Another random sample of 15 measurements is taken from another normal population with unknown variance, and the sample variance is found to be 20. Conduct an F-test at the 10% significance level to determine if the variances are significantly different.\n"
   ]
  },
  {
   "cell_type": "code",
   "execution_count": 9,
   "id": "53e8b07e-59b4-4a82-9ecd-60dff5841be0",
   "metadata": {},
   "outputs": [
    {
     "name": "stdout",
     "output_type": "stream",
     "text": [
      "Fail to reject the null hypothesis. Variances are not significantly different.\n"
     ]
    }
   ],
   "source": [
    "#answer7-\n",
    "\n",
    "from scipy.stats import f\n",
    "\n",
    "def f_test_for_different_variances(sample_variance1, sample_size1, sample_variance2, sample_size2, significance_level):\n",
    "   \n",
    "    df1 = sample_size1 - 1\n",
    "    df2 = sample_size2 - 1\n",
    "    \n",
    "    f_value = sample_variance1 / sample_variance2\n",
    "    \n",
    "    critical_value = f.ppf(1 - significance_level, df1, df2)\n",
    "    \n",
    "    if f_value > critical_value:\n",
    "        print(\"Reject the null hypothesis. Variances are significantly different.\")\n",
    "    else:\n",
    "        print(\"Fail to reject the null hypothesis. Variances are not significantly different.\")\n",
    "\n",
    "sample_variance1 = 25\n",
    "sample_size1 = 10\n",
    "sample_variance2 = 20\n",
    "sample_size2 = 15\n",
    "significance_level = 0.1\n",
    "\n",
    "f_test_for_different_variances(sample_variance1, sample_size1, sample_variance2, sample_size2, significance_level)"
   ]
  },
  {
   "cell_type": "markdown",
   "id": "e1f2fcf3-9292-420a-b99e-4f650a00d291",
   "metadata": {},
   "source": [
    "Q8. The following data represent the waiting times in minutes at two different restaurants on a Saturday night: Restaurant A: 24, 25, 28, 23, 22, 20, 27; Restaurant B: 31, 33, 35, 30, 32, 36. Conduct an F-test at the 5% significance level to determine if the variances are significantly different.\n"
   ]
  },
  {
   "cell_type": "code",
   "execution_count": 10,
   "id": "a683bb8a-98a2-4d5d-a8ce-f04987724776",
   "metadata": {},
   "outputs": [
    {
     "name": "stdout",
     "output_type": "stream",
     "text": [
      "Fail to reject the null hypothesis. Variances are not significantly different.\n"
     ]
    }
   ],
   "source": [
    "#answer8-\n",
    "\n",
    "from scipy.stats import f\n",
    "\n",
    "def f_test_for_different_variances(sample1, sample2, significance_level):\n",
    "    \n",
    "    variance1 = np.var(sample1, ddof=1)  \n",
    "    variance2 = np.var(sample2, ddof=1)\n",
    "    \n",
    "    df1 = len(sample1) - 1\n",
    "    df2 = len(sample2) - 1\n",
    "    \n",
    "    f_value = variance1 / variance2\n",
    "    \n",
    "    critical_value = f.ppf(1 - significance_level, df1, df2)\n",
    "    \n",
    "    if f_value > critical_value:\n",
    "        print(\"Reject the null hypothesis. Variances are significantly different.\")\n",
    "    else:\n",
    "        print(\"Fail to reject the null hypothesis. Variances are not significantly different.\")\n",
    "\n",
    "restaurant_A = [24, 25, 28, 23, 22, 20, 27]\n",
    "restaurant_B = [31, 33, 35, 30, 32, 36]\n",
    "significance_level = 0.05\n",
    "\n",
    "f_test_for_different_variances(restaurant_A, restaurant_B, significance_level)"
   ]
  },
  {
   "cell_type": "markdown",
   "id": "1c98d0cc-25ac-4c6c-9b83-13409ce57e30",
   "metadata": {},
   "source": [
    "Q9. The following data represent the test scores of two groups of students: Group A: 80, 85, 90, 92, 87, 83; Group B: 75, 78, 82, 79, 81, 84. Conduct an F-test at the 1% significance level to determine if the variances are significantly different.\n"
   ]
  },
  {
   "cell_type": "code",
   "execution_count": 11,
   "id": "8b08b75c-a8c1-49c4-899f-cf6f24bb0366",
   "metadata": {},
   "outputs": [
    {
     "name": "stdout",
     "output_type": "stream",
     "text": [
      "Fail to reject the null hypothesis. Variances are not significantly different.\n"
     ]
    }
   ],
   "source": [
    "#answer9-\n",
    "\n",
    "from scipy.stats import f\n",
    "\n",
    "def f_test_for_different_variances(sample1, sample2, significance_level):\n",
    "    \n",
    "    variance1 = np.var(sample1, ddof=1) \n",
    "    variance2 = np.var(sample2, ddof=1)\n",
    "    \n",
    "    df1 = len(sample1) - 1\n",
    "    df2 = len(sample2) - 1\n",
    "    \n",
    "    f_value = variance1 / variance2\n",
    "    \n",
    "    critical_value = f.ppf(1 - significance_level, df1, df2)\n",
    "    \n",
    "    if f_value > critical_value:\n",
    "        print(\"Reject the null hypothesis. Variances are significantly different.\")\n",
    "    else:\n",
    "        print(\"Fail to reject the null hypothesis. Variances are not significantly different.\")\n",
    "\n",
    "group_A = [80, 85, 90, 92, 87, 83]\n",
    "group_B = [75, 78, 82, 79, 81, 84]\n",
    "significance_level = 0.01\n",
    "\n",
    "f_test_for_different_variances(group_A, group_B, significance_level)"
   ]
  },
  {
   "cell_type": "markdown",
   "id": "952fa3ae-fb2f-4a60-8eef-4e5d1cdfd8b7",
   "metadata": {},
   "source": [
    "."
   ]
  },
  {
   "cell_type": "code",
   "execution_count": null,
   "id": "236fb81b-7f7d-4937-8767-9908b4cba295",
   "metadata": {},
   "outputs": [],
   "source": []
  }
 ],
 "metadata": {
  "kernelspec": {
   "display_name": "Python 3 (ipykernel)",
   "language": "python",
   "name": "python3"
  },
  "language_info": {
   "codemirror_mode": {
    "name": "ipython",
    "version": 3
   },
   "file_extension": ".py",
   "mimetype": "text/x-python",
   "name": "python",
   "nbconvert_exporter": "python",
   "pygments_lexer": "ipython3",
   "version": "3.10.8"
  }
 },
 "nbformat": 4,
 "nbformat_minor": 5
}
