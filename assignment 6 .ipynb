{
 "cells": [
  {
   "cell_type": "code",
   "execution_count": 1,
   "id": "80864c00-1ae9-4783-8727-a3cbbc99091f",
   "metadata": {},
   "outputs": [],
   "source": [
    "#Q1-  Explain Class and Object with respect to Object-Oriented Programming. Give a suitable example"
   ]
  },
  {
   "cell_type": "code",
   "execution_count": 2,
   "id": "94c63666-a2d7-4296-9ace-4490a1ad9cae",
   "metadata": {},
   "outputs": [],
   "source": [
    "#answer1- \n",
    "#        class - A class is a blueprint that defines variablesand methods common to all objects of a certain kind. A class description consist of two things :1- attribute or member variable, 2- implementations of behaviour or member function.\n",
    "#        object - An Object is an single instance of a class, which contains data and methods working on that data. So an object consist of three things: 1- Name - This as a variable name that represent the data. 2- Member Data - The Data that describes the Object. 3- Member Method - Behaviour that describes the Object.\n",
    "#for example - a mobile phones has attributes like a brand name,RAM and functionslike texting,calling. Thus the moble phones is the (CLASS) of variour phones(THE OBJECT).\n"
   ]
  },
  {
   "cell_type": "code",
   "execution_count": 3,
   "id": "516fce8f-9cb9-4e89-87b0-fe75c54bde66",
   "metadata": {},
   "outputs": [],
   "source": [
    "#Q2- . Name the four pillars of OOPs"
   ]
  },
  {
   "cell_type": "code",
   "execution_count": 4,
   "id": "154b3ffc-a719-41c0-b3c0-73779cefcf02",
   "metadata": {},
   "outputs": [],
   "source": [
    "#answer2- The Four pillars of OOPs are abstraction, encapsulation, inheritance, and polymorphism, are integral to understanding and using OOP. "
   ]
  },
  {
   "cell_type": "code",
   "execution_count": 12,
   "id": "47a9ff9b-ca8c-48a3-b585-b42abebbcbb8",
   "metadata": {},
   "outputs": [],
   "source": [
    "#Q3-  Explain why the __init__() function is used. Give a suitable example"
   ]
  },
  {
   "cell_type": "code",
   "execution_count": 13,
   "id": "283ced2e-2e07-4687-a38b-05b9790d4e4a",
   "metadata": {},
   "outputs": [],
   "source": [
    "#answer3- the __init__() function to assign values to object properties, or other operations that are necessary to do when the object is being created.\n",
    "\n",
    "class pwskills :\n",
    "    def __init__(self,name,mobile_number):\n",
    "        self.name = name\n",
    "        self.mobile_number = mobile_number\n",
    "    "
   ]
  },
  {
   "cell_type": "code",
   "execution_count": 14,
   "id": "a6999719-b886-4ae4-8932-74a91d2606b0",
   "metadata": {},
   "outputs": [],
   "source": [
    "student = pwskills(\"rohan\",987654321)"
   ]
  },
  {
   "cell_type": "code",
   "execution_count": 15,
   "id": "b2da3fc0-359d-46b7-a941-7a1c106ee1af",
   "metadata": {},
   "outputs": [
    {
     "data": {
      "text/plain": [
       "987654321"
      ]
     },
     "execution_count": 15,
     "metadata": {},
     "output_type": "execute_result"
    }
   ],
   "source": [
    "student.mobile_number"
   ]
  },
  {
   "cell_type": "code",
   "execution_count": 16,
   "id": "c99fcaa0-9e7a-4dbb-9dc9-c4a20c3ac522",
   "metadata": {},
   "outputs": [
    {
     "data": {
      "text/plain": [
       "'rohan'"
      ]
     },
     "execution_count": 16,
     "metadata": {},
     "output_type": "execute_result"
    }
   ],
   "source": [
    "student.name"
   ]
  },
  {
   "cell_type": "code",
   "execution_count": 17,
   "id": "c7e3a664-da01-4d1b-b5e5-27659f2c3dfa",
   "metadata": {},
   "outputs": [],
   "source": [
    "#Q4- Why self is used in OOPs?"
   ]
  },
  {
   "cell_type": "code",
   "execution_count": 18,
   "id": "6986de4c-0722-4770-b4dc-88fb81bfd813",
   "metadata": {},
   "outputs": [],
   "source": [
    "#answer4- The self is used to represent the instance of the class. With this keyword, you can access the attributes and methods of the class in python. It binds the attributes with the given arguments. The reason why we use self is that Python does not use the '@' syntax to refer to instance attributes."
   ]
  },
  {
   "cell_type": "code",
   "execution_count": 19,
   "id": "9cc36617-6451-4f55-aa35-d32a8cfd38af",
   "metadata": {},
   "outputs": [],
   "source": [
    "#Q5. What is inheritance? Give an example for each type of inheritance"
   ]
  },
  {
   "cell_type": "code",
   "execution_count": 20,
   "id": "80e9dc4d-57a9-4946-8f14-4e06bb3fa1d2",
   "metadata": {},
   "outputs": [],
   "source": [
    "#answer5 - Inheritance is the ability of one class to inherit another class. Inheritance provides reusability of code and allows us to create complex and real-world-like relationships among objects.\n",
    "#Types of inheritance are :-"
   ]
  },
  {
   "cell_type": "code",
   "execution_count": 29,
   "id": "4c78211b-5764-49a3-8a6a-1c6f67609bc0",
   "metadata": {},
   "outputs": [],
   "source": [
    "#1- Single Inheritance\n",
    "class parent :\n",
    "    def func(self):\n",
    "        return \"this function is in parent class\"\n",
    "    \n",
    "class child (parent) :\n",
    "    pass\n",
    "    "
   ]
  },
  {
   "cell_type": "code",
   "execution_count": 30,
   "id": "e1b79130-442d-42ea-ac0a-f28503d3fa44",
   "metadata": {},
   "outputs": [],
   "source": [
    "obj = child()"
   ]
  },
  {
   "cell_type": "code",
   "execution_count": 31,
   "id": "4256bcdb-7e4a-4a16-8cae-c0bbafd2b881",
   "metadata": {},
   "outputs": [
    {
     "data": {
      "text/plain": [
       "'this function is in parent class'"
      ]
     },
     "execution_count": 31,
     "metadata": {},
     "output_type": "execute_result"
    }
   ],
   "source": [
    "obj.func()"
   ]
  },
  {
   "cell_type": "code",
   "execution_count": 56,
   "id": "2f7285d8-5a05-4614-87fa-8c414adfde0b",
   "metadata": {},
   "outputs": [],
   "source": [
    "#2- Multiple Inheritance: \n",
    "\n",
    "class class1 :\n",
    "    def test_class1(self):\n",
    "        return \"this is class 1\"\n",
    "    \n",
    "class class2:\n",
    "    def test_class2(self):\n",
    "        return \"this is class 2\"\n",
    "    \n",
    "class class3 (class1, class2) :\n",
    "    pass"
   ]
  },
  {
   "cell_type": "code",
   "execution_count": 57,
   "id": "bccbf168-d32b-4348-8613-52bf82721c2c",
   "metadata": {},
   "outputs": [],
   "source": [
    "obj = class3()"
   ]
  },
  {
   "cell_type": "code",
   "execution_count": 59,
   "id": "4a4bb260-5fd0-4c31-ac84-9792c8e0bcee",
   "metadata": {},
   "outputs": [
    {
     "data": {
      "text/plain": [
       "'this is class 1'"
      ]
     },
     "execution_count": 59,
     "metadata": {},
     "output_type": "execute_result"
    }
   ],
   "source": [
    "obj.test_class1()"
   ]
  },
  {
   "cell_type": "code",
   "execution_count": 60,
   "id": "fdbe087c-6a46-4f2e-a531-d61790ceed61",
   "metadata": {},
   "outputs": [
    {
     "data": {
      "text/plain": [
       "'this is class 2'"
      ]
     },
     "execution_count": 60,
     "metadata": {},
     "output_type": "execute_result"
    }
   ],
   "source": [
    "obj.test_class2()"
   ]
  },
  {
   "cell_type": "code",
   "execution_count": 77,
   "id": "29d87d40-6137-4193-9036-97033c8db7c6",
   "metadata": {},
   "outputs": [],
   "source": [
    "#3- Multilevel Inheritance :\n",
    "\n",
    "class grandfather:\n",
    "    def grandfather_name(self):\n",
    "        print (\"my grandfather name is ram mohan\")\n",
    "        \n",
    "class father(grandfather):\n",
    "    def father_name(self):\n",
    "        print(\"my father name is shyam\")\n",
    "        \n",
    "class son(father):\n",
    "    def son_name(self):\n",
    "        print(\"my name is sudh\")\n"
   ]
  },
  {
   "cell_type": "code",
   "execution_count": 78,
   "id": "895aca89-11d6-42a4-94ef-9ec533051c76",
   "metadata": {},
   "outputs": [],
   "source": [
    "obj_1 = son()"
   ]
  },
  {
   "cell_type": "code",
   "execution_count": 81,
   "id": "2e8050df-267e-4b44-a70a-9c3d9e5a8297",
   "metadata": {},
   "outputs": [
    {
     "name": "stdout",
     "output_type": "stream",
     "text": [
      "my grandfather name is ram mohan\n"
     ]
    }
   ],
   "source": [
    "obj_1.grandfather_name()"
   ]
  },
  {
   "cell_type": "code",
   "execution_count": 82,
   "id": "98d410b8-8722-4335-a06c-9a6d02a251db",
   "metadata": {},
   "outputs": [
    {
     "name": "stdout",
     "output_type": "stream",
     "text": [
      "my father name is shyam\n"
     ]
    }
   ],
   "source": [
    "obj_1.father_name()"
   ]
  },
  {
   "cell_type": "code",
   "execution_count": 83,
   "id": "037ad255-3b0c-4525-baab-29d7a94e69a4",
   "metadata": {},
   "outputs": [
    {
     "name": "stdout",
     "output_type": "stream",
     "text": [
      "my name is sudh\n"
     ]
    }
   ],
   "source": [
    "obj_1.son_name()"
   ]
  },
  {
   "cell_type": "code",
   "execution_count": 86,
   "id": "dc6df114-895a-4e0d-a61e-69c066281e64",
   "metadata": {},
   "outputs": [],
   "source": [
    "#4- Hierarchical Inheritance: \n",
    "\n",
    "class parent :\n",
    "    def func1(self):\n",
    "        print(\"this is parent class\")\n",
    "        \n",
    "class child1(parent):\n",
    "    def func2(self):\n",
    "        print(\"this finction is child1 class\")\n",
    "        \n",
    "class child2(parent):\n",
    "    def func3(self):\n",
    "        print(\"this finction is child2 class\")\n",
    "        \n"
   ]
  },
  {
   "cell_type": "code",
   "execution_count": 93,
   "id": "5cb62581-ee07-45ca-96d3-10c191e59da2",
   "metadata": {},
   "outputs": [],
   "source": [
    "object_1 = child1()"
   ]
  },
  {
   "cell_type": "code",
   "execution_count": 94,
   "id": "adbb2974-8109-4f84-aa39-c59bfee6acd7",
   "metadata": {},
   "outputs": [],
   "source": [
    "object_2 = child2()"
   ]
  },
  {
   "cell_type": "code",
   "execution_count": 97,
   "id": "efa73860-5920-4aff-9c9c-289fff7301eb",
   "metadata": {},
   "outputs": [
    {
     "name": "stdout",
     "output_type": "stream",
     "text": [
      "this is parent class\n"
     ]
    }
   ],
   "source": [
    "object_1.func1()"
   ]
  },
  {
   "cell_type": "code",
   "execution_count": 100,
   "id": "91774ebc-e6ac-4c3d-a2ab-b6114550c726",
   "metadata": {},
   "outputs": [
    {
     "name": "stdout",
     "output_type": "stream",
     "text": [
      "this finction is child1 class\n"
     ]
    }
   ],
   "source": [
    "object_1.func2()"
   ]
  },
  {
   "cell_type": "code",
   "execution_count": 92,
   "id": "1a9220d0-eaf3-452e-a177-73801c9dcd5c",
   "metadata": {},
   "outputs": [
    {
     "name": "stdout",
     "output_type": "stream",
     "text": [
      "this is parent class\n"
     ]
    }
   ],
   "source": [
    "object_2.func1()"
   ]
  },
  {
   "cell_type": "code",
   "execution_count": null,
   "id": "96951223-4949-4349-a598-4ab04e5e4704",
   "metadata": {},
   "outputs": [],
   "source": [
    "object_2."
   ]
  }
 ],
 "metadata": {
  "kernelspec": {
   "display_name": "Python 3 (ipykernel)",
   "language": "python",
   "name": "python3"
  },
  "language_info": {
   "codemirror_mode": {
    "name": "ipython",
    "version": 3
   },
   "file_extension": ".py",
   "mimetype": "text/x-python",
   "name": "python",
   "nbconvert_exporter": "python",
   "pygments_lexer": "ipython3",
   "version": "3.10.8"
  }
 },
 "nbformat": 4,
 "nbformat_minor": 5
}
