{
 "cells": [
  {
   "cell_type": "markdown",
   "id": "44062b86-786b-4594-9e03-253ac5f8a9c5",
   "metadata": {},
   "source": [
    "Q1. What is the difference between Ordinal Encoding and Label Encoding? Provide an example of when you might choose one over the other."
   ]
  },
  {
   "cell_type": "markdown",
   "id": "ff1302b0-7dfa-41d3-8853-e445a52cad5b",
   "metadata": {},
   "source": [
    "Answer1.\n",
    "\n",
    "Ordinal Encoding: Ordinal encoding is used for categorical variables where there is a clear order or ranking among the categories. It assigns numerical values to categories in a way that reflects this order. For example, in the \"Education Level\" feature, you might assign values like 1 for \"High School,\" 2 for \"Bachelor's,\" 3 for \"Master's,\" and 4 for \"PhD\" to represent the increasing level of education.\n",
    "\n",
    "Label Encoding: Label encoding is used for categorical variables with no inherent order. It assigns unique numerical labels to each category, often starting from 0. For example, in a \"Color\" feature with values \"Red,\" \"Green,\" and \"Blue,\" you might assign 0 to \"Red,\" 1 to \"Green,\" and 2 to \"Blue.\"\n",
    "\n",
    "Choose ordinal encoding when there is a meaningful order among the categories, and this order is relevant to the problem you are trying to solve. Choose label encoding when there is no such order, and the categories are treated as distinct labels."
   ]
  },
  {
   "cell_type": "markdown",
   "id": "723af0f0-04dc-47d0-867f-572833bc49e9",
   "metadata": {},
   "source": [
    "Q2. Explain how Target Guided Ordinal Encoding works and provide an example of when you might use it in a machine learning project.\n"
   ]
  },
  {
   "cell_type": "markdown",
   "id": "0324ecf1-de1c-4467-ab1a-89985a13e319",
   "metadata": {},
   "source": [
    "Answer2.\n",
    "\n",
    "Target Guided Ordinal Encoding is a technique used for ordinal encoding where the encoding of categories is based on the relationship between the categorical feature and the target variable. Here's how it works:\n",
    "\n",
    "1. Calculate the mean (or any suitable aggregation) of the target variable for each category of the categorical feature.\n",
    "2. Sort the categories based on the calculated means in ascending or descending order.\n",
    "3. Assign ordinal labels to the categories according to their order in the sorted list.\n",
    "\n",
    "This encoding method can capture the relationship between the categorical feature and the target variable, potentially improving the model's performance.\n",
    "\n",
    "Example: In a customer churn prediction project, you have a \"Customer Segment\" feature with categories like \"High-Value,\" \"Medium-Value,\" and \"Low-Value.\" You can use Target Guided Ordinal Encoding to assign labels based on the average churn rate for each segment. This encoding reflects the impact of customer segments on churn, potentially helping the model make more informed predictions"
   ]
  },
  {
   "cell_type": "markdown",
   "id": "dcf91dd0-33d8-46fc-9de0-2a535b9c246f",
   "metadata": {},
   "source": [
    "Q3. Define covariance and explain why it is important in statistical analysis. How is covariance calculated?\n"
   ]
  },
  {
   "cell_type": "markdown",
   "id": "746f70a7-97b6-459b-900d-53980935af79",
   "metadata": {},
   "source": [
    "\n",
    "Answer3. Covariance is a statistical measure that quantifies the degree to which two random variables change together. It indicates whether an increase in one variable corresponds to an increase or decrease in another variable. In other words, it measures the linear relationship between two variables.\n",
    "\n",
    "Importance of covariance in statistical analysis:\n",
    "\n",
    "- Covariance is crucial for understanding the relationships between variables. Positive covariance implies that when one variable increases, the other tends to increase, while negative covariance indicates that when one variable increases, the other tends to decrease.\n",
    "- It plays a role in portfolio management and finance, where it measures the relationship between the returns of different assets. A positive covariance between two assets suggests they may move in the same direction, while a negative covariance implies they move in opposite directions.\n",
    "- Covariance is a component in calculating the correlation coefficient, which measures the strength and direction of a linear relationship between two variables.\n",
    "Covariance between two variables X and Y is calculated using the following formula:\n",
    "\n",
    "Cov(X,Y) = sigma i running from 1 to n ((Xi-X)(Yi-Y)/n-1)\n",
    "\n",
    "Where:\n",
    "\n",
    "- Xi and Yi are individual data points for variables X and Y.\n",
    "- X and Y are the means (average) of variables X and Y, respectively.\n",
    "- n is the number of data points."
   ]
  },
  {
   "cell_type": "markdown",
   "id": "2b25560d-3cf8-4b07-af3e-84fde88ff8df",
   "metadata": {},
   "source": [
    "Q4. For a dataset with the following categorical variables: Color (red, green, blue), Size (small, medium, large), and Material (wood, metal, plastic), perform label encoding using Python's scikit-learn library. Show your code and explain the output."
   ]
  },
  {
   "cell_type": "code",
   "execution_count": 1,
   "id": "fe9e2db3-0669-4bb7-b9ba-48470e6c8b10",
   "metadata": {},
   "outputs": [
    {
     "name": "stdout",
     "output_type": "stream",
     "text": [
      "   Color  Size  Material\n",
      "0      2     2         2\n",
      "1      1     1         0\n",
      "2      0     0         1\n",
      "3      2     1         0\n",
      "4      1     2         1\n"
     ]
    }
   ],
   "source": [
    "import pandas as pd\n",
    "from sklearn.preprocessing import LabelEncoder\n",
    "\n",
    "data = {'Color': ['red', 'green', 'blue', 'red', 'green'],\n",
    "    'Size': ['small', 'medium', 'large', 'medium', 'small'],\n",
    "    'Material': ['wood', 'metal', 'plastic', 'metal', 'plastic']}\n",
    "\n",
    "df = pd.DataFrame(data)\n",
    "\n",
    "label_encoder = LabelEncoder()\n",
    "\n",
    "for column in df.columns:\n",
    "    df[column] = label_encoder.fit_transform(df[column])\n",
    "\n",
    "print(df)"
   ]
  },
  {
   "cell_type": "markdown",
   "id": "8f0ccbcf-5127-4758-912c-7c35b5f73b22",
   "metadata": {},
   "source": [
    "Q5. Calculate the covariance matrix for the following variables in a dataset: Age, Income, and Education level. Interpret the results.\n"
   ]
  },
  {
   "cell_type": "code",
   "execution_count": 4,
   "id": "0495dc02-f120-44b9-90ac-55823126c9b3",
   "metadata": {},
   "outputs": [
    {
     "name": "stdout",
     "output_type": "stream",
     "text": [
      "[[6.25e+01 1.25e+05 2.25e+01]\n",
      " [1.25e+05 2.55e+08 4.25e+04]\n",
      " [2.25e+01 4.25e+04 1.00e+01]]\n"
     ]
    }
   ],
   "source": [
    "import numpy as np\n",
    "\n",
    "age = [25, 30, 35, 40, 45]\n",
    "income = [50000, 60000, 75000, 80000, 90000]\n",
    "education_level = [12, 16, 14, 18, 20]\n",
    "\n",
    "data_matrix = np.array([age, income, education_level])\n",
    "\n",
    "covariance_matrix = np.cov(data_matrix)\n",
    "\n",
    "print(covariance_matrix)"
   ]
  },
  {
   "cell_type": "markdown",
   "id": "b57b9028-1308-43fc-97c2-abdb31c09e27",
   "metadata": {},
   "source": [
    "Interpretation:\n",
    "\n",
    "The diagonal elements represent the variances of the respective variables. For example:\n",
    "\n",
    "- The variance of Age is approximately 62.5.\n",
    "- The variance of Income is approximately 2.55e+08 (which is 255,000,000).\n",
    "- The variance of Education Level is approximately 10.\n",
    "\n",
    "The off-diagonal elements represent the covariances between pairs of variables. For example:\n",
    "\n",
    "- The covariance between Age and Income is approximately 125,000.\n",
    "- The covariance between Age and Education Level is approximately 22.5.\n",
    "- The covariance between Income and Education Level is approximately 42,500.\n",
    "\n",
    "These values provide information about how these variables vary together. For instance, a positive covariance between Age and Income suggests that, on average, as Age increases, Income tends to increase. Similarly, a positive covariance between Age and Education Level suggests that, on average, as Age increases, Education Level tends to increase."
   ]
  },
  {
   "cell_type": "markdown",
   "id": "d6fd4450-3f77-4d6e-b09b-c51601b6622b",
   "metadata": {},
   "source": [
    "Q6. You are working on a machine learning project with a dataset containing several categorical variables, including \"Gender\" (Male/Female), \"Education Level\" (High School/Bachelor's/Master's/PhD), and \"Employment Status\" (Unemployed/Part-Time/Full-Time). Which encoding method would you use for each variable, and why?\n"
   ]
  },
  {
   "cell_type": "markdown",
   "id": "6148f106-42c7-4473-b4fa-85df1783d7d4",
   "metadata": {},
   "source": [
    "Answer6.\n",
    "\n",
    "Gender (Binary Categorical): You can use label encoding or binary encoding for \"Gender\" since it has only two categories (Male/Female). Label encoding could assign 0 for Male and 1 for Female, while binary encoding would create a single binary column (e.g., 0 for Male, 1 for Female).\n",
    "\n",
    "Education Level (Multiclass Categorical): You should use one-hot encoding for \"Education Level\" because there is no inherent order among the categories, and each category is distinct. Creating separate binary columns for each education level ensures that the model doesn't interpret any ordinal relationship.\n",
    "\n",
    "Employment Status (Multiclass Categorical): Similar to \"Education Level,\" you should also use one-hot encoding for \"Employment Status\" because there is no natural order among the categories, and each status is distinct. One-hot encoding captures the independence of each status category."
   ]
  },
  {
   "cell_type": "markdown",
   "id": "88ae4f58-fbaa-48a9-8bcd-1d19b4f82d42",
   "metadata": {},
   "source": [
    "Q7. You are analyzing a dataset with two continuous variables, \"Temperature\" and \"Humidity\", and two categorical variables, \"Weather Condition\" (Sunny/Cloudy/Rainy) and \"Wind Direction\" (North/South/ East/West). Calculate the covariance between each pair of variables and interpret the results"
   ]
  },
  {
   "cell_type": "markdown",
   "id": "ba72ea89-d514-4e41-8519-9c02c6bd7353",
   "metadata": {},
   "source": [
    "Answer7.\n",
    "\n",
    "Temperature and Humidity:\n",
    "\n",
    "- If the covariance is positive, it suggests that as Temperature increases, Humidity tends to increase as well.\n",
    "- If the covariance is negative, it suggests that as Temperature increases, Humidity tends to decrease.\n",
    "- If the covariance is close to zero, it suggests a weak or no linear relationship between Temperature and Humidity.\n",
    "\n",
    "Temperature and Weather Condition:\n",
    "\n",
    "- The covariance between a continuous variable (Temperature) and a categorical variable (Weather Condition) may not provide meaningful insights. It's more appropriate to analyze categorical-categorical or continuous-continuous relationships.\n",
    "\n",
    "Temperature and Wind Direction:\n",
    "\n",
    "- Similar to Temperature and Weather Condition, the covariance between a continuous variable (Temperature) and a categorical variable (Wind Direction) may not provide meaningful insights. Wind Direction is categorical, and Temperature is continuous.\n",
    "\n",
    "Humidity and Weather Condition:\n",
    "\n",
    "- The covariance between Humidity and Weather Condition may not be informative as Weather Condition is categorical.\n",
    "\n",
    "Humidity and Wind Direction:\n",
    "\n",
    "- Like Temperature, the covariance between Humidity and Wind Direction may not provide clear insights since Wind Direction is categorical."
   ]
  },
  {
   "cell_type": "code",
   "execution_count": null,
   "id": "4b949678-94c7-47b8-8e7b-5cc5ed558169",
   "metadata": {},
   "outputs": [],
   "source": []
  }
 ],
 "metadata": {
  "kernelspec": {
   "display_name": "Python 3 (ipykernel)",
   "language": "python",
   "name": "python3"
  },
  "language_info": {
   "codemirror_mode": {
    "name": "ipython",
    "version": 3
   },
   "file_extension": ".py",
   "mimetype": "text/x-python",
   "name": "python",
   "nbconvert_exporter": "python",
   "pygments_lexer": "ipython3",
   "version": "3.10.8"
  }
 },
 "nbformat": 4,
 "nbformat_minor": 5
}
