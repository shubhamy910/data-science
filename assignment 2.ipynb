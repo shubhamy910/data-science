{
 "cells": [
  {
   "cell_type": "code",
   "execution_count": 4,
   "id": "5dacd468-b632-4d96-9d6c-dc4dc91ff1bd",
   "metadata": {},
   "outputs": [],
   "source": [
    "#answer1- Comments in Python are identified with a hash symbol, #, and extend to the end of the line. Hash characters in a string are not considered comments\n",
    "         #comments in python are of three types which are :- as a separate line, beside the corresponding statement of code, or as a multi-line comment block.\n",
    "        "
   ]
  },
  {
   "cell_type": "code",
   "execution_count": 5,
   "id": "0a9d040e-c0b4-47be-8109-6f9811f165fa",
   "metadata": {},
   "outputs": [],
   "source": [
    "#answer2 - A Python variable is a symbolic name that is a reference or pointer to an object. Once an object is assigned to a variable, you can refer to the object by that name. But the data itself is still contained within the object.\n",
    "#         The first time a variable is assigned a value, it is said to be initialised. The = symbol is known as the assignment operator. It is also possible to declare a variable and assign it a value in the same line. For example...\n",
    "a = 10"
   ]
  },
  {
   "cell_type": "code",
   "execution_count": 6,
   "id": "7acf57fd-49de-4d66-ae81-44bd3ccdac13",
   "metadata": {},
   "outputs": [
    {
     "data": {
      "text/plain": [
       "10"
      ]
     },
     "execution_count": 6,
     "metadata": {},
     "output_type": "execute_result"
    }
   ],
   "source": [
    "a"
   ]
  },
  {
   "cell_type": "code",
   "execution_count": 16,
   "id": "f0500819-e084-4766-8cb9-b165ebfebcae",
   "metadata": {},
   "outputs": [],
   "source": [
    "#answer3- Python defines type conversion functions like int(), float(), str() to directly convert one data type into another. This type of conversion is also called typecasting because the user casts (change) the data type of the objects. This function converts any data type into integer.\n",
    "#for example -\n",
    "a = \"109876\""
   ]
  },
  {
   "cell_type": "code",
   "execution_count": 18,
   "id": "a507261e-433c-4ef7-9cca-d4450312d6c9",
   "metadata": {},
   "outputs": [
    {
     "data": {
      "text/plain": [
       "'109876'"
      ]
     },
     "execution_count": 18,
     "metadata": {},
     "output_type": "execute_result"
    }
   ],
   "source": [
    "a"
   ]
  },
  {
   "cell_type": "code",
   "execution_count": 19,
   "id": "597fd03a-38b8-4809-8385-00b35250b16f",
   "metadata": {},
   "outputs": [
    {
     "data": {
      "text/plain": [
       "str"
      ]
     },
     "execution_count": 19,
     "metadata": {},
     "output_type": "execute_result"
    }
   ],
   "source": [
    "type(a)"
   ]
  },
  {
   "cell_type": "code",
   "execution_count": 20,
   "id": "1cc16b6f-16c3-44d5-b1e9-99baaad4cbce",
   "metadata": {},
   "outputs": [],
   "source": [
    "a = int(a)"
   ]
  },
  {
   "cell_type": "code",
   "execution_count": 21,
   "id": "544578a3-63db-4b29-bad7-dd311f2cf9b0",
   "metadata": {},
   "outputs": [
    {
     "data": {
      "text/plain": [
       "109876"
      ]
     },
     "execution_count": 21,
     "metadata": {},
     "output_type": "execute_result"
    }
   ],
   "source": [
    "a"
   ]
  },
  {
   "cell_type": "code",
   "execution_count": 22,
   "id": "a7864a1f-543e-4ada-9527-10217b493dae",
   "metadata": {},
   "outputs": [
    {
     "data": {
      "text/plain": [
       "int"
      ]
     },
     "execution_count": 22,
     "metadata": {},
     "output_type": "execute_result"
    }
   ],
   "source": [
    "type(a)"
   ]
  },
  {
   "cell_type": "code",
   "execution_count": 23,
   "id": "c7ba8228-64b2-4f61-9598-16cf8e1f8a14",
   "metadata": {},
   "outputs": [],
   "source": [
    "#anser4 -To run Python scripts with the python command, you need to open a command-line and type in the word python , or python3 if you have both versions, followed by the path to your script, just like this: $ python3 hello.py Hello World! If everything works okay, after you press Enter , you'll see the phrase Hello World!"
   ]
  },
  {
   "cell_type": "code",
   "execution_count": 26,
   "id": "a2863c9a-ffbc-44a0-9c79-ac0be679f27e",
   "metadata": {},
   "outputs": [],
   "source": [
    "#answer5- \n",
    "my_list = [1, 2, 3, 4, 5]"
   ]
  },
  {
   "cell_type": "code",
   "execution_count": 29,
   "id": "03122ed9-a860-47cd-8da8-74484b91b489",
   "metadata": {},
   "outputs": [
    {
     "data": {
      "text/plain": [
       "[2, 3]"
      ]
     },
     "execution_count": 29,
     "metadata": {},
     "output_type": "execute_result"
    }
   ],
   "source": [
    "my_list[1:3]"
   ]
  },
  {
   "cell_type": "code",
   "execution_count": 33,
   "id": "26be65ab-aa3d-40f9-b9ef-1ba02f1c4eaa",
   "metadata": {},
   "outputs": [],
   "source": [
    "#answer6- Complex numbers are the numbers that are expressed in the form of a+ib where, a,b are real numbers and 'i' is an imaginary number called “iota”\n",
    "#         while in python; The complex data type in python consists of two values, the first one is the real part of the complex number, and the second one is the imaginary part of the complex number. We usually denote the real part using i and the imaginary part with j. For example\n",
    "a =(3 + 7j) "
   ]
  },
  {
   "cell_type": "code",
   "execution_count": 34,
   "id": "d543fdf8-3c55-48c2-8047-51aa1aa2d85e",
   "metadata": {},
   "outputs": [
    {
     "data": {
      "text/plain": [
       "complex"
      ]
     },
     "execution_count": 34,
     "metadata": {},
     "output_type": "execute_result"
    }
   ],
   "source": [
    "type(a)"
   ]
  },
  {
   "cell_type": "code",
   "execution_count": 64,
   "id": "d858038c-301e-4131-8f64-80553c0ba610",
   "metadata": {},
   "outputs": [],
   "source": [
    "#answer7 - \n",
    "age = 25"
   ]
  },
  {
   "cell_type": "code",
   "execution_count": 66,
   "id": "25a415cb-d041-4dd5-bcf7-96fe1b9334a2",
   "metadata": {},
   "outputs": [
    {
     "data": {
      "text/plain": [
       "int"
      ]
     },
     "execution_count": 66,
     "metadata": {},
     "output_type": "execute_result"
    }
   ],
   "source": [
    "type(age)"
   ]
  },
  {
   "cell_type": "code",
   "execution_count": null,
   "id": "655394be-b5a0-4e8d-8ce5-dfb2c23c0e28",
   "metadata": {},
   "outputs": [],
   "source": [
    "#answer8- \n",
    "price = 9.99"
   ]
  },
  {
   "cell_type": "code",
   "execution_count": 38,
   "id": "71aa5d5b-806f-4df0-8445-8e18e3c80180",
   "metadata": {},
   "outputs": [
    {
     "data": {
      "text/plain": [
       "float"
      ]
     },
     "execution_count": 38,
     "metadata": {},
     "output_type": "execute_result"
    }
   ],
   "source": [
    "type(price)"
   ]
  },
  {
   "cell_type": "code",
   "execution_count": 42,
   "id": "fcd0b2d8-44fc-4357-947c-440cc7755203",
   "metadata": {},
   "outputs": [
    {
     "name": "stdout",
     "output_type": "stream",
     "text": [
      "shubham yadav\n"
     ]
    }
   ],
   "source": [
    "#answer9-\n",
    "name = \"shubham yadav\"\n",
    "print(name)"
   ]
  },
  {
   "cell_type": "code",
   "execution_count": 73,
   "id": "36d8c1e4-351a-4c2e-a937-42af5e8c64c7",
   "metadata": {},
   "outputs": [],
   "source": [
    "#answer10-\n",
    "d= \"Hello, World!\""
   ]
  },
  {
   "cell_type": "code",
   "execution_count": 77,
   "id": "4445dc66-b6e8-488a-a1d6-eb7b961e3bed",
   "metadata": {},
   "outputs": [
    {
     "data": {
      "text/plain": [
       "'World'"
      ]
     },
     "execution_count": 77,
     "metadata": {},
     "output_type": "execute_result"
    }
   ],
   "source": [
    "d[7:12]"
   ]
  },
  {
   "cell_type": "code",
   "execution_count": 80,
   "id": "0f1ebf14-cbaa-425f-a5f6-76da18c727a4",
   "metadata": {},
   "outputs": [
    {
     "name": "stdout",
     "output_type": "stream",
     "text": [
      "True\n"
     ]
    }
   ],
   "source": [
    "#answer11-\n",
    "is_student = True\n",
    "print(is_student)\n"
   ]
  }
 ],
 "metadata": {
  "kernelspec": {
   "display_name": "Python 3 (ipykernel)",
   "language": "python",
   "name": "python3"
  },
  "language_info": {
   "codemirror_mode": {
    "name": "ipython",
    "version": 3
   },
   "file_extension": ".py",
   "mimetype": "text/x-python",
   "name": "python",
   "nbconvert_exporter": "python",
   "pygments_lexer": "ipython3",
   "version": "3.10.8"
  }
 },
 "nbformat": 4,
 "nbformat_minor": 5
}
