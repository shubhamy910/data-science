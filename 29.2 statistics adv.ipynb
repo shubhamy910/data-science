{
 "cells": [
  {
   "cell_type": "markdown",
   "id": "3cda341c-a9e6-4dd7-822c-85b2940eb932",
   "metadata": {},
   "source": [
    "Q1. Calculate the 95% confidence interval for a sample of data with a mean of 50 and a standard deviation\n",
    "of 5 using Python. Interpret the results."
   ]
  },
  {
   "cell_type": "code",
   "execution_count": 3,
   "id": "536e806d-b389-4cf9-8df2-2ab01b4d6573",
   "metadata": {},
   "outputs": [
    {
     "name": "stdout",
     "output_type": "stream",
     "text": [
      "95% Confidence Interval: (49.02001800772997, 50.97998199227003)\n"
     ]
    }
   ],
   "source": [
    "#answer1-\n",
    "\n",
    "import numpy as np\n",
    "from scipy import stats\n",
    "\n",
    "# Sample data\n",
    "sample_mean = 50\n",
    "sample_std = 5\n",
    "sample_size = 100  \n",
    "\n",
    "se = sample_std / np.sqrt(sample_size)\n",
    "\n",
    "confidence_interval = stats.norm.interval(0.95, loc=sample_mean, scale=se)\n",
    "\n",
    "print(\"95% Confidence Interval:\", confidence_interval)"
   ]
  },
  {
   "cell_type": "markdown",
   "id": "edd86b1f-da7c-4978-b590-726f6f6a637d",
   "metadata": {},
   "source": [
    "Q2. Conduct a chi-square goodness of fit test to determine if the distribution of colors of M&Ms in a bag matches the expected distribution of 20% blue, 20% orange, 20% green, 10% yellow, 10% red, and 20% brown. Use Python to perform the test with a significance level of 0.05."
   ]
  },
  {
   "cell_type": "code",
   "execution_count": 4,
   "id": "32927601-16ec-40b1-8682-3946abe0039f",
   "metadata": {},
   "outputs": [
    {
     "name": "stdout",
     "output_type": "stream",
     "text": [
      "Chi-square Statistic: 51.85\n",
      "P-value: 5.790751069516473e-10\n"
     ]
    }
   ],
   "source": [
    "#answer2-\n",
    "\n",
    "import numpy as np\n",
    "import scipy.stats as stat\n",
    "\n",
    "observed_frequencies = [25,15,5,15,28,12]\n",
    "\n",
    "expected_frequencies = [20,20,20,10,10,20] \n",
    "\n",
    "chi_stat, p_value = stat.chisquare(f_obs=observed_frequencies, f_exp=expected_frequencies)\n",
    "\n",
    "print(\"Chi-square Statistic:\", chi_stat)\n",
    "print(\"P-value:\", p_value)"
   ]
  },
  {
   "cell_type": "code",
   "execution_count": 5,
   "id": "87564c2c-c6f7-42dc-a050-eb75e1d00399",
   "metadata": {},
   "outputs": [
    {
     "name": "stdout",
     "output_type": "stream",
     "text": [
      "5\n"
     ]
    }
   ],
   "source": [
    "significant_value=0.05\n",
    "dof=len(observed_frequencies)-1\n",
    "print(dof)\n",
    "critical_value = stat.chi2.ppf(1-significant_value,dof)"
   ]
  },
  {
   "cell_type": "code",
   "execution_count": 7,
   "id": "87d76438-6b4b-4a6a-b4ad-a6d64772730a",
   "metadata": {},
   "outputs": [
    {
     "data": {
      "text/plain": [
       "11.070497693516351"
      ]
     },
     "execution_count": 7,
     "metadata": {},
     "output_type": "execute_result"
    }
   ],
   "source": [
    "critical_value"
   ]
  },
  {
   "cell_type": "code",
   "execution_count": 8,
   "id": "bd58a31e-cd62-40c4-bca3-3824a60ea11e",
   "metadata": {},
   "outputs": [
    {
     "name": "stdout",
     "output_type": "stream",
     "text": [
      "Reject the null hypothesis\n"
     ]
    }
   ],
   "source": [
    "if chi_stat>critical_value:\n",
    "    print(\"Reject the null hypothesis\")\n",
    "else:\n",
    "    print(\"We fail to reject the null hypothesis\")"
   ]
  },
  {
   "cell_type": "markdown",
   "id": "42ea6b52-2eba-4678-8043-1d78345d4c6a",
   "metadata": {},
   "source": [
    "Q3. Use Python to calculate the chi-square statistic and p-value for a contingency table with the following data: Group A:20,10,15 Group B:15,25,20 Interpret the results of the test."
   ]
  },
  {
   "cell_type": "code",
   "execution_count": 9,
   "id": "24c5eda6-42b2-4c63-9a71-473c8bb8c86a",
   "metadata": {},
   "outputs": [
    {
     "name": "stdout",
     "output_type": "stream",
     "text": [
      "Chi-square Statistic: 5.833333333333334\n",
      "P-value: 0.05411376622282158\n"
     ]
    }
   ],
   "source": [
    "#answer3-\n",
    "\n",
    "import numpy as np\n",
    "import scipy.stats as stat\n",
    "from scipy.stats import chi2_contingency\n",
    "\n",
    "# Contingency table data\n",
    "observed_data = np.array([[20, 10, 15], [15, 25, 20]])\n",
    "\n",
    "# Perform the chi-square test\n",
    "chi2_stat, p_value, dof, expected = chi2_contingency(observed_data)\n",
    "\n",
    "print(\"Chi-square Statistic:\", chi2_stat)\n",
    "print(\"P-value:\", p_value)"
   ]
  },
  {
   "cell_type": "code",
   "execution_count": 10,
   "id": "7df5e5ca-91fc-4e5a-a593-cf8c318cd64e",
   "metadata": {},
   "outputs": [],
   "source": [
    "significant_value=0.05\n",
    "dof=2\n",
    "critical_value = stat.chi2.ppf(1-significant_value,dof)"
   ]
  },
  {
   "cell_type": "code",
   "execution_count": 11,
   "id": "b7968ca5-9655-4f4b-88aa-4dbec9876a67",
   "metadata": {},
   "outputs": [
    {
     "data": {
      "text/plain": [
       "5.991464547107979"
      ]
     },
     "execution_count": 11,
     "metadata": {},
     "output_type": "execute_result"
    }
   ],
   "source": [
    "critical_value"
   ]
  },
  {
   "cell_type": "code",
   "execution_count": 12,
   "id": "3f8c5717-a614-4d23-b63a-5c1d09b13139",
   "metadata": {},
   "outputs": [
    {
     "name": "stdout",
     "output_type": "stream",
     "text": [
      "We fail to reject the null hypothesis\n"
     ]
    }
   ],
   "source": [
    "if chi2_stat>critical_value:\n",
    "    print(\"Reject the null hypothesis\")\n",
    "else:\n",
    "    print(\"We fail to reject the null hypothesis\")"
   ]
  },
  {
   "cell_type": "markdown",
   "id": "8338f3c2-1ae5-4c3c-8162-c5f9dfb2bf67",
   "metadata": {},
   "source": [
    "Q4. A study of the prevalence of smoking in a population of 500 individuals found that 60 individuals smoked. Use Python to calculate the 95% confidence interval for the true proportion of individuals in the population who smoke."
   ]
  },
  {
   "cell_type": "code",
   "execution_count": 14,
   "id": "96dd2ac7-fb2e-4887-b7b0-a692be060d9b",
   "metadata": {},
   "outputs": [
    {
     "name": "stdout",
     "output_type": "stream",
     "text": [
      "95% Confidence Interval: (0.09151638887130706, 0.14848361112869293)\n"
     ]
    }
   ],
   "source": [
    "#answer4-\n",
    "\n",
    "import statsmodels.stats.proportion as prop\n",
    "\n",
    "total_population = 500\n",
    "num_smokers = 60\n",
    "\n",
    "sample_proportion = num_smokers / total_population\n",
    "\n",
    "con_interval = prop.proportion_confint(count=num_smokers, nobs=total_population, alpha=0.05, method='normal')\n",
    "\n",
    "print(\"95% Confidence Interval:\", con_interval)"
   ]
  },
  {
   "cell_type": "markdown",
   "id": "e7d4e0f5-d3c1-42ac-8ab1-b1fa2a5e0ae5",
   "metadata": {},
   "source": [
    "Q5. Calculate the 90% confidence interval for a sample of data with a mean of 75 and a standard deviation of 12 using Python. Interpret the results."
   ]
  },
  {
   "cell_type": "code",
   "execution_count": 15,
   "id": "827d9cb5-e877-49fd-aef1-28b160e42aa8",
   "metadata": {},
   "outputs": [
    {
     "name": "stdout",
     "output_type": "stream",
     "text": [
      "90% Confidence Interval: (73.00753061280433, 76.99246938719567)\n"
     ]
    }
   ],
   "source": [
    "#answer5-\n",
    "\n",
    "import numpy as np\n",
    "from scipy.stats import t\n",
    "\n",
    "sample_mean = 75\n",
    "sample_std = 12\n",
    "sample_size = 100\n",
    "\n",
    "se = sample_std / np.sqrt(sample_size)\n",
    "\n",
    "conf_interval = t.interval(0.90, df=sample_size - 1, loc=sample_mean, scale=se)\n",
    "\n",
    "print(\"90% Confidence Interval:\", conf_interval)"
   ]
  },
  {
   "cell_type": "markdown",
   "id": "5b218913-242e-4919-8813-d1aa8dd867ae",
   "metadata": {},
   "source": [
    "Q6. Use Python to plot the chi-square distribution with 10 degrees of freedom. Label the axes and shade the area corresponding to a chi-square statistic of 15."
   ]
  },
  {
   "cell_type": "code",
   "execution_count": 16,
   "id": "0e32371e-373f-4ded-8d40-07f0ef4a1efc",
   "metadata": {},
   "outputs": [
    {
     "data": {
      "image/png": "[encoded data removed]",
      "text/plain": [
       "<Figure size 640x480 with 1 Axes>"
      ]
     },
     "metadata": {},
     "output_type": "display_data"
    }
   ],
   "source": [
    "#answer6-\n",
    "\n",
    "import numpy as np\n",
    "import matplotlib.pyplot as plt\n",
    "from scipy.stats import chi2\n",
    "\n",
    "df = 10\n",
    "\n",
    "x = np.linspace(0, 30, 500)\n",
    "y = chi2.pdf(x, df)\n",
    "\n",
    "plt.plot(x, y, label=f\"Chi-square (df={df})\")\n",
    "\n",
    "plt.fill_between(x, y, where=(x >= 15), color='gray', alpha=0.5)\n",
    "\n",
    "plt.xlabel(\"Chi-square Statistic\")\n",
    "plt.ylabel(\"Probability Density Function\")\n",
    "plt.title(\"Chi-square Distribution\")\n",
    "plt.legend()\n",
    "plt.grid(True)\n",
    "plt.show()"
   ]
  },
  {
   "cell_type": "markdown",
   "id": "a0c3346a-0868-44b7-a949-e4575eaacd56",
   "metadata": {},
   "source": [
    "Q7. A random sample of 1000 people was asked if they preferred Coke or Pepsi. Of the sample, 520 preferred Coke. Calculate a 99% confidence interval for the true proportion of people in the population who prefer Coke."
   ]
  },
  {
   "cell_type": "code",
   "execution_count": 17,
   "id": "4d87b96b-340f-4867-a584-0ef6348e6572",
   "metadata": {},
   "outputs": [
    {
     "name": "stdout",
     "output_type": "stream",
     "text": [
      "99% Confidence Interval: (0.4793051576779699, 0.5606948423220302)\n"
     ]
    }
   ],
   "source": [
    "#answer7-\n",
    "\n",
    "import statsmodels.stats.proportion as prop\n",
    "\n",
    "total_sample = 1000\n",
    "num_prefer_coke = 520\n",
    "\n",
    "sample_proportion = num_prefer_coke / total_sample\n",
    "\n",
    "conf_interval = prop.proportion_confint(count=num_prefer_coke, nobs=total_sample, alpha=0.01, method='normal')\n",
    "\n",
    "print(\"99% Confidence Interval:\", conf_interval)"
   ]
  },
  {
   "cell_type": "markdown",
   "id": "9d07291d-3fd2-4b55-bbab-06ea12b5955a",
   "metadata": {},
   "source": [
    "Q8. A researcher hypothesizes that a coin is biased towards tails. They flip the coin 100 times and observe 45 tails. Conduct a chi-square goodness of fit test to determine if the observed frequencies match the expected frequencies of a fair coin. Use a significance level of 0.05.\n"
   ]
  },
  {
   "cell_type": "code",
   "execution_count": 18,
   "id": "3b585cc8-7005-4f39-b7bd-0384919c0e43",
   "metadata": {},
   "outputs": [
    {
     "name": "stdout",
     "output_type": "stream",
     "text": [
      "Chi-square Statistic: 1.0\n",
      "P-value: 0.31731050786291115\n"
     ]
    }
   ],
   "source": [
    "#answer8-\n",
    "\n",
    "import numpy as np\n",
    "import scipy.stats as stat\n",
    "from scipy.stats import chisquare\n",
    "\n",
    "observed_frequencies = [45,55]\n",
    "\n",
    "expected_frequencies = [50,50]\n",
    "\n",
    "chi2_stat, p_value = chisquare(f_obs=observed_frequencies, f_exp=expected_frequencies)\n",
    "\n",
    "print(\"Chi-square Statistic:\", chi2_stat)\n",
    "print(\"P-value:\", p_value)"
   ]
  },
  {
   "cell_type": "code",
   "execution_count": 19,
   "id": "c219406e-6c02-4cb7-bdec-832a52b56b4b",
   "metadata": {},
   "outputs": [
    {
     "name": "stdout",
     "output_type": "stream",
     "text": [
      "1\n"
     ]
    }
   ],
   "source": [
    "significant_value=0.05\n",
    "dof=len(observed_frequencies)-1\n",
    "print(dof)\n",
    "critical_value = stat.chi2.ppf(1-significant_value,dof)"
   ]
  },
  {
   "cell_type": "code",
   "execution_count": 20,
   "id": "128e90be-c275-4066-a338-2a76712ef59e",
   "metadata": {},
   "outputs": [
    {
     "data": {
      "text/plain": [
       "3.841458820694124"
      ]
     },
     "execution_count": 20,
     "metadata": {},
     "output_type": "execute_result"
    }
   ],
   "source": [
    "critical_value"
   ]
  },
  {
   "cell_type": "code",
   "execution_count": 21,
   "id": "7844fdfc-3cc5-424f-bbe4-5bd6c01ba1a2",
   "metadata": {},
   "outputs": [
    {
     "name": "stdout",
     "output_type": "stream",
     "text": [
      "We fail to reject the null hypothesis\n"
     ]
    }
   ],
   "source": [
    "if chi2_stat>critical_value:\n",
    "    print(\"Reject the null hypothesis\")\n",
    "else:\n",
    "    print(\"We fail to reject the null hypothesis\")"
   ]
  },
  {
   "cell_type": "markdown",
   "id": "5f912826-c66e-4f85-84d5-fb7cd5810cee",
   "metadata": {},
   "source": [
    "Q9. A study was conducted to determine if there is an association between smoking status (smoker or\n",
    "non-smoker) and lung cancer diagnosis (yes or no). The results are shown in the contingency table below.\n",
    "Conduct a chi-square test for independence to determine if there is a significant association between\n",
    "smoking status and lung cancer diagnosis.\n",
    "\n",
    "Lung Cancer: Yes\n",
    "\n",
    "Smoker 60 140\n",
    "Non-smoker 30 170"
   ]
  },
  {
   "cell_type": "code",
   "execution_count": 26,
   "id": "fa146242-c12b-47af-b06e-0b00df840942",
   "metadata": {},
   "outputs": [
    {
     "name": "stdout",
     "output_type": "stream",
     "text": [
      "Chi-square Statistic: 35.294117647058826\n",
      "P-value: 2.834869930488155e-09\n"
     ]
    }
   ],
   "source": [
    "#answer9-\n",
    "\n",
    "import numpy as np\n",
    "import scipy.stats as stat\n",
    "\n",
    "\n",
    "smoker = [60,140]\n",
    "\n",
    "non_smoker = [30,170]\n",
    "\n",
    "chi2_stat, p_value = stat.chisquare(f_obs=smoker, f_exp=non_smoker)\n",
    "\n",
    "print(\"Chi-square Statistic:\", chi2_stat)\n",
    "print(\"P-value:\", p_value)"
   ]
  },
  {
   "cell_type": "code",
   "execution_count": 27,
   "id": "734f98ce-b41a-4353-ad66-a9bac8af16cf",
   "metadata": {},
   "outputs": [
    {
     "name": "stdout",
     "output_type": "stream",
     "text": [
      "1\n"
     ]
    }
   ],
   "source": [
    "significant_value=0.05\n",
    "dof=len(smoker)-1\n",
    "print(dof)\n",
    "critical_value = stat.chi2.ppf(1-significant_value,dof)"
   ]
  },
  {
   "cell_type": "code",
   "execution_count": 28,
   "id": "b036fd9e-2bbf-485e-b397-2f715defa1bf",
   "metadata": {},
   "outputs": [
    {
     "data": {
      "text/plain": [
       "3.841458820694124"
      ]
     },
     "execution_count": 28,
     "metadata": {},
     "output_type": "execute_result"
    }
   ],
   "source": [
    "critical_value"
   ]
  },
  {
   "cell_type": "code",
   "execution_count": 29,
   "id": "6f69596c-b29a-4154-a3e1-0579d2115549",
   "metadata": {},
   "outputs": [
    {
     "name": "stdout",
     "output_type": "stream",
     "text": [
      "Reject the null hypothesis\n"
     ]
    }
   ],
   "source": [
    "if chi2_stat>critical_value:\n",
    "    print(\"Reject the null hypothesis\")\n",
    "else:\n",
    "    print(\"We fail to reject the null hypothesis\")"
   ]
  },
  {
   "cell_type": "markdown",
   "id": "d74c4f21-b6ae-477c-9311-0cd74a394bef",
   "metadata": {},
   "source": [
    "Q10. A study was conducted to determine if the proportion of people who prefer milk chocolate, dark chocolate, or white chocolate is different in the U.S. versus the U.K. A random sample of 500 people from the U.S. and a random sample of 500 people from the U.K. were surveyed. The results are shown in the contingency table below. Conduct a chi-square test for independence to determine if there is a significant association between chocolate preference and country of origin.\n"
   ]
  },
  {
   "cell_type": "code",
   "execution_count": 31,
   "id": "4d1f8210-524c-4b47-9fb9-64a889f422be",
   "metadata": {},
   "outputs": [
    {
     "name": "stdout",
     "output_type": "stream",
     "text": [
      "Chi-square Statistic: 31.349206349206348\n",
      "P-value: 1.5581394922806692e-07\n"
     ]
    }
   ],
   "source": [
    "#answer10-\n",
    "\n",
    "import numpy as np\n",
    "import scipy.stats as stat\n",
    "\n",
    "\n",
    "US = [200,150,150]\n",
    "\n",
    "UK = [225,175,100]\n",
    "\n",
    "chi2_stat, p_value = stat.chisquare(f_obs=US, f_exp=UK)\n",
    "\n",
    "print(\"Chi-square Statistic:\", chi2_stat)\n",
    "print(\"P-value:\", p_value)"
   ]
  },
  {
   "cell_type": "code",
   "execution_count": null,
   "id": "1b9330ee-4868-416d-a409-bba192587739",
   "metadata": {},
   "outputs": [],
   "source": []
  }
 ],
 "metadata": {
  "kernelspec": {
   "display_name": "Python 3 (ipykernel)",
   "language": "python",
   "name": "python3"
  },
  "language_info": {
   "codemirror_mode": {
    "name": "ipython",
    "version": 3
   },
   "file_extension": ".py",
   "mimetype": "text/x-python",
   "name": "python",
   "nbconvert_exporter": "python",
   "pygments_lexer": "ipython3",
   "version": "3.10.8"
  }
 },
 "nbformat": 4,
 "nbformat_minor": 5
}
