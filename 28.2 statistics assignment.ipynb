{
 "cells": [
  {
   "cell_type": "markdown",
   "id": "8de838dc-f79a-4d69-9d65-d454d1577492",
   "metadata": {},
   "source": [
    "Q1: What are the Probability Mass Function (PMF) and Probability Density Function (PDF)? Explain with an example."
   ]
  },
  {
   "cell_type": "markdown",
   "id": "5b19e145-5fdd-4134-8067-f2318c63aaec",
   "metadata": {},
   "source": [
    "Answer1.\n",
    "\n",
    "Probability Mass Function (PMF): The PMF is a function that gives the probability of a discrete random variable taking on a specific value. It maps each possible value of the random variable to its corresponding probability. The PMF is applicable to discrete random variables, where the set of possible outcomes is countable.\n",
    "\n",
    "Example: Tossing a fair six-sided die. The PMF for this scenario would be P(X = k) = 1/6 for k = 1, 2, 3, 4, 5, or 6.\n",
    "\n",
    "Probability Density Function (PDF): The PDF is a function that describes the likelihood of a continuous random variable falling within a specific range of values. It represents the relative likelihood of the random variable being near a particular value. The integral of the PDF over a range gives the probability that the random variable falls within that range. The PDF is applicable to continuous random variables.\n",
    "\n",
    "Example: The PDF of a standard normal distribution (mean = 0, standard deviation = 1) is given by the formula: f(x) = (1 / √(2π)) * e^(-x^2/2)."
   ]
  },
  {
   "cell_type": "markdown",
   "id": "db5accc8-3aa0-40e2-aa2d-be107c9a2eec",
   "metadata": {},
   "source": [
    "Q2: What is Cumulative Density Function (CDF)? Explain with an example. Why CDF is used?"
   ]
  },
  {
   "cell_type": "markdown",
   "id": "24e65117-70bc-439e-a42b-1cc8878115a9",
   "metadata": {},
   "source": [
    "Answer2.\n",
    "\n",
    "The Cumulative Density Function (CDF) is a function that gives the probability that a random variable takes on a value less than or equal to a specific value. It represents the cumulative probabilities of the random variable. For continuous random variables, the CDF is obtained by integrating the PDF. For discrete random variables, the CDF is the cumulative sum of the PMF.\n",
    "\n",
    "Example: For a standard normal distribution (mean = 0, standard deviation = 1), the CDF is denoted as Φ(x) or N(x). It gives the probability that a randomly selected observation from the standard normal distribution will be less than or equal to a specific value 'x'.\n",
    "\n",
    "Why CDF is used: The CDF is useful because it provides a complete picture of the probabilities associated with a random variable. It helps in determining the probabilities for a range of values and is particularly helpful in calculating percentiles and confidence intervals."
   ]
  },
  {
   "cell_type": "markdown",
   "id": "0b9a7eec-895e-4bae-be48-7223b4767e88",
   "metadata": {},
   "source": [
    "Q3: What are some examples of situations where the normal distribution might be used as a model? Explain how the parameters of the normal distribution relate to the shape of the distribution."
   ]
  },
  {
   "cell_type": "markdown",
   "id": "cc0bebe7-52a8-47f9-8904-0fc03c0ba2c5",
   "metadata": {},
   "source": [
    "Answer3.\n",
    "\n",
    "Examples of situations where the normal distribution might be used as a model:\n",
    "\n",
    "1- Physical measurements: Many physical measurements such as height, weight, blood pressure, etc., tend to follow a normal distribution.\n",
    "\n",
    "2-Test scores: Scores from standardized tests, such as IQ tests or SAT scores, often approximate a normal distribution.\n",
    "\n",
    "3- Errors in measurements: The errors in measurements and observations are often assumed to be normally distributed in many statistical models.\n",
    "Financial data: In finance, returns on investments and stock prices are often assumed to be normally distributed.\n",
    "\n",
    "\n",
    "\n",
    "The parameters of the normal distribution relate to the shape of the distribution as follows:\n",
    "\n",
    "1- Mean (μ): The mean represents the central tendency of the distribution. It is the point around which the data is symmetrically distributed.\n",
    "\n",
    "2-Standard Deviation (σ): The standard deviation measures the spread or dispersion of the data points from the mean. A larger standard deviation indicates more spread-out data, while a smaller standard deviation indicates data clustered closely around the mean."
   ]
  },
  {
   "cell_type": "markdown",
   "id": "2db3d10d-fc5f-4f8b-9c5d-5856fa50d35b",
   "metadata": {},
   "source": [
    "Q4: Explain the importance of Normal Distribution. Give a few real-life examples of Normal Distribution."
   ]
  },
  {
   "cell_type": "markdown",
   "id": "7dc5a890-a4be-457f-b051-a4e9de4507e0",
   "metadata": {},
   "source": [
    "Answer4.\n",
    "\n",
    "The normal distribution is important in statistics and probability theory due to its central role in the Central Limit Theorem, making it applicable to a wide range of natural phenomena and measurements.\n",
    "\n",
    "Real-life examples of Normal Distribution include:\n",
    "\n",
    "1- Heights of individuals in a population.\n",
    "2- IQ scores of a large sample of people.\n",
    "3- Test scores of students in an exam.\n",
    "4- Errors in measurements and observations in various scientific experiments.\n",
    "5- Time taken to complete a certain task when influenced by multiple random factors."
   ]
  },
  {
   "cell_type": "markdown",
   "id": "5845026a-f202-4627-b894-053c2cfefbb5",
   "metadata": {},
   "source": [
    "Q5: What is Bernaulli Distribution? Give an Example. What is the difference between Bernoulli Distribution and Binomial Distribution?"
   ]
  },
  {
   "cell_type": "markdown",
   "id": "9a7a7fc4-45ed-41f8-84b5-0465b3b64b66",
   "metadata": {},
   "source": [
    "Answer5.\n",
    "Bernoulli Distribution is a discrete probability distribution that models a random variable with two possible outcomes: success (1) and failure (0). The probability of success is denoted by \"p,\" and the probability of failure is \"1 - p.\"\n",
    "\n",
    "Example: Tossing a fair coin, where success (1) represents getting heads, and failure (0) represents getting tails.\n",
    "\n",
    "Difference between Bernoulli Distribution and Binomial Distribution:\n",
    "\n",
    "1- Bernoulli Distribution is used for a single trial or experiment with two outcomes, while the Binomial Distribution is used for multiple independent Bernoulli trials (success/failure experiments) with the same probability of success (p) in each trial.\n",
    "\n",
    "2-The Binomial Distribution represents the number of successes in \"n\" trials, while the Bernoulli Distribution is a special case of the Binomial Distribution when n = 1."
   ]
  },
  {
   "cell_type": "markdown",
   "id": "4e8e4af6-6224-41d2-bbff-b9484fc742fb",
   "metadata": {},
   "source": [
    "Q6. Consider a dataset with a mean of 50 and a standard deviation of 10. If we assume that the dataset is normally distributed, what is the probability that a randomly selected observation will be greater than 60? Use the appropriate formula and show your calculations."
   ]
  },
  {
   "cell_type": "markdown",
   "id": "ef440340-8d02-48f3-ba55-0817998db687",
   "metadata": {},
   "source": [
    "Answer6.\n",
    "Assuming the dataset is normally distributed with a mean (μ) of 50 and a standard deviation (σ) of 10, we need to find P(X > 60).\n",
    "\n",
    "Using the Z-score formula: Z = (X - μ) / σ\n",
    "\n",
    "Z = (60 - 50) / 10 = 1\n",
    "\n",
    "Now, we can use a standard normal distribution table or calculator to find the probability associated with a Z-score of 1.\n",
    "\n",
    "P(Z > 1) ≈ 0.1587\n",
    "\n",
    "So, the probability that a randomly selected observation will be greater than 60 is approximately 0.1587 or 15.87%."
   ]
  },
  {
   "cell_type": "markdown",
   "id": "7ea89760-ba45-481b-9511-a5ba24a8f40a",
   "metadata": {},
   "source": [
    "Q7: Explain uniform Distribution with an example."
   ]
  },
  {
   "cell_type": "markdown",
   "id": "6fb68514-9eb8-4dc4-8053-c87fcf1d09d6",
   "metadata": {},
   "source": [
    "Answer7. Uniform Distribution is a continuous probability distribution where every value within a specific range is equally likely to occur. The probability density is constant over the range.\n",
    "\n",
    "Example: Rolling a fair six-sided die. Each outcome (1 to 6) is equally likely, and the probability of getting any specific number is 1/6."
   ]
  },
  {
   "cell_type": "markdown",
   "id": "368daeae-9679-4481-b9bc-6c853a3611a9",
   "metadata": {},
   "source": [
    "Q8: What is the z score? State the importance of the z score."
   ]
  },
  {
   "cell_type": "markdown",
   "id": "a6d95757-e66b-4118-b520-d375a127eb02",
   "metadata": {},
   "source": [
    "Answer8. Z-score (standard score) is a measure of how many standard deviations a data point is from the mean of the distribution. It is calculated as Z = (X - μ) / σ, where X is the data point, μ is the mean, and σ is the standard deviation.\n",
    "\n",
    "Importance of Z-score:\n",
    "\n",
    "1- Z-scores allow us to standardize data and compare values from different distributions.\n",
    "\n",
    "2- Z-scores help identify outliers and extreme values.\n",
    "\n",
    "3- Z-scores are used to calculate percentiles and probabilities in the standard normal distribution."
   ]
  },
  {
   "cell_type": "markdown",
   "id": "032ddee3-794b-4b9b-9da0-dc5419014c98",
   "metadata": {},
   "source": [
    "Q9: What is Central Limit Theorem? State the significance of the Central Limit Theorem."
   ]
  },
  {
   "cell_type": "markdown",
   "id": "a4cde6fe-cb8d-4eb2-a253-c3dd984a2d6d",
   "metadata": {},
   "source": [
    "Answer9. Central Limit Theorem states that the distribution of the sample means of a large number of independent, identically distributed random variables will be approximately normally distributed, regardless of the shape of the original population distribution.\n",
    "\n",
    "Significance of the Central Limit Theorem:\n",
    "\n",
    "1-It allows us to make statistical inferences about the population based on the sample mean.\n",
    "\n",
    "2-It justifies the use of parametric statistical methods, such as the t-test and ANOVA, even when the population distribution is not normal (as long as the sample size is large enough).\n",
    "\n",
    "3-It simplifies calculations and makes statistical analysis more manageable."
   ]
  },
  {
   "cell_type": "markdown",
   "id": "72a5a1d4-68be-478d-9e30-3015c22ae16f",
   "metadata": {},
   "source": [
    "Q10: State the assumptions of the Central Limit Theorem."
   ]
  },
  {
   "cell_type": "markdown",
   "id": "79b21bef-1707-4963-942d-d0bce4b6a514",
   "metadata": {},
   "source": [
    "Answer10.\n",
    "\n",
    "1- Independence: The observations in the sample must be independent of each other.\n",
    "\n",
    "2- Identically Distributed: The random variables in the sample must be drawn from the same population with the same probability distribution.\n",
    "\n",
    "3- Sufficiently Large Sample Size: The sample size should be large enough (typically n ≥ 30) to ensure the approximation to a normal distribution."
   ]
  },
  {
   "cell_type": "markdown",
   "id": "954b892f-ce33-4ee2-8219-399451303fff",
   "metadata": {},
   "source": [
    "."
   ]
  },
  {
   "cell_type": "code",
   "execution_count": null,
   "id": "79cea28c-345f-4187-afcc-602c6471eec5",
   "metadata": {},
   "outputs": [],
   "source": []
  }
 ],
 "metadata": {
  "kernelspec": {
   "display_name": "Python 3 (ipykernel)",
   "language": "python",
   "name": "python3"
  },
  "language_info": {
   "codemirror_mode": {
    "name": "ipython",
    "version": 3
   },
   "file_extension": ".py",
   "mimetype": "text/x-python",
   "name": "python",
   "nbconvert_exporter": "python",
   "pygments_lexer": "ipython3",
   "version": "3.10.8"
  }
 },
 "nbformat": 4,
 "nbformat_minor": 5
}
