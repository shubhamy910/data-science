{
 "cells": [
  {
   "cell_type": "code",
   "execution_count": 1,
   "id": "ed8ee293-458d-43ad-b6d6-b4593d31a933",
   "metadata": {},
   "outputs": [],
   "source": [
    "d = {}"
   ]
  },
  {
   "cell_type": "code",
   "execution_count": 3,
   "id": "4803207d-be66-4b81-b719-fae4e88e6c13",
   "metadata": {},
   "outputs": [
    {
     "data": {
      "text/plain": [
       "dict"
      ]
     },
     "execution_count": 3,
     "metadata": {},
     "output_type": "execute_result"
    }
   ],
   "source": [
    "type(d)"
   ]
  },
  {
   "cell_type": "code",
   "execution_count": 4,
   "id": "5fdf5298-10c8-421b-81e1-5d8f25e3925a",
   "metadata": {},
   "outputs": [],
   "source": [
    "d1 = {\"key\":\"shubh\"}"
   ]
  },
  {
   "cell_type": "code",
   "execution_count": 5,
   "id": "c7807c31-8e2a-460b-942f-99d9615d2e61",
   "metadata": {},
   "outputs": [
    {
     "data": {
      "text/plain": [
       "{'key': 'shubh'}"
      ]
     },
     "execution_count": 5,
     "metadata": {},
     "output_type": "execute_result"
    }
   ],
   "source": [
    "d1"
   ]
  },
  {
   "cell_type": "code",
   "execution_count": 6,
   "id": "d77aa8c9-7470-4f52-b05c-60370cc7671d",
   "metadata": {},
   "outputs": [],
   "source": [
    "d2 = {\"name\" : \"shubham\", \"email\" : \"shubh@gmail.com\", \"number\" : \"77574\"} "
   ]
  },
  {
   "cell_type": "code",
   "execution_count": 7,
   "id": "d4bf0bd1-936d-4351-bb4e-0995c909af0c",
   "metadata": {},
   "outputs": [
    {
     "data": {
      "text/plain": [
       "{'name': 'shubham', 'email': 'shubh@gmail.com', 'number': '77574'}"
      ]
     },
     "execution_count": 7,
     "metadata": {},
     "output_type": "execute_result"
    }
   ],
   "source": [
    "d2"
   ]
  },
  {
   "cell_type": "code",
   "execution_count": 10,
   "id": "44ace465-aa14-4137-82ef-abd1ca05412f",
   "metadata": {},
   "outputs": [],
   "source": [
    "d3 = {4454 : \"sudh\", \"_wer\" : \"kumar\", True : 7656}"
   ]
  },
  {
   "cell_type": "code",
   "execution_count": 11,
   "id": "bc3274e6-a1ba-4968-8358-91068528cd30",
   "metadata": {},
   "outputs": [
    {
     "data": {
      "text/plain": [
       "{4454: 'sudh', '_wer': 'kumar', True: 7656}"
      ]
     },
     "execution_count": 11,
     "metadata": {},
     "output_type": "execute_result"
    }
   ],
   "source": [
    "d3"
   ]
  },
  {
   "cell_type": "code",
   "execution_count": 15,
   "id": "97affbce-e58f-4e28-afa9-649473340f71",
   "metadata": {},
   "outputs": [
    {
     "data": {
      "text/plain": [
       "'sudh'"
      ]
     },
     "execution_count": 15,
     "metadata": {},
     "output_type": "execute_result"
    }
   ],
   "source": [
    "d3[4454]"
   ]
  },
  {
   "cell_type": "code",
   "execution_count": 16,
   "id": "d83819bf-94c3-4204-9bda-5e3bf4d67c44",
   "metadata": {},
   "outputs": [
    {
     "data": {
      "text/plain": [
       "7656"
      ]
     },
     "execution_count": 16,
     "metadata": {},
     "output_type": "execute_result"
    }
   ],
   "source": [
    "d3[1]"
   ]
  },
  {
   "cell_type": "code",
   "execution_count": 17,
   "id": "33f08385-8499-4728-bfc9-4ff14e2ef85b",
   "metadata": {},
   "outputs": [],
   "source": [
    "d4 = {\"name\" : \"sudh\", \"mail_id\" : \"ss@gmail.com\",\"name\" : \"sudhanshu\"}"
   ]
  },
  {
   "cell_type": "code",
   "execution_count": 18,
   "id": "723c25e1-634d-4a6d-a8d2-cf3fd4821550",
   "metadata": {},
   "outputs": [
    {
     "data": {
      "text/plain": [
       "{'name': 'sudhanshu', 'mail_id': 'ss@gmail.com'}"
      ]
     },
     "execution_count": 18,
     "metadata": {},
     "output_type": "execute_result"
    }
   ],
   "source": [
    "d4"
   ]
  },
  {
   "cell_type": "code",
   "execution_count": 20,
   "id": "9b8c1d88-27ab-4d79-82b9-b911800f74f6",
   "metadata": {},
   "outputs": [
    {
     "data": {
      "text/plain": [
       "'sudhanshu'"
      ]
     },
     "execution_count": 20,
     "metadata": {},
     "output_type": "execute_result"
    }
   ],
   "source": [
    "d4[\"name\"]"
   ]
  },
  {
   "cell_type": "code",
   "execution_count": 22,
   "id": "cd8b1c42-3014-47de-902d-2bf3ac988552",
   "metadata": {},
   "outputs": [],
   "source": [
    "d5 = {\"company\" : \"pwskill\", \"course\" : [\"webdev\",\"data science\",\"java with dsa system design\"]}"
   ]
  },
  {
   "cell_type": "code",
   "execution_count": 23,
   "id": "22b73d1e-03ba-49f0-98cf-2b29c5d7503e",
   "metadata": {},
   "outputs": [
    {
     "data": {
      "text/plain": [
       "{'company': 'pwskill',\n",
       " 'course': ['webdev', 'data science', 'java with dsa system design']}"
      ]
     },
     "execution_count": 23,
     "metadata": {},
     "output_type": "execute_result"
    }
   ],
   "source": [
    "d5"
   ]
  },
  {
   "cell_type": "code",
   "execution_count": 25,
   "id": "fcdd5d73-9d04-4834-bfdc-1f3a332fd54d",
   "metadata": {},
   "outputs": [
    {
     "data": {
      "text/plain": [
       "'java with dsa system design'"
      ]
     },
     "execution_count": 25,
     "metadata": {},
     "output_type": "execute_result"
    }
   ],
   "source": [
    "d5[\"course\"][2]"
   ]
  },
  {
   "cell_type": "code",
   "execution_count": 36,
   "id": "e16054df-80b8-41ce-8b7e-c92d3f74f2b3",
   "metadata": {},
   "outputs": [],
   "source": [
    "d6 = {\"number\" : [2,34,3,45,43,43] ,\"assignment\" : (1,2,34,5,6), \"launch date\" : {21,22,24},\"class_time\" :{ \"web dev\": 8,\"data science\" :6,\"java with dsa\" :9 }}"
   ]
  },
  {
   "cell_type": "code",
   "execution_count": 37,
   "id": "03de6d1f-86c1-40bf-aeed-f173c00d842d",
   "metadata": {},
   "outputs": [
    {
     "data": {
      "text/plain": [
       "{'number': [2, 34, 3, 45, 43, 43],\n",
       " 'assignment': (1, 2, 34, 5, 6),\n",
       " 'launch date': {21, 22, 24},\n",
       " 'class_time': {'web dev': 8, 'data science': 6, 'java with dsa': 9}}"
      ]
     },
     "execution_count": 37,
     "metadata": {},
     "output_type": "execute_result"
    }
   ],
   "source": [
    "d6"
   ]
  },
  {
   "cell_type": "code",
   "execution_count": 40,
   "id": "37f4ff54-3f06-4f25-b427-a9aa1f09adfa",
   "metadata": {},
   "outputs": [
    {
     "data": {
      "text/plain": [
       "6"
      ]
     },
     "execution_count": 40,
     "metadata": {},
     "output_type": "execute_result"
    }
   ],
   "source": [
    "d6[\"class_time\"][\"data science\"]"
   ]
  },
  {
   "cell_type": "code",
   "execution_count": 41,
   "id": "783a85a0-5558-4b69-bda7-954d81bb40ac",
   "metadata": {},
   "outputs": [],
   "source": [
    "d6[\"mentor\"] = [\"sudhanshu\" , \"krish\",\"anurag\", \"haider\"]"
   ]
  },
  {
   "cell_type": "code",
   "execution_count": 42,
   "id": "fc155240-d946-4217-a553-e97bc4551eee",
   "metadata": {},
   "outputs": [
    {
     "data": {
      "text/plain": [
       "{'number': [2, 34, 3, 45, 43, 43],\n",
       " 'assignment': (1, 2, 34, 5, 6),\n",
       " 'launch date': {21, 22, 24},\n",
       " 'class_time': {'web dev': 8, 'data science': 6, 'java with dsa': 9},\n",
       " 'mentor': ['sudhanshu', 'krish', 'anurag', 'haider']}"
      ]
     },
     "execution_count": 42,
     "metadata": {},
     "output_type": "execute_result"
    }
   ],
   "source": [
    "d6"
   ]
  },
  {
   "cell_type": "code",
   "execution_count": 43,
   "id": "82c31dfa-13ca-4656-8498-2fc79107a626",
   "metadata": {},
   "outputs": [],
   "source": [
    "del d6[\"number\"]"
   ]
  },
  {
   "cell_type": "code",
   "execution_count": 44,
   "id": "9363016d-cedf-457d-95ac-a3b2e9cee149",
   "metadata": {},
   "outputs": [
    {
     "data": {
      "text/plain": [
       "{'assignment': (1, 2, 34, 5, 6),\n",
       " 'launch date': {21, 22, 24},\n",
       " 'class_time': {'web dev': 8, 'data science': 6, 'java with dsa': 9},\n",
       " 'mentor': ['sudhanshu', 'krish', 'anurag', 'haider']}"
      ]
     },
     "execution_count": 44,
     "metadata": {},
     "output_type": "execute_result"
    }
   ],
   "source": [
    "d6"
   ]
  },
  {
   "cell_type": "code",
   "execution_count": 47,
   "id": "051c313e-58c4-4e53-8dcd-79ed7815472c",
   "metadata": {},
   "outputs": [
    {
     "data": {
      "text/plain": [
       "['assignment', 'launch date', 'class_time', 'mentor']"
      ]
     },
     "execution_count": 47,
     "metadata": {},
     "output_type": "execute_result"
    }
   ],
   "source": [
    "list(d6.keys())"
   ]
  },
  {
   "cell_type": "code",
   "execution_count": 50,
   "id": "745b6fd2-e117-4c7b-ba93-36e545e08eb3",
   "metadata": {},
   "outputs": [
    {
     "data": {
      "text/plain": [
       "[(1, 2, 34, 5, 6),\n",
       " {21, 22, 24},\n",
       " {'web dev': 8, 'data science': 6, 'java with dsa': 9},\n",
       " ['sudhanshu', 'krish', 'anurag', 'haider']]"
      ]
     },
     "execution_count": 50,
     "metadata": {},
     "output_type": "execute_result"
    }
   ],
   "source": [
    "list(d6.values())"
   ]
  },
  {
   "cell_type": "code",
   "execution_count": 52,
   "id": "0320b112-7396-44f0-934f-f7c40f98de91",
   "metadata": {},
   "outputs": [
    {
     "data": {
      "text/plain": [
       "[('assignment', (1, 2, 34, 5, 6)),\n",
       " ('launch date', {21, 22, 24}),\n",
       " ('class_time', {'web dev': 8, 'data science': 6, 'java with dsa': 9}),\n",
       " ('mentor', ['sudhanshu', 'krish', 'anurag', 'haider'])]"
      ]
     },
     "execution_count": 52,
     "metadata": {},
     "output_type": "execute_result"
    }
   ],
   "source": [
    "list(d6.items())"
   ]
  },
  {
   "cell_type": "code",
   "execution_count": 53,
   "id": "0a56425f-62e4-4ad8-a6a0-098ad9cb8761",
   "metadata": {},
   "outputs": [
    {
     "data": {
      "text/plain": [
       "{'assignment': (1, 2, 34, 5, 6),\n",
       " 'launch date': {21, 22, 24},\n",
       " 'class_time': {'web dev': 8, 'data science': 6, 'java with dsa': 9},\n",
       " 'mentor': ['sudhanshu', 'krish', 'anurag', 'haider']}"
      ]
     },
     "execution_count": 53,
     "metadata": {},
     "output_type": "execute_result"
    }
   ],
   "source": [
    "d6"
   ]
  },
  {
   "cell_type": "code",
   "execution_count": 55,
   "id": "342b3a7e-67ca-4c44-b754-02c951fa2ad1",
   "metadata": {},
   "outputs": [
    {
     "data": {
      "text/plain": [
       "(1, 2, 34, 5, 6)"
      ]
     },
     "execution_count": 55,
     "metadata": {},
     "output_type": "execute_result"
    }
   ],
   "source": [
    "d6.pop(\"assignment\")"
   ]
  },
  {
   "cell_type": "code",
   "execution_count": 56,
   "id": "7d3b49d2-b072-492d-8160-2691ba79f2fe",
   "metadata": {},
   "outputs": [
    {
     "data": {
      "text/plain": [
       "{'launch date': {21, 22, 24},\n",
       " 'class_time': {'web dev': 8, 'data science': 6, 'java with dsa': 9},\n",
       " 'mentor': ['sudhanshu', 'krish', 'anurag', 'haider']}"
      ]
     },
     "execution_count": 56,
     "metadata": {},
     "output_type": "execute_result"
    }
   ],
   "source": [
    "d6"
   ]
  },
  {
   "cell_type": "code",
   "execution_count": 68,
   "id": "067e2bf7-60a8-412d-bcbb-b537c6cf4ed4",
   "metadata": {},
   "outputs": [
    {
     "name": "stdin",
     "output_type": "stream",
     "text": [
      "enter marks 88\n"
     ]
    },
    {
     "name": "stdout",
     "output_type": "stream",
     "text": [
      "you will get A0 batch\n"
     ]
    }
   ],
   "source": [
    "marks = int(input(\"enter marks\"))\n",
    "if marks >= 80 :\n",
    "    print(\"you will get A0 batch\")\n",
    "elif marks >=60 and marks <80 :\n",
    "    print (\"you will get A1 batch\")\n",
    "elif marks >=40 and marks <60 :\n",
    "    print(\"you will get A2 batch\")\n",
    "else :\n",
    "    print(\"you will get A3 batch\")"
   ]
  },
  {
   "cell_type": "code",
   "execution_count": 3,
   "id": "5fc2f31f-c56c-4f8d-9be3-87e4213133a9",
   "metadata": {},
   "outputs": [
    {
     "name": "stdin",
     "output_type": "stream",
     "text": [
      "enter price 77\n"
     ]
    },
    {
     "name": "stdout",
     "output_type": "stream",
     "text": [
      "i will purchase\n"
     ]
    }
   ],
   "source": [
    "price = int(input(\"enter price\"))\n",
    "if price<= 3000 :\n",
    "    print(\"i will purchase\")\n",
    "elif price<=4000 and price >3000 :\n",
    "    print(\"i might be purchase\")\n",
    "else:\n",
    "    print(\"i will not purchase\")"
   ]
  },
  {
   "cell_type": "code",
   "execution_count": 4,
   "id": "e5cbea2c-9640-4924-bcf1-034db5f85036",
   "metadata": {},
   "outputs": [],
   "source": [
    "l = [1,2,3,4,5,6,7,8,9]"
   ]
  },
  {
   "cell_type": "code",
   "execution_count": 10,
   "id": "e9b82fc3-02b5-403e-927a-391d62b32557",
   "metadata": {},
   "outputs": [
    {
     "data": {
      "text/plain": [
       "[1, 2, 3, 4, 5, 6, 7, 8, 9]"
      ]
     },
     "execution_count": 10,
     "metadata": {},
     "output_type": "execute_result"
    }
   ],
   "source": [
    "l"
   ]
  },
  {
   "cell_type": "code",
   "execution_count": 22,
   "id": "7bd65476-8812-4576-9379-f3ebc13e4cc8",
   "metadata": {},
   "outputs": [
    {
     "name": "stdout",
     "output_type": "stream",
     "text": [
      "2\n",
      "3\n",
      "4\n",
      "5\n",
      "6\n",
      "7\n",
      "8\n",
      "9\n",
      "10\n"
     ]
    },
    {
     "data": {
      "text/plain": [
       "[2, 3, 4, 5, 6, 7, 8, 9, 10]"
      ]
     },
     "execution_count": 22,
     "metadata": {},
     "output_type": "execute_result"
    }
   ],
   "source": [
    "l1= []\n",
    "for i in l :\n",
    "    print(i+1)\n",
    "    l1.append(i+1)\n",
    "l1"
   ]
  },
  {
   "cell_type": "code",
   "execution_count": 29,
   "id": "2eb1fd04-b813-43a4-9d29-b803f293c64a",
   "metadata": {},
   "outputs": [],
   "source": [
    "l8= [\"sudh\",\"kumar\",\"pwsills\",\"course\"]"
   ]
  },
  {
   "cell_type": "code",
   "execution_count": 30,
   "id": "db438d1f-76c8-4c2d-bc9e-693f17dfaaff",
   "metadata": {},
   "outputs": [
    {
     "name": "stdout",
     "output_type": "stream",
     "text": [
      "1\n",
      "2\n",
      "3\n",
      "4\n",
      "5\n",
      "6\n",
      "7\n",
      "8\n",
      "9\n"
     ]
    }
   ],
   "source": [
    "for i in l:\n",
    "    print(i)"
   ]
  },
  {
   "cell_type": "code",
   "execution_count": 31,
   "id": "3fcb7b63-b322-47de-b3b6-aee83315ab53",
   "metadata": {},
   "outputs": [
    {
     "data": {
      "text/plain": [
       "[1, 2, 3, 4, 5, 6, 7, 8, 9]"
      ]
     },
     "execution_count": 31,
     "metadata": {},
     "output_type": "execute_result"
    }
   ],
   "source": [
    "l"
   ]
  },
  {
   "cell_type": "code",
   "execution_count": 32,
   "id": "8aa614d6-d895-48df-acfc-cfbb34e770cc",
   "metadata": {},
   "outputs": [],
   "source": [
    "l = [\"sudh\",\"kumar\",\"pwskills\",\"course\"]"
   ]
  },
  {
   "cell_type": "code",
   "execution_count": 33,
   "id": "520f97e1-d393-4b2e-874c-73baaf971916",
   "metadata": {},
   "outputs": [
    {
     "data": {
      "text/plain": [
       "['sudh', 'kumar', 'pwskills', 'course']"
      ]
     },
     "execution_count": 33,
     "metadata": {},
     "output_type": "execute_result"
    }
   ],
   "source": [
    "l"
   ]
  },
  {
   "cell_type": "code",
   "execution_count": 36,
   "id": "0aa2d88c-b862-4759-a004-18c7db63d711",
   "metadata": {},
   "outputs": [
    {
     "name": "stdout",
     "output_type": "stream",
     "text": [
      "sudh\n",
      "kumar\n",
      "pwskills\n",
      "course\n"
     ]
    }
   ],
   "source": [
    "l1 = []\n",
    "for i in l :\n",
    "    print(i)\n",
    "    l1.append(i.upper())"
   ]
  },
  {
   "cell_type": "code",
   "execution_count": 37,
   "id": "bfe434c5-d378-4cd4-8967-074ced82c366",
   "metadata": {},
   "outputs": [
    {
     "data": {
      "text/plain": [
       "['SUDH', 'KUMAR', 'PWSKILLS', 'COURSE']"
      ]
     },
     "execution_count": 37,
     "metadata": {},
     "output_type": "execute_result"
    }
   ],
   "source": [
    "l1"
   ]
  },
  {
   "cell_type": "code",
   "execution_count": 38,
   "id": "00d8cf52-0a17-4462-8f2e-bd21daafc6cf",
   "metadata": {},
   "outputs": [],
   "source": [
    "l = [1,2,3,4,4,5,\"sudh\",\"kumar\",44,78.54,\"sbc\"]"
   ]
  },
  {
   "cell_type": "code",
   "execution_count": 49,
   "id": "804411d0-b3ac-4c8e-8152-b001ebf607b8",
   "metadata": {},
   "outputs": [],
   "source": [
    "l1_num = []\n",
    "l2_str= []\n",
    "for i in l :\n",
    "    if type(i) == int or type(i) == float :\n",
    "        l1_num.append(i)\n",
    "    else :\n",
    "        l2_str.append(i)"
   ]
  },
  {
   "cell_type": "code",
   "execution_count": 50,
   "id": "f211dc16-a196-4079-8bc5-ee733755817b",
   "metadata": {},
   "outputs": [
    {
     "data": {
      "text/plain": [
       "[1, 2, 3, 4, 4, 5, 44.54]"
      ]
     },
     "execution_count": 50,
     "metadata": {},
     "output_type": "execute_result"
    }
   ],
   "source": [
    "l1_num"
   ]
  },
  {
   "cell_type": "code",
   "execution_count": 51,
   "id": "f745ae5b-a461-401e-8383-2eaf903836bc",
   "metadata": {},
   "outputs": [
    {
     "data": {
      "text/plain": [
       "['sudh', 'kumar', 'sbc']"
      ]
     },
     "execution_count": 51,
     "metadata": {},
     "output_type": "execute_result"
    }
   ],
   "source": [
    "l2_str"
   ]
  },
  {
   "cell_type": "code",
   "execution_count": null,
   "id": "d01329c2-63cc-40e5-8fd0-bc4f042f5f61",
   "metadata": {},
   "outputs": [],
   "source": []
  }
 ],
 "metadata": {
  "kernelspec": {
   "display_name": "Python 3 (ipykernel)",
   "language": "python",
   "name": "python3"
  },
  "language_info": {
   "codemirror_mode": {
    "name": "ipython",
    "version": 3
   },
   "file_extension": ".py",
   "mimetype": "text/x-python",
   "name": "python",
   "nbconvert_exporter": "python",
   "pygments_lexer": "ipython3",
   "version": "3.10.8"
  }
 },
 "nbformat": 4,
 "nbformat_minor": 5
}
