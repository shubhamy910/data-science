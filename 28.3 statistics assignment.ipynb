{
 "cells": [
  {
   "cell_type": "markdown",
   "id": "1b1c6a9f-ee51-46a4-9c63-40173b346e17",
   "metadata": {},
   "source": [
    "Q1: What is Estimation Statistics? Explain point estimate and interval estimate."
   ]
  },
  {
   "cell_type": "markdown",
   "id": "1d010633-b939-4c87-8b0b-fecfaa06958a",
   "metadata": {},
   "source": [
    "answer1. \n",
    "\n",
    "Estimation statistics is a branch of statistics that deals with estimating population parameters based on sample data. When we have limited information about a population, we can use estimation techniques to make educated guesses about the population parameters.\n",
    "\n",
    "Point Estimate: A point estimate is a single value that is used to estimate an unknown population parameter. It is typically computed from sample data and serves as the \"best guess\" for the true value of the population parameter. However, it may or may not be exactly equal to the true population value.\n",
    "\n",
    "Interval Estimate: An interval estimate is a range of values within which the true population parameter is likely to lie. Instead of providing a single value, interval estimates give a level of confidence for the range of values. It is represented as (lower bound, upper bound), where both the lower and upper bounds are computed from sample "
   ]
  },
  {
   "cell_type": "markdown",
   "id": "7694f69f-997d-4aab-b6fb-dfd3e7ea9880",
   "metadata": {},
   "source": [
    "Q2. Write a Python function to estimate the population mean using a sample mean and standard deviation."
   ]
  },
  {
   "cell_type": "code",
   "execution_count": 1,
   "id": "e66518d3-3090-4075-959c-0cbd30e5202b",
   "metadata": {},
   "outputs": [],
   "source": [
    "def population_mean_estimate(sample_mean, sample_std_dev, sample_size):\n",
    "    \"\"\"\n",
    "    Estimate the population mean using sample mean and standard deviation.\n",
    "\n",
    "    Parameters:\n",
    "        sample_mean (float): Sample mean.\n",
    "        sample_std_dev (float): Sample standard deviation.\n",
    "        sample_size (int): Sample size.\n",
    "\n",
    "    Returns:\n",
    "        float: Estimated population mean.\n",
    "    \"\"\"\n",
    "    return sample_mean * (sample_size ** 0.5) / sample_std_dev"
   ]
  },
  {
   "cell_type": "markdown",
   "id": "d4dcbb69-cee1-4dfb-8698-b3171a0c118b",
   "metadata": {},
   "source": [
    "Q3: What is Hypothesis testing? Why is it used? State the importance of Hypothesis testing."
   ]
  },
  {
   "cell_type": "markdown",
   "id": "83f23d60-49ea-43c6-af15-7bbc8a564819",
   "metadata": {},
   "source": [
    "\n",
    "Answer3. \n",
    "Hypothesis testing is a statistical method used to make decisions about a population based on sample data. It involves setting up two competing hypotheses (null hypothesis and alternative hypothesis) and testing them using sample data. The main purpose of hypothesis testing is to make inferences about the population and assess the strength of evidence for or against certain claims or beliefs.\n",
    "\n",
    "Importance of Hypothesis Testing:\n",
    "\n",
    "1- It helps in making data-driven decisions and drawing conclusions about a population.\n",
    "\n",
    "2- It provides a systematic and objective approach to validate or reject assumptions and beliefs.\n",
    "\n",
    "3- It plays a crucial role in scientific research, quality control, and decision-making processes."
   ]
  },
  {
   "cell_type": "markdown",
   "id": "4740f6f7-e913-4875-8eaa-542f82cb52c7",
   "metadata": {},
   "source": [
    "Q4. Create a hypothesis that states whether the average weight of male college students is greater than the average weight of female college students."
   ]
  },
  {
   "cell_type": "markdown",
   "id": "99b9d8d4-3e6a-43cb-bceb-553b5a464988",
   "metadata": {},
   "source": [
    "answer4.\n",
    "\n",
    "Null Hypothesis (H0): The average weight of male college students is equal to or less than the average weight of female college students. Alternative Hypothesis (Ha): The average weight of male college students is greater than the average weight of female college students."
   ]
  },
  {
   "cell_type": "markdown",
   "id": "a6181e82-9101-4823-b9c8-c61689dead41",
   "metadata": {},
   "source": [
    "Q5. Write a Python script to conduct a hypothesis test on the difference between two population means, given a sample from each population."
   ]
  },
  {
   "cell_type": "code",
   "execution_count": 4,
   "id": "33ab381a-6277-4515-a87f-f3a244f87437",
   "metadata": {},
   "outputs": [],
   "source": [
    "#answer5-\n",
    "\n",
    "import numpy as np\n",
    "import scipy.stats as stats\n",
    "\n",
    "def two_sample_t_test(sample1, sample2, null_hypothesis=0):\n",
    "    \"\"\"\n",
    "    Conduct a two-sample t-test for independent samples.\n",
    "\n",
    "    Parameters:\n",
    "        sample1 (array-like): First sample data.\n",
    "        sample2 (array-like): Second sample data.\n",
    "        null_hypothesis (float): Value of the null hypothesis (default is 0).\n",
    "\n",
    "    Returns:\n",
    "        float: t-statistic.\n",
    "        float: p-value.\n",
    "    \"\"\"\n",
    "    t_stat, p_value = stats.ttest_ind(sample1, sample2, alternative='greater', value=null_hypothesis)\n",
    "    return t_stat, p_value"
   ]
  },
  {
   "cell_type": "markdown",
   "id": "48436c1d-3e14-4a28-86ac-0783d4f1fdde",
   "metadata": {},
   "source": [
    "Q6: What is a null and alternative hypothesis? Give some examples."
   ]
  },
  {
   "cell_type": "markdown",
   "id": "6762521a-6f17-4c24-b1e2-21273ca6c752",
   "metadata": {},
   "source": [
    "A6.\n",
    "\n",
    "Null Hypothesis (H0): It is a statement of no effect or no difference. It assumes that any observed differences or effects are due to chance or random variation. It is often denoted as the default or initial assumption.\n",
    "\n",
    "Example: H0: There is no significant difference in the test scores of two groups.\n",
    "\n",
    "Alternative Hypothesis (Ha): It is a statement that contradicts the null hypothesis. It suggests that there is a significant effect or difference in the population.\n",
    "\n",
    "Example: Ha: There is a significant difference in the test scores of the two groups.\n"
   ]
  },
  {
   "cell_type": "markdown",
   "id": "51e044f9-3a9f-4f25-8441-78c9aecb0e44",
   "metadata": {},
   "source": [
    "Q7: Write down the steps involved in hypothesis testing."
   ]
  },
  {
   "cell_type": "markdown",
   "id": "21e32cc1-6338-4c58-880a-2ec280f962ab",
   "metadata": {},
   "source": [
    "Answer7.\n",
    "\n",
    "1- Formulate the Hypotheses: Define the null and alternative hypotheses based on the research question.\n",
    "\n",
    "2- Choose the Test Statistic: Select an appropriate test statistic based on the type of data and hypotheses.\n",
    "\n",
    "3- Set the Significance Level (α): Determine the level of significance (e.g., α = 0.05) to control the probability of Type I error.\n",
    "\n",
    "4- Collect Sample Data: Obtain a random sample from the population and calculate the test statistic.\n",
    "\n",
    "5- Compute the p-value: Determine the probability of observing the sample data or more extreme data under the null hypothesis.\n",
    "\n",
    "6- Make a Decision: Compare the p-value with the significance level. If p-value < α, reject the null hypothesis; otherwise, fail to reject the null hypothesis.\n",
    "\n",
    "7- Draw Conclusion: Interpret the results and make conclusions about the population based on the sample data.\n"
   ]
  },
  {
   "cell_type": "code",
   "execution_count": null,
   "id": "b4ed26c5-f840-4d10-9df3-ae53a1ad3a30",
   "metadata": {},
   "outputs": [],
   "source": []
  },
  {
   "cell_type": "markdown",
   "id": "118371e2-e575-446c-b2a1-91dbcc7df204",
   "metadata": {},
   "source": [
    "Q8. Define p-value and explain its significance in hypothesis testing."
   ]
  },
  {
   "cell_type": "markdown",
   "id": "08b7a699-b39b-4b73-8b3a-d63138370dcb",
   "metadata": {},
   "source": [
    "Answer8. \n",
    "\n",
    "The p-value is the probability of observing the sample data, or more extreme data, assuming that the null hypothesis is true. It measures the strength of evidence against the null hypothesis. In hypothesis testing, the p-value helps in deciding whether to reject or fail to reject the null hypothesis.\n",
    "\n",
    "If the p-value is less than the chosen significance level (α), typically 0.05, we reject the null hypothesis. This indicates that the observed data is unlikely to have occurred by chance, and there is evidence to support the alternative hypothesis.\n",
    "\n",
    "If the p-value is greater than the chosen significance level (α), we fail to reject the null hypothesis. This means that there is not enough evidence to support the alternative hypothesis, and the observed data could be due to random chance."
   ]
  },
  {
   "cell_type": "markdown",
   "id": "a9e12b8c-4956-488a-b612-0c1cf77b9fc8",
   "metadata": {},
   "source": [
    "Q9. Generate a Student's t-distribution plot using Python's matplotlib library, with the degrees of freedom parameter set to 10."
   ]
  },
  {
   "cell_type": "code",
   "execution_count": 5,
   "id": "db19032c-5a51-497e-ac4e-447eef60c124",
   "metadata": {},
   "outputs": [
    {
     "data": {
      "image/png": "[encoded data removed]",
      "text/plain": [
       "<Figure size 640x480 with 1 Axes>"
      ]
     },
     "metadata": {},
     "output_type": "display_data"
    }
   ],
   "source": [
    "#answer9-\n",
    "\n",
    "import numpy as np\n",
    "import matplotlib.pyplot as plt\n",
    "from scipy.stats import t\n",
    "\n",
    "df = 10\n",
    "\n",
    "x = np.linspace(-4, 4, 1000)\n",
    "y = t.pdf(x, df)\n",
    "\n",
    "plt.plot(x, y)\n",
    "plt.title(\"Student's t-Distribution (df=10)\")\n",
    "plt.xlabel('x')\n",
    "plt.ylabel('Probability Density')\n",
    "plt.grid(True)\n",
    "plt.show()"
   ]
  },
  {
   "cell_type": "markdown",
   "id": "39deb86a-0554-49ba-8305-8610715ce7bc",
   "metadata": {},
   "source": [
    "Q10. Write a Python program to calculate the two-sample t-test for independent samples, given two random samples of equal size and a null hypothesis that the population means are equal."
   ]
  },
  {
   "cell_type": "code",
   "execution_count": 6,
   "id": "e24e537e-db6b-4a40-8ca8-b5cac071d57d",
   "metadata": {},
   "outputs": [
    {
     "name": "stdout",
     "output_type": "stream",
     "text": [
      "t-statistic: 2.829357375429044\n",
      "p-value: 0.011086065990176324\n"
     ]
    }
   ],
   "source": [
    "#answer10-\n",
    "\n",
    "import numpy as np\n",
    "import scipy.stats as stats\n",
    "\n",
    "def two_sample_t_test(sample1, sample2):\n",
    "    \"\"\"\n",
    "    Conduct a two-sample t-test for independent samples.\n",
    "\n",
    "    Parameters:\n",
    "        sample1 (array-like): First sample data.\n",
    "        sample2 (array-like): Second sample data.\n",
    "\n",
    "    Returns:\n",
    "        float: t-statistic.\n",
    "        float: p-value.\n",
    "    \"\"\"\n",
    "    t_stat, p_value = stats.ttest_ind(sample1, sample2, alternative='greater')\n",
    "    return t_stat, p_value\n",
    "\n",
    "sample1 = [84, 88, 91, 78, 82]\n",
    "sample2 = [75, 79, 81, 72, 77]\n",
    "t_statistic, p_value = two_sample_t_test(sample1, sample2)\n",
    "\n",
    "print(\"t-statistic:\", t_statistic)\n",
    "print(\"p-value:\", p_value)"
   ]
  },
  {
   "cell_type": "markdown",
   "id": "7d799b3e-a539-4dba-adf1-1d321de66882",
   "metadata": {},
   "source": [
    "Q11: What is Student’s t distribution? When to use the t-Distribution."
   ]
  },
  {
   "cell_type": "markdown",
   "id": "9fc4f699-04ce-4d01-9eb0-0d0c9ed6d728",
   "metadata": {},
   "source": [
    "Answer11. \n",
    "\n",
    "Student's t-distribution is a probability distribution that arises when estimating the population mean of a small sample (n < 30) from a normally distributed population with unknown variance. It is similar to the standard normal distribution (Z-distribution) but accounts for the uncertainty introduced by estimating the population standard deviation from a small sample.\n",
    "\n",
    "Use the t-distribution:\n",
    "\n",
    "1- When the sample size is small (n < 30) and the population standard deviation is unknown.\n",
    "\n",
    "2- In situations where data does not follow a normal distribution but the sample size is small (due to the Central Limit Theorem).\n"
   ]
  },
  {
   "cell_type": "markdown",
   "id": "1597a33e-6b6d-486e-be8c-b90fca51c0cc",
   "metadata": {},
   "source": [
    "Q12: What is t-statistic? State the formula for t-statistic."
   ]
  },
  {
   "cell_type": "markdown",
   "id": "8913c773-032e-4af2-a4ab-2b08bd817752",
   "metadata": {},
   "source": [
    "Answer12. \n",
    "\n",
    "The t-statistic is a measure used in hypothesis testing to determine if there is a significant difference between the sample mean and the hypothesized population mean. It measures the number of standard errors the sample mean is away from the hypothesized mean, accounting for the sample size and standard deviation.\n",
    "\n",
    "Formula for t-statistic (for testing a sample mean against a hypothesized population mean):\n",
    "\n",
    "t = (sample_mean - hypothesized_mean) / (sample_std_dev / √sample_size)"
   ]
  },
  {
   "cell_type": "markdown",
   "id": "41be56ab-f8e8-43d5-9f94-066e435e9a6b",
   "metadata": {},
   "source": [
    "Q13. A coffee shop owner wants to estimate the average daily revenue for their shop. They take a random sample of 50 days and find the sample mean revenue to be \n",
    "50. Estimate the population mean revenue with a 95% confidence interval."
   ]
  },
  {
   "cell_type": "markdown",
   "id": "ef6e9f35-8568-40ac-ab27-a0f5ac5070b8",
   "metadata": {},
   "source": [
    "answer13.\n",
    "\n",
    "Sample mean revenue (x̄) = $500\n",
    "\n",
    "Sample standard deviation (s) = $50\n",
    "\n",
    "Sample size (n) = 50\n",
    "\n",
    "Confidence level (1 - α) = 95% (α = 0.05)\n",
    "\n",
    "The confidence interval is calculated as:\n",
    "\n",
    "Confidence Interval = x̄ ± t_critical * (s / √n)\n",
    "\n",
    "First, we need to find the t-critical value for a 95% confidence level with degrees of freedom (n - 1 = 50 - 1 = 49). Using a t-table or calculator, the t-critical value for a 95% confidence level and 49 degrees of freedom is approximately 2.009.\n",
    "\n",
    "Confidence Interval = 500 ± 2.009 * (50 / √50) = 500 ± 14.18\n",
    "\n",
    "The 95% confidence interval for the population mean revenue is approximately \n",
    "514.18.\n"
   ]
  },
  {
   "cell_type": "markdown",
   "id": "efcb1376-20fa-4866-b272-f90cdc2984d2",
   "metadata": {},
   "source": [
    "Q14. A researcher hypothesizes that a new drug will decrease blood pressure by 10 mmHg. They conduct a clinical trial with 100 patients and find that the sample mean decrease in blood pressure is 8 mmHg with a standard deviation of 3 mmHg. Test the hypothesis with a significance level of 0.05."
   ]
  },
  {
   "cell_type": "markdown",
   "id": "d4fce327-7047-46df-a44a-c2f00a7f615e",
   "metadata": {},
   "source": [
    "Answer14.\n",
    "\n",
    "Sample mean decrease in blood pressure (x̄) = 8 mmHg\n",
    "\n",
    "Sample standard deviation (s) = 3 mmHg\n",
    "\n",
    "Sample size (n) = 100\n",
    "\n",
    "Hypothesized mean decrease (μ0) = 10 mmHg (null hypothesis)\n",
    "\n",
    "Significance level (α) = 0.05\n",
    "\n",
    "Null Hypothesis (H0): The new drug does not decrease blood pressure by 10 mmHg. (μ ≤ 10 mmHg)\n",
    "\n",
    "Alternative Hypothesis (Ha): The new drug decreases blood pressure by more than 10 mmHg. (μ > 10 mmHg)\n",
    "\n",
    "We will use a one-sample t-test to test the hypothesis.\n",
    "\n",
    "t = (x̄ - μ0) / (s / √n)\n",
    "\n",
    "t = (8 - 10) / (3 / √100) = -2 / 0.3 ≈ -6.67\n",
    "\n",
    "The t-critical value for a one-tailed test with 99 degrees of freedom (n - 1) at a significance level of 0.05 is approximately -1.66.\n",
    "\n",
    "Since t < t_critical, we reject the null hypothesis. There is enough evidence to suggest that the new drug decreases blood pressure by more than 10 mmHg.\n"
   ]
  },
  {
   "cell_type": "markdown",
   "id": "56eb62d1-0af5-4ae8-a712-8c76b5660b5a",
   "metadata": {},
   "source": [
    "Q15. An electronics company produces a certain type of product with a mean weight of 5 pounds and a standard deviation of 0.5 pounds. A random sample of 25 products is taken, and the sample mean weight is found to be 4.8 pounds. Test the hypothesis that the true mean weight of the products is less than 5 pounds with a significance level of 0.01."
   ]
  },
  {
   "cell_type": "markdown",
   "id": "c9839cad-98e4-4751-9ada-fa312da060e7",
   "metadata": {},
   "source": [
    "Answer15.\n",
    "\n",
    "Sample mean weight (x̄) = 4.8 pounds\n",
    "\n",
    "Population standard deviation (σ) = 0.5 pounds\n",
    "\n",
    "Sample size (n) = 25\n",
    "\n",
    "Hypothesized mean weight (μ0) = 5 pounds (null hypothesis)\n",
    "\n",
    "Significance level (α) = 0.01\n",
    "\n",
    "Null Hypothesis (H0): The true mean weight of the products is not less than 5 pounds. (μ ≥ 5 pounds)\n",
    "\n",
    "Alternative Hypothesis (Ha): The true mean weight of the products is less than 5 pounds. (μ < 5 pounds)\n",
    "\n",
    "We will use a one-sample t-test to test the hypothesis.\n",
    "\n",
    "t = (x̄ - μ0) / (s / √n)\n",
    "\n",
    "t = (4.8 - 5) / (0.5 / √25) = -0.2\n",
    "\n",
    "The t-critical value for a one-tailed test with 24 degrees of freedom (n - 1) at a significance level of 0.01 is approximately -2.492.\n",
    "\n",
    "Since t > t_critical, we fail to reject the null hypothesis. There is not enough evidence to suggest that the true mean weight of the products is less than 5 pounds.\n"
   ]
  },
  {
   "cell_type": "markdown",
   "id": "47b6dc3b-9d66-4c54-a508-87522be589ef",
   "metadata": {},
   "source": [
    "Q16. Two groups of students are given different study materials to prepare for a test. The first group (n1 = 30) has a mean score of 80 with a standard deviation of 10, and the second group (n2 = 40) has a mean score of 75 with a standard deviation of 8. Test the hypothesis that the population means for the two groups are equal with a significance level of 0.01."
   ]
  },
  {
   "cell_type": "markdown",
   "id": "b6fb8974-0286-4c9e-8412-23e68ab1b0d4",
   "metadata": {},
   "source": [
    "Answer16.\n",
    "\n",
    "Group 1:\n",
    "\n",
    "Sample size (n1) = 30\n",
    "\n",
    "Sample mean score (x̄1) = 80\n",
    "\n",
    "Sample standard deviation (s1) = 10\n",
    "\n",
    "Group 2:\n",
    "\n",
    "Sample size (n2) = 40\n",
    "\n",
    "Sample mean score (x̄2) = 75\n",
    "\n",
    "Sample standard deviation (s2) = 8\n",
    "\n",
    "Null Hypothesis (H0): The population means for the two groups are equal. (μ1 = μ2)\n",
    "\n",
    "Alternative Hypothesis (Ha): The population means for the two groups are not equal. (μ1 ≠ μ2)\n",
    "\n",
    "We will use a two-sample t-test for independent samples to test the hypothesis.\n",
    "\n",
    "t = (x̄1 - x̄2) / √((s1^2 / n1) + (s2^2 / n2))\n",
    "\n",
    "t = (80 - 75) / √((10^2 / 30) + (8^2 / 40)) ≈ 2.91\n",
    "\n",
    "The t-critical value for a two-tailed test with 68 degrees of freedom (n1 + n2 - 2) at a significance level of 0.01 is approximately ±2.626.\n",
    "\n",
    "Since t > t_critical, we reject the null hypothesis. There is enough evidence to suggest that the population means for the two groups are different."
   ]
  },
  {
   "cell_type": "markdown",
   "id": "0e58d8cc-8a7f-4437-bed9-bca950f9ccc3",
   "metadata": {},
   "source": [
    "Q17. A marketing company wants to estimate the average number of ads watched by viewers during a TV program. They take a random sample of 50 viewers and find that the sample mean is 4 with a standard deviation of 1.5. Estimate the population mean with a 99% confidence interval."
   ]
  },
  {
   "cell_type": "markdown",
   "id": "e045b6dc-d20f-424c-9025-54bf417e1a3b",
   "metadata": {},
   "source": [
    "Answer17.\n",
    "\n",
    "Sample mean number of ads watched (x̄) = 4\n",
    "\n",
    "Sample standard deviation (s) = 1.5\n",
    "\n",
    "Sample size (n) = 50\n",
    "\n",
    "Confidence level (1 - α) = 99% (α = 0.01)\n",
    "\n",
    "The confidence interval is calculated as:\n",
    "\n",
    "Confidence Interval = x̄ ± t_critical * (s / √n)\n",
    "\n",
    "First, we need to find the t-critical value for a 99% confidence level with degrees of freedom (n - 1 = 50 - 1 = 49). Using a t-table or calculator, the t-critical value for a 99% confidence level and 49 degrees of freedom is approximately 2.680.\n",
    "\n",
    "Confidence Interval = 4 ± 2.680 * (1.5 / √50) ≈ 4 ± 0.38\n",
    "\n",
    "The 99% confidence interval for the population mean number of ads watched by viewers is approximately 3.62 to 4.38."
   ]
  },
  {
   "cell_type": "markdown",
   "id": "f583afda-650c-4627-bbd5-daeb62525a8f",
   "metadata": {},
   "source": [
    "."
   ]
  },
  {
   "cell_type": "code",
   "execution_count": null,
   "id": "d7b28301-e826-45eb-b189-bfa41bd519c0",
   "metadata": {},
   "outputs": [],
   "source": []
  }
 ],
 "metadata": {
  "kernelspec": {
   "display_name": "Python 3 (ipykernel)",
   "language": "python",
   "name": "python3"
  },
  "language_info": {
   "codemirror_mode": {
    "name": "ipython",
    "version": 3
   },
   "file_extension": ".py",
   "mimetype": "text/x-python",
   "name": "python",
   "nbconvert_exporter": "python",
   "pygments_lexer": "ipython3",
   "version": "3.10.8"
  }
 },
 "nbformat": 4,
 "nbformat_minor": 5
}
