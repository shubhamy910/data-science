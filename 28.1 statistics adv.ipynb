{
 "cells": [
  {
   "cell_type": "markdown",
   "id": "8f02007a-ed10-4340-86eb-91d1dfe00765",
   "metadata": {},
   "source": [
    "Q1. What is the Probability density function?"
   ]
  },
  {
   "cell_type": "markdown",
   "id": "19010063-9ade-4467-acb6-ec12ecf8eb47",
   "metadata": {},
   "source": [
    "Answer1. The Probability Density Function (PDF) is a fundamental concept in probability and statistics. For continuous random variables, the PDF is a function that describes the likelihood of the random variable taking on a particular value within a given range. The PDF gives the relative likelihood of the random variable being near a specific value. Mathematically, the PDF is denoted by \"f(x)\" and satisfies the following properties:\n",
    "\n",
    "f(x) ≥ 0: The PDF is non-negative for all values of x. The total area under the PDF curve is equal to 1.\n",
    "\n",
    "\n"
   ]
  },
  {
   "cell_type": "markdown",
   "id": "99cb5003-0ec2-4be1-9ce5-ab9174000a10",
   "metadata": {},
   "source": [
    "Q2. What are the types of Probability distribution?"
   ]
  },
  {
   "cell_type": "markdown",
   "id": "70ac5872-3300-4254-88b3-54d9cb8f643f",
   "metadata": {},
   "source": [
    "Answer2. There are several types of probability distributions used to model different types of random variables:\n",
    "\n",
    "1- Continuous Distributions:\n",
    "\n",
    " (i) Normal (Gaussian) Distribution\n",
    " (ii) Uniform Distribution\n",
    "(iii) Exponential Distribution\n",
    "\n",
    "2-Discrete Distributions:\n",
    "\n",
    " (i) Bernoulli Distribution\n",
    " (i) Binomial Distribution\n",
    "(iii) Poisson Distribution\n",
    " (iv) Geometric Distribution"
   ]
  },
  {
   "cell_type": "markdown",
   "id": "4a1eb426-92e6-4ece-ba5d-b984ace696ba",
   "metadata": {},
   "source": [
    "Q3. Write a Python function to calculate the probability density function of a normal distribution with given mean and standard deviation at a given point."
   ]
  },
  {
   "cell_type": "code",
   "execution_count": 1,
   "id": "fc88a423-bf06-4f4c-a8a2-c2fa69e671b2",
   "metadata": {},
   "outputs": [],
   "source": [
    "#answer3-\n",
    "\n",
    "import numpy as np\n",
    "import scipy.stats as stats\n",
    "\n",
    "def normal_pdf(x, mean, std_dev):\n",
    "    \"\"\"\n",
    "    Calculate the Probability Density Function (PDF) of a normal distribution at a given point.\n",
    "    \n",
    "    Parameters:\n",
    "        x (float): The point at which to evaluate the PDF.\n",
    "        mean (float): Mean of the normal distribution.\n",
    "        std_dev (float): Standard deviation of the normal distribution.\n",
    "    \n",
    "    Returns:\n",
    "        float: The PDF value at the given point 'x'.\n",
    "    \"\"\"\n",
    "    return stats.norm.pdf(x, loc=mean, scale=std_dev)"
   ]
  },
  {
   "cell_type": "markdown",
   "id": "2e979123-a600-4d17-acc8-ef9a2767ef57",
   "metadata": {},
   "source": [
    "Q4. What are the properties of Binomial distribution? Give two examples of events where binomial distribution can be applied."
   ]
  },
  {
   "cell_type": "markdown",
   "id": "0570fb9a-ecb4-40ac-b47e-bfdb5a3a4d03",
   "metadata": {},
   "source": [
    "Answer4. The Binomial distribution is a discrete probability distribution that models the number of successes in a fixed number of independent Bernoulli trials (experiments with two possible outcomes: success or failure). The properties of the Binomial distribution are:\n",
    "\n",
    "1- The random variable \"X\" follows a Binomial distribution if the trials are independent and have a constant probability of success, denoted by \"p,\" in each trial.\n",
    "\n",
    "2- The probability mass function (PMF) of the Binomial distribution is given by: P(X = k) = C(n, k) * p^k * (1 - p)^(n - k), where \"C(n, k)\" is the binomial coefficient (n choose k).\n",
    "\n",
    "3-The mean of the Binomial distribution is μ = n * p.\n",
    "\n",
    "4-The variance of the Binomial distribution is σ^2 = n * p * (1 - p).\n",
    "\n",
    "\n",
    "Two examples where the Binomial distribution can be applied are:\n",
    "\n",
    "1- Tossing a fair coin (Bernoulli trial) and counting the number of heads in 10 tosses.\n",
    "2=Checking the defective items in a production line where each item has a known probability of being defective."
   ]
  },
  {
   "cell_type": "markdown",
   "id": "bd401442-a057-49c0-9da4-94b0eaf43ab8",
   "metadata": {},
   "source": [
    "Q5. Generate a random sample of size 1000 from a binomial distribution with probability of success 0.4 and plot a histogram of the results using matplotlib."
   ]
  },
  {
   "cell_type": "code",
   "execution_count": 2,
   "id": "b472ffd5-e903-40c4-9524-a9724eac0a90",
   "metadata": {},
   "outputs": [
    {
     "data": {
      "image/png": "[encoded data removed]",
      "text/plain": [
       "<Figure size 640x480 with 1 Axes>"
      ]
     },
     "metadata": {},
     "output_type": "display_data"
    }
   ],
   "source": [
    "#answer5-\n",
    "\n",
    "import numpy as np\n",
    "import matplotlib.pyplot as plt\n",
    "\n",
    "sample_size = 1000\n",
    "probability_of_success = 0.4\n",
    "random_sample = np.random.binomial(n=1, p=probability_of_success, size=sample_size)\n",
    "\n",
    "plt.hist(random_sample, bins=2, edgecolor='black')\n",
    "plt.xlabel('Outcome')\n",
    "plt.ylabel('Frequency')\n",
    "plt.title('Histogram of Random Sample from Binomial Distribution')\n",
    "plt.xticks([0, 1], ['Failure (0)', 'Success (1)'])\n",
    "plt.show()"
   ]
  },
  {
   "cell_type": "markdown",
   "id": "8338b731-5f53-4852-8dea-02d7d20407ea",
   "metadata": {},
   "source": [
    "Q6. Write a Python function to calculate the cumulative distribution function of a Poisson distribution with given mean at a given point."
   ]
  },
  {
   "cell_type": "code",
   "execution_count": 3,
   "id": "29ba9c45-eff2-466d-b9d1-790f5ac80bda",
   "metadata": {},
   "outputs": [],
   "source": [
    "#answer6-\n",
    "\n",
    "import numpy as np\n",
    "import scipy.stats as stats\n",
    "\n",
    "def poisson_cdf(k, mean):\n",
    "    \"\"\"\n",
    "    Calculate the Cumulative Distribution Function (CDF) of a Poisson distribution at a given point.\n",
    "    \n",
    "    Parameters:\n",
    "        k (int): The point at which to evaluate the CDF.\n",
    "        mean (float): Mean of the Poisson distribution.\n",
    "    \n",
    "    Returns:\n",
    "        float: The CDF value at the given point 'k'.\n",
    "    \"\"\"\n",
    "    return stats.poisson.cdf(k, mu=mean)"
   ]
  },
  {
   "cell_type": "markdown",
   "id": "3d360292-5433-4ee4-b4ab-ecb3dcdb58b8",
   "metadata": {},
   "source": [
    "Q7. How Binomial distribution different from Poisson distribution?"
   ]
  },
  {
   "cell_type": "markdown",
   "id": "d2451a0c-bc99-417c-9ae5-91ea572f6b28",
   "metadata": {},
   "source": [
    "\n",
    "Answer7. Both Binomial and Poisson distributions are used to model discrete random variables, but they have different characteristics and applications:\n",
    "\n",
    "Binomial Distribution:\n",
    "\n",
    "1-Models the number of successes in a fixed number of independent Bernoulli trials.\n",
    "2-The probability of success (p) remains constant in each trial.\n",
    "3-The number of trials (n) is fixed.\n",
    "4-Discrete in nature.\n",
    "5-Appropriate when there are a fixed number of trials and two possible outcomes (success or failure).\n",
    "\n",
    "Poisson Distribution:\n",
    "\n",
    "1-Models the number of events that occur in a fixed interval of time or space.\n",
    "2-Represents rare events occurring in a large number of trials with a low probability of success.\n",
    "3-The average rate of events (λ) is constant over time or space.\n",
    "4-Discrete in nature.\n",
    "5-Appropriate when events occur randomly and independently in a continuous or large set of trials."
   ]
  },
  {
   "cell_type": "markdown",
   "id": "4a2401f2-20d3-4657-a5f0-6a97c0044d12",
   "metadata": {},
   "source": [
    "Q8. Generate a random sample of size 1000 from a Poisson distribution with mean 5 and calculate the sample mean and variance."
   ]
  },
  {
   "cell_type": "code",
   "execution_count": 4,
   "id": "4f446bd3-c6c5-4f2d-b25c-6a7b7517bf60",
   "metadata": {},
   "outputs": [
    {
     "name": "stdout",
     "output_type": "stream",
     "text": [
      "Sample Mean: 5.019\n",
      "Sample Variance: 5.0166390000000005\n"
     ]
    }
   ],
   "source": [
    "#answer8=\n",
    "\n",
    "import numpy as np\n",
    "\n",
    "sample_size = 1000\n",
    "mean_poisson = 5\n",
    "random_sample = np.random.poisson(lam=mean_poisson, size=sample_size)\n",
    "\n",
    "sample_mean = np.mean(random_sample)\n",
    "sample_variance = np.var(random_sample)\n",
    "\n",
    "print(\"Sample Mean:\", sample_mean)\n",
    "print(\"Sample Variance:\", sample_variance)"
   ]
  },
  {
   "cell_type": "markdown",
   "id": "6819a098-9929-45c7-b064-d5d512de50cf",
   "metadata": {},
   "source": [
    "Q9. How mean and variance are related in Binomial distribution and Poisson distribution?"
   ]
  },
  {
   "cell_type": "markdown",
   "id": "2a87fb17-e47d-449a-90b9-eedebc222d6b",
   "metadata": {},
   "source": [
    "Answer9-\n",
    "\n",
    "The mean (μ) is equal to the product of the number of trials (n) and the probability of success (p) for the Binomial distribution, or equal to the average rate of events (λ) for the Poisson distribution.\n",
    "\n",
    "The variance (σ^2) is equal to the product of the number of trials (n), the probability of success (p), and the probability of failure (1-p) for the Binomial distribution, or equal to the average rate of events (λ) for the Poisson distribution.\n",
    "\n",
    "For the Binomial distribution:\n",
    "\n",
    "Mean (μ) = n * p Variance (σ^2) = n * p * (1 - p) For the Poisson distribution:\n",
    "\n",
    "Mean (μ) = λ Variance (σ^2) = λ\n"
   ]
  },
  {
   "cell_type": "markdown",
   "id": "5ad59c30-a52f-4c32-9ed2-310f07d60f7d",
   "metadata": {},
   "source": [
    "Q10. In normal distribution with respect to mean position, where does the least frequent data appear?"
   ]
  },
  {
   "cell_type": "markdown",
   "id": "0564804d-1b06-4e1d-994c-611c652bc6d6",
   "metadata": {},
   "source": [
    "Answer10. In a Normal (Gaussian) distribution, the data is symmetrically distributed around the mean. The mean is the central point of the distribution, and the least frequent data points appear farther away from the mean. As we move away from the mean in either direction, the frequency of data points decreases, forming the characteristic bell-shaped curve.\n",
    "\n",
    "Therefore, the least frequent data points appear in the tails of the distribution, which are the regions farthest from the mean."
   ]
  },
  {
   "cell_type": "code",
   "execution_count": null,
   "id": "319b5af2-ee0e-4d61-a61a-74dca7db88a1",
   "metadata": {},
   "outputs": [],
   "source": []
  }
 ],
 "metadata": {
  "kernelspec": {
   "display_name": "Python 3 (ipykernel)",
   "language": "python",
   "name": "python3"
  },
  "language_info": {
   "codemirror_mode": {
    "name": "ipython",
    "version": 3
   },
   "file_extension": ".py",
   "mimetype": "text/x-python",
   "name": "python",
   "nbconvert_exporter": "python",
   "pygments_lexer": "ipython3",
   "version": "3.10.8"
  }
 },
 "nbformat": 4,
 "nbformat_minor": 5
}
