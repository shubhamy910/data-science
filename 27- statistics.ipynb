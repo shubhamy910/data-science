{
 "cells": [
  {
   "cell_type": "raw",
   "id": "ccbdc881-550c-478c-8437-1c197626daa0",
   "metadata": {
    "jp-MarkdownHeadingCollapsed": true,
    "tags": []
   },
   "source": [
    "Q1. What is Statistics?"
   ]
  },
  {
   "cell_type": "raw",
   "id": "48cfa345-e066-4b1c-a8c1-89ded3ab0208",
   "metadata": {},
   "source": [
    "Answer1-  Statistics is the science of collecting, organizing and analyzing data."
   ]
  },
  {
   "cell_type": "raw",
   "id": "9e6cd38e-ecaa-445e-9569-cd98e1180e46",
   "metadata": {},
   "source": [
    "Q2. Define the different types of statistics and give an example of when each type might be used."
   ]
  },
  {
   "cell_type": "raw",
   "id": "3fdd87e6-d039-4a14-86b4-bd4315eaeb50",
   "metadata": {},
   "source": [
    "answer2- \n",
    "\n",
    "Descriptive Statistics-: Descriptive statistics involve summarizing and describing the main features of a dataset. It includes measures such as mean, median, mode, standard deviation, and graphs like histograms and box plots. For example, descriptive statistics can be used to summarize the average income of a population.\n",
    "\n",
    "\n",
    "Inferential Statistics-: Inferential statistics involves drawing conclusions or making predictions about a population based on a sample of data. It uses techniques such as hypothesis testing and confidence intervals. For instance, inferential statistics can be used to determine whether a new drug is effective by comparing the results of a control group and a treatment group."
   ]
  },
  {
   "cell_type": "raw",
   "id": "5a941e58-e36b-40f8-b491-896a6a033d00",
   "metadata": {},
   "source": [
    "Q3. What are the different types of data and how do they differ from each other? Provide an example of each type of data."
   ]
  },
  {
   "cell_type": "raw",
   "id": "049afb1c-a493-4990-aa01-a957d66b1e7a",
   "metadata": {},
   "source": [
    "Answer3- There are two main types of data:\n",
    "\n",
    "Qualitative or Categorical Data: Qualitative data consists of non-numerical observations or attributes. It describes qualities or characteristics and can be further divided into nominal and ordinal data.\n",
    "\n",
    "Nominal Data: Nominal data represents categories or labels with no inherent order or ranking. Examples include gender (male, female), colors (red, blue, green), or types of animals (cat, dog, bird).\n",
    "\n",
    "Ordinal Data: Ordinal data also represents categories, but they have a natural order or ranking. For example, ratings such as \"good,\" \"better,\" and \"best\" or educational levels such as \"high school,\" \"bachelor's degree,\" and \"master's degree\" can be considered ordinal data.\n",
    "\n",
    "Quantitative or Numerical Data: Quantitative data consists of numerical measurements or quantities. It can be further classified as discrete or continuous data.\n",
    "\n",
    "Discrete Data: Discrete data represent values that can only take on specific, separate values. For instance, the number of students in a class (1, 2, 3, ...) or the count of cars passing by an intersection during specific time intervals.\n",
    "\n",
    "Continuous Data: Continuous data represent measurements that can take on any value within a specific range. Examples include height, weight, temperature, or time. Continuous data can be further divided into interval or ratio data.\n",
    "\n",
    "Interval Data: Interval data have meaningful intervals between values, but there is no true zero point. An example is temperature measured in Celsius or Fahrenheit.\n",
    "\n",
    "Ratio Data: Ratio data have a meaningful zero point, and ratios between values are meaningful. Examples include height, weight, or income."
   ]
  },
  {
   "cell_type": "raw",
   "id": "a4240220-b023-4886-8978-85379f654d1d",
   "metadata": {},
   "source": [
    "Q4. Categorise the following datasets with respect to quantitative and qualitative data types:\n",
    "\n",
    "(i) Grading in exam: A+, A, B+, B, C+, C, D, E\n",
    "\n",
    "(ii) Colour of mangoes: yellow, green, orange, red\n",
    "\n",
    "(iii) Height data of a class: [178.9, 179, 179.5, 176, 177.2, 178.3, 175.8,...]\n",
    "\n",
    "(iv) Number of mangoes exported by a farm: [500, 600, 478, 672, ...]"
   ]
  },
  {
   "cell_type": "raw",
   "id": "6f5cfe3e-00d5-4178-bf38-95a44f9cfb90",
   "metadata": {},
   "source": [
    "Answer4-\n",
    "(i) Grading in exam: This dataset represents qualitative data, specifically ordinal data, as the grades have a natural order or ranking. For example, A+ is higher than A, and B+ is higher than B. Therefore, it is an example of ordinal data.\n",
    "\n",
    "(ii) Colour of mangoes: This dataset represents qualitative data, specifically nominal data, as the colors do not have any inherent order or ranking. Each color represents a distinct category without a specific order. Hence, it is an example of nominal data.\n",
    "\n",
    "(iii) Height data of a class: This dataset represents quantitative data, specifically continuous data. The measurements are numeric and can take on any value within a specific range. It is an example of continuous data.\n",
    "\n",
    "(iv) Number of mangoes exported by a farm: This dataset represents quantitative data, specifically discrete data. The values represent counts, and they can only take on specific, separate values (whole numbers). Therefore, it is an example of discrete data."
   ]
  },
  {
   "cell_type": "raw",
   "id": "118cfe7d-e194-4e8c-a0a6-c673576bd306",
   "metadata": {},
   "source": [
    "Q5. Explain the concept of levels of measurement and give an example of a variable for each level."
   ]
  },
  {
   "cell_type": "raw",
   "id": "eb826cbf-11df-404b-bee3-ad6d075a9ac7",
   "metadata": {},
   "source": [
    "Answer5-\n",
    " Levels of measurement, also known as scales of measurement, refer to the different ways in which variables can be measured or classified. There are four levels of measurement:\n",
    "\n",
    "1.) Nominal Level: Variables at the nominal level are categorical and have no inherent order or ranking. They represent different categories or groups. For example, gender (male/female) is a nominal variable.\n",
    "\n",
    "2.) Ordinal Level: Variables at the ordinal level have categories with a natural order or ranking. The difference between categories is not quantifiable. For instance, a Likert scale measuring agreement levels (strongly disagree, disagree, neutral, agree, strongly agree) is an ordinal variable.\n",
    "\n",
    "3.) Interval Level: Variables at the interval level have ordered categories with equal intervals between them. They do not have a meaningful zero point. An example is temperature measured in Celsius or Fahrenheit.\n",
    "\n",
    "4.) Ratio Level: Variables at the ratio level have ordered categories with equal intervals between them, and they have a meaningful zero point. Ratios between values are meaningful. Examples include height, weight, or income."
   ]
  },
  {
   "cell_type": "raw",
   "id": "bc10b88f-2493-4bc2-84aa-185134c65f42",
   "metadata": {},
   "source": [
    "Q6. Why is it important to understand the level of measurement when analyzing data? Provide an example to illustrate your answer."
   ]
  },
  {
   "cell_type": "raw",
   "id": "e8faa46e-28bd-463b-a65f-5a5e162e54f4",
   "metadata": {},
   "source": [
    "answer6-  Understanding the level of measurement is important when analyzing data because it determines the appropriate statistical analyses and operations that can be performed. It guides the selection of appropriate summary statistics, graphical displays, and the choice of statistical tests. For example, if a variable is measured at the ordinal level, it would be inappropriate to calculate a mean, but a median would be a suitable measure of central tendency."
   ]
  },
  {
   "cell_type": "raw",
   "id": "2c6be0a7-b5ea-444e-841b-a17344efaaf2",
   "metadata": {},
   "source": [
    "Q7. How nominal data type is different from ordinal data type."
   ]
  },
  {
   "cell_type": "raw",
   "id": "acd772ce-64bc-44bb-b613-72e43b55114e",
   "metadata": {},
   "source": [
    "Answer7-\n",
    " Nominal data and ordinal data differ in terms of the presence or absence of order or ranking among categories.\n",
    "\n",
    "Nominal Data: Nominal data represent categories without any inherent order or ranking. They are labels or names assigned to different groups. For example, the colors of cars (red, blue, green) are nominal data. In nominal data, the categories are distinct, but no order can be imposed on them.\n",
    "\n",
    "Ordinal Data: Ordinal data represent categories with a natural order or ranking. The categories have a meaningful sequence or hierarchy. For example, survey responses (strongly disagree, disagree, neutral, agree, strongly agree) are ordinal data. In ordinal data, the categories have an order, but the differences between categories may not be uniform or measurable."
   ]
  },
  {
   "cell_type": "raw",
   "id": "0cbda9e3-1c41-4cfd-afa3-4a98c1f07181",
   "metadata": {},
   "source": [
    "Q8. Which type of plot can be used to display data in terms of range?"
   ]
  },
  {
   "cell_type": "raw",
   "id": "c60b014c-f47e-4cb3-87a5-6072b06bd27c",
   "metadata": {},
   "source": [
    "Answer8-\n",
    "A range plot or range chart can be used to display data in terms of range. A range plot shows the minimum and maximum values of a dataset or the range between the highest and lowest values. It provides a visual representation of the spread or variability of the data. For example, a range plot could display the range of daily temperature fluctuations over a month."
   ]
  },
  {
   "cell_type": "raw",
   "id": "2f2f405d-9721-49a0-bfcc-d502626981d8",
   "metadata": {},
   "source": [
    "Q9. Describe the difference between descriptive and inferential statistics. Give an example of each type of statistics and explain how they are used."
   ]
  },
  {
   "cell_type": "raw",
   "id": "166a2613-3b01-43b8-926d-bf2f746b045d",
   "metadata": {},
   "source": [
    "Answer9-\n",
    "\n",
    "Descriptive statistics and inferential statistics are two branches of statistics that serve different purposes:\n",
    "\n",
    "Descriptive Statistics: Descriptive statistics involves summarizing and describing the main features of a dataset. It focuses on organizing, presenting, and analyzing data to provide a meaningful summary. Descriptive statistics are used to describe the characteristics of a sample or population. Examples of descriptive statistics include calculating the mean, median, mode, standard deviation, or creating graphs like histograms or pie charts. Descriptive statistics are used to provide insights and understand patterns within the data.\n",
    "\n",
    "Inferential Statistics: Inferential statistics involves drawing conclusions or making inferences about a population based on a sample of data. It uses probability theory and statistical methods to make generalizations or predictions. Inferential statistics are used to test hypotheses, estimate population parameters, and determine the significance of relationships or differences. For example, conducting hypothesis tests or constructing confidence intervals are inferential statistical techniques."
   ]
  },
  {
   "cell_type": "code",
   "execution_count": null,
   "id": "dacf9100-6737-403c-b87b-7b50d868c994",
   "metadata": {},
   "outputs": [],
   "source": []
  },
  {
   "cell_type": "code",
   "execution_count": null,
   "id": "f33dbd76-fb00-4831-b74c-b21a5237dc7b",
   "metadata": {},
   "outputs": [],
   "source": []
  },
  {
   "cell_type": "code",
   "execution_count": null,
   "id": "54eb3ac2-22b0-4921-b7e8-1bbd4048b139",
   "metadata": {},
   "outputs": [],
   "source": []
  }
 ],
 "metadata": {
  "kernelspec": {
   "display_name": "Python 3 (ipykernel)",
   "language": "python",
   "name": "python3"
  },
  "language_info": {
   "codemirror_mode": {
    "name": "ipython",
    "version": 3
   },
   "file_extension": ".py",
   "mimetype": "text/x-python",
   "name": "python",
   "nbconvert_exporter": "python",
   "pygments_lexer": "ipython3",
   "version": "3.10.8"
  }
 },
 "nbformat": 4,
 "nbformat_minor": 5
}
