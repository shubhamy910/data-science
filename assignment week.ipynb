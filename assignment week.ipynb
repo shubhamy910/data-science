{
 "cells": [
  {
   "cell_type": "code",
   "execution_count": null,
   "id": "32565758-92fb-4541-aa15-047d9085c6e7",
   "metadata": {},
   "outputs": [],
   "source": [
    "#answer1-: The def keyword is used to create, (or define) a function"
   ]
  },
  {
   "cell_type": "code",
   "execution_count": 1,
   "id": "04c09a62-c1b2-4a93-99f6-cb7f23828af9",
   "metadata": {},
   "outputs": [],
   "source": [
    "#function to return a list of odd numbers in the range of 1 to 25.\n",
    "def odd_number(a,b):\n",
    "    return [odd_number for odd_number in range(a,b) if odd_number%2 != 0]"
   ]
  },
  {
   "cell_type": "code",
   "execution_count": 2,
   "id": "d43bdeff-6eed-42cd-b8bb-7f7ed4cbc1ef",
   "metadata": {},
   "outputs": [
    {
     "data": {
      "text/plain": [
       "[1, 3, 5, 7, 9, 11, 13, 15, 17, 19, 21, 23]"
      ]
     },
     "execution_count": 2,
     "metadata": {},
     "output_type": "execute_result"
    }
   ],
   "source": [
    "odd_number(1,25)"
   ]
  },
  {
   "cell_type": "code",
   "execution_count": null,
   "id": "2bc62809-1aa7-4c91-8974-4a49c7e94c2a",
   "metadata": {},
   "outputs": [],
   "source": [
    "#answer_2 ---\n",
    "\n",
    "# *args passes variable number of non-keyworded arguments and on which operation of the tuple can be performed. **kwargs passes variable number of keyword arguments dictionary to function on which operation of a dictionary can be performed. *args and **kwargs make the function flexible."
   ]
  },
  {
   "cell_type": "code",
   "execution_count": 11,
   "id": "b7d14726-c7b8-45b7-a1f5-5a529b80ce96",
   "metadata": {},
   "outputs": [],
   "source": [
    "# *args function\n",
    "def test(*args , a):\n",
    "    return args ,a"
   ]
  },
  {
   "cell_type": "code",
   "execution_count": 8,
   "id": "b2e4415b-4957-4f9c-9875-e25480178e8b",
   "metadata": {},
   "outputs": [
    {
     "data": {
      "text/plain": [
       "(((1, 2, 3, 4, 5, 6),), 30)"
      ]
     },
     "execution_count": 8,
     "metadata": {},
     "output_type": "execute_result"
    }
   ],
   "source": [
    "test((1,2,3,4,5,6),a =30)"
   ]
  },
  {
   "cell_type": "code",
   "execution_count": 9,
   "id": "a7aa9937-56d2-424c-b64f-c65361d85efb",
   "metadata": {},
   "outputs": [],
   "source": [
    "#  **kwargs\n",
    "\n",
    "def test1(**kwargs):\n",
    "    return kwargs"
   ]
  },
  {
   "cell_type": "code",
   "execution_count": 10,
   "id": "7e8e153e-3f28-497e-866a-da5332d9dae4",
   "metadata": {},
   "outputs": [
    {
     "data": {
      "text/plain": [
       "{'a': 'shubh', 'b': 55.55, 'c': [1, 2, 3, 4, 5]}"
      ]
     },
     "execution_count": 10,
     "metadata": {},
     "output_type": "execute_result"
    }
   ],
   "source": [
    "test1(a = \"shubh\",b = 55.55, c = [1,2,3,4,5])"
   ]
  },
  {
   "cell_type": "code",
   "execution_count": 47,
   "id": "538a60a5-5aa2-4f0b-99ad-0d8d115cce54",
   "metadata": {},
   "outputs": [],
   "source": [
    "#answer3-:An iterator in Python is an object that is used to iterate over iterable objects like lists, tuples, dicts, and sets. The Python iterators object is initialized using the iter() method. It uses the next() method for iteration.\n",
    "# Iter() method is used to initialise the iterator object and the next() method for iteration."
   ]
  },
  {
   "cell_type": "code",
   "execution_count": 52,
   "id": "dd1ebb0e-d57a-4a05-a3f2-9835a994de98",
   "metadata": {},
   "outputs": [
    {
     "name": "stdout",
     "output_type": "stream",
     "text": [
      "2\n",
      "4\n",
      "6\n",
      "8\n",
      "10\n"
     ]
    }
   ],
   "source": [
    "l = [2, 4, 6, 8, 10, 12, 14, 16 , 18 , 20]\n",
    "l1= iter(l)\n",
    "for i in range(5):\n",
    "    a = next(l1)\n",
    "    print(a)"
   ]
  },
  {
   "cell_type": "code",
   "execution_count": 26,
   "id": "79eba780-8f05-459b-94ac-0a561cc3c5cc",
   "metadata": {},
   "outputs": [],
   "source": [
    "#amswer4 -(i) A generator-function is defined like a normal function, but whenever it needs to generate a value, it does so with the yield keyword rather than return. If the body of a def contains yield, the function automatically becomes a generator function. \n",
    "# (ii) yield keyword is used to create a generator function. A type of function that is memory efficient and can be used like an iterator object."
   ]
  },
  {
   "cell_type": "code",
   "execution_count": 38,
   "id": "781bcded-68b8-43ba-ad9a-beb757e13cb5",
   "metadata": {},
   "outputs": [],
   "source": [
    "def test(n):\n",
    "    a,b = 2, 4\n",
    "    for i in range(n):\n",
    "        yield a\n",
    "        a,b = b , a+b"
   ]
  },
  {
   "cell_type": "code",
   "execution_count": 39,
   "id": "d3807b2e-5ff6-485b-8c85-e6b38cb01d36",
   "metadata": {},
   "outputs": [
    {
     "name": "stdout",
     "output_type": "stream",
     "text": [
      "2\n",
      "4\n",
      "6\n",
      "10\n",
      "16\n",
      "26\n",
      "42\n",
      "68\n",
      "110\n",
      "178\n"
     ]
    }
   ],
   "source": [
    "for i in test(10):\n",
    "    print(i)"
   ]
  },
  {
   "cell_type": "code",
   "execution_count": 63,
   "id": "75d55c8b-4594-4b0d-9fee-8b4f675baeca",
   "metadata": {},
   "outputs": [],
   "source": [
    "#Answer5-: Create a generator function for prime numbers less than 1000. Use the next() method to print the first 20 prime numbers\n",
    "def prime_numbers():\n",
    "    yield 2\n",
    "    for num in range(3,1000,2):\n",
    "        for i in range (3 , num , 2) :\n",
    "            if num % i == 0:\n",
    "                break\n",
    "        else:\n",
    "            yield num"
   ]
  },
  {
   "cell_type": "code",
   "execution_count": 64,
   "id": "e2b78c49-f8e1-4e58-94a4-3c49301596d0",
   "metadata": {},
   "outputs": [
    {
     "name": "stdout",
     "output_type": "stream",
     "text": [
      "2\n",
      "3\n",
      "5\n",
      "7\n",
      "11\n",
      "13\n",
      "17\n",
      "19\n",
      "23\n",
      "29\n",
      "31\n",
      "37\n",
      "41\n",
      "43\n",
      "47\n",
      "53\n",
      "59\n",
      "61\n",
      "67\n",
      "71\n"
     ]
    }
   ],
   "source": [
    "prime_generator = prime_numbers()\n",
    "for i in range(20):\n",
    "    print(next(prime_generator))"
   ]
  },
  {
   "cell_type": "code",
   "execution_count": 78,
   "id": "2f828a21-725e-4712-b787-3349444cb9e0",
   "metadata": {},
   "outputs": [],
   "source": [
    "#answe6-:a python program to print the first 10 Fibonacci numbers using a while loop.\n",
    "\n",
    "def fibonacci_no(n):\n",
    "    a,b = 2,3\n",
    "    for i in range (n):\n",
    "        yield a\n",
    "        a,b = b, b+a"
   ]
  },
  {
   "cell_type": "code",
   "execution_count": 79,
   "id": "0105211d-d800-411e-9a90-afb0b6afca48",
   "metadata": {},
   "outputs": [
    {
     "data": {
      "text/plain": [
       "<generator object fibonacci_no at 0x7fa3e811af80>"
      ]
     },
     "execution_count": 79,
     "metadata": {},
     "output_type": "execute_result"
    }
   ],
   "source": [
    "(fibonacci_no(10))"
   ]
  },
  {
   "cell_type": "code",
   "execution_count": 80,
   "id": "ce4d2c79-3901-4eba-9f27-0efbd099ede0",
   "metadata": {},
   "outputs": [
    {
     "name": "stdout",
     "output_type": "stream",
     "text": [
      "2\n",
      "3\n",
      "5\n",
      "8\n",
      "13\n",
      "21\n",
      "34\n",
      "55\n",
      "89\n",
      "144\n"
     ]
    }
   ],
   "source": [
    "for i in fibonacci_no(10):\n",
    "    print (i)"
   ]
  },
  {
   "cell_type": "code",
   "execution_count": 3,
   "id": "211a4a56-4ea6-443e-85b9-f07d229719e0",
   "metadata": {},
   "outputs": [],
   "source": [
    "#answer7-:Write a List Comprehension to iterate through the given string: ‘pwskills’.Expected output: ['p', 'w', 's', 'k', 'i', 'l', 'l', 's'] \n",
    "\n",
    "s = \"pwskill\"\n",
    "s1 = [x for x in s]"
   ]
  },
  {
   "cell_type": "code",
   "execution_count": 4,
   "id": "331c82d7-9e18-4c7c-acf3-afb6082b556a",
   "metadata": {},
   "outputs": [
    {
     "name": "stdout",
     "output_type": "stream",
     "text": [
      "['p', 'w', 's', 'k', 'i', 'l', 'l']\n"
     ]
    }
   ],
   "source": [
    "print(s1)"
   ]
  },
  {
   "cell_type": "code",
   "execution_count": 1,
   "id": "2d093441-e8cf-40b7-87db-cd4b291b2896",
   "metadata": {},
   "outputs": [
    {
     "name": "stdin",
     "output_type": "stream",
     "text": [
      "Please give a number :  1221\n"
     ]
    },
    {
     "name": "stdout",
     "output_type": "stream",
     "text": [
      "Given number is a palindrome\n"
     ]
    }
   ],
   "source": [
    "#answer8-: a python program to check whether a given number is Palindrome or not using a while loop.\n",
    "\n",
    "n = int(input(\"Please give a number : \"))\n",
    "def reverse(num):\n",
    "    if num<10:\n",
    "      return num \n",
    "    else:\n",
    "      return int(str(num%10) + str(reverse(num//10)))\n",
    "def isPalindrome(num):\n",
    "    if num == reverse(num):\n",
    "        return 1\n",
    "    return 0\n",
    "if isPalindrome(n) == 1:\n",
    "    print(\"Given number is a palindrome\")\n",
    "else:\n",
    "    print(\"Given number is a not palindrome\") "
   ]
  },
  {
   "cell_type": "code",
   "execution_count": 8,
   "id": "40409d83-c6ef-4937-adcb-63e5ba4fa4a7",
   "metadata": {},
   "outputs": [],
   "source": [
    "#answer9 -:. Write a code to print odd numbers from 1 to 100 using list comprehension.\n",
    "def odd_numbers(n):\n",
    "    return [x for x in range(0, n) if x%2 != 0]"
   ]
  },
  {
   "cell_type": "code",
   "execution_count": 9,
   "id": "01c71f6a-6ceb-44a3-8edf-d48696f3b6d1",
   "metadata": {},
   "outputs": [
    {
     "data": {
      "text/plain": [
       "[1,\n",
       " 3,\n",
       " 5,\n",
       " 7,\n",
       " 9,\n",
       " 11,\n",
       " 13,\n",
       " 15,\n",
       " 17,\n",
       " 19,\n",
       " 21,\n",
       " 23,\n",
       " 25,\n",
       " 27,\n",
       " 29,\n",
       " 31,\n",
       " 33,\n",
       " 35,\n",
       " 37,\n",
       " 39,\n",
       " 41,\n",
       " 43,\n",
       " 45,\n",
       " 47,\n",
       " 49,\n",
       " 51,\n",
       " 53,\n",
       " 55,\n",
       " 57,\n",
       " 59,\n",
       " 61,\n",
       " 63,\n",
       " 65,\n",
       " 67,\n",
       " 69,\n",
       " 71,\n",
       " 73,\n",
       " 75,\n",
       " 77,\n",
       " 79,\n",
       " 81,\n",
       " 83,\n",
       " 85,\n",
       " 87,\n",
       " 89,\n",
       " 91,\n",
       " 93,\n",
       " 95,\n",
       " 97,\n",
       " 99]"
      ]
     },
     "execution_count": 9,
     "metadata": {},
     "output_type": "execute_result"
    }
   ],
   "source": [
    "odd_numbers(100)"
   ]
  },
  {
   "cell_type": "code",
   "execution_count": null,
   "id": "1c630be0-7987-4d85-b39e-d9c70b1c397f",
   "metadata": {},
   "outputs": [],
   "source": []
  }
 ],
 "metadata": {
  "kernelspec": {
   "display_name": "Python 3 (ipykernel)",
   "language": "python",
   "name": "python3"
  },
  "language_info": {
   "codemirror_mode": {
    "name": "ipython",
    "version": 3
   },
   "file_extension": ".py",
   "mimetype": "text/x-python",
   "name": "python",
   "nbconvert_exporter": "python",
   "pygments_lexer": "ipython3",
   "version": "3.10.8"
  }
 },
 "nbformat": 4,
 "nbformat_minor": 5
}
