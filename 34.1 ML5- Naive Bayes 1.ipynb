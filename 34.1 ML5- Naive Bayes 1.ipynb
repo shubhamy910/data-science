{
 "cells": [
  {
   "cell_type": "markdown",
   "id": "9fab3795-00d8-4d67-93ac-85a7c5b0eb2a",
   "metadata": {},
   "source": [
    "Q1. What is Bayes' theorem?"
   ]
  },
  {
   "cell_type": "markdown",
   "id": "34cc5d63-d625-4aba-a896-7fd3b44d491d",
   "metadata": {},
   "source": [
    "Answer1. \n",
    "\n",
    "Bayes' theorem, named after Thomas Bayes, is a fundamental theorem in probability theory and statistics. It describes how to update or revise the probability for a hypothesis (an event or proposition) based on new evidence or information. In essence, it helps us calculate the probability of a hypothesis being true given our prior beliefs and any new data.\n",
    "\n"
   ]
  },
  {
   "cell_type": "markdown",
   "id": "dc49048c-0a4a-4523-8417-e9d23a977fa4",
   "metadata": {},
   "source": [
    "Q2. What is the formula for Bayes' theorem?"
   ]
  },
  {
   "cell_type": "markdown",
   "id": "6f0a6181-5fb3-48ba-aeab-2efe8569f516",
   "metadata": {},
   "source": [
    "Answer2. Bayes' theorem is expressed mathematically as:\n",
    "\n",
    "P(A/B) = (P(A) * P(B/A))/ P(B)\n",
    "\n",
    "Where:\n",
    "\n",
    "- P(A/B) is the posterior probability of event A given evidence B.\n",
    "- (B/A) is the probability of evidence B given that event A is true.\n",
    "- P(A) is the prior probability of event A.\n",
    "- P(B) is the probability of evidence B.\n"
   ]
  },
  {
   "cell_type": "markdown",
   "id": "cd8f8a6a-be28-419f-9cb1-328895565310",
   "metadata": {},
   "source": [
    "Q3. How is Bayes' theorem used in practice?"
   ]
  },
  {
   "cell_type": "markdown",
   "id": "9772a073-24ca-4873-9abd-de00c4c3e132",
   "metadata": {},
   "source": [
    "Answer3.\n",
    "\n",
    "Bayes' theorem is used in various fields, including statistics, machine learning, and Bayesian inference, for tasks such as classification, prediction, and hypothesis testing. In practice, it is applied to update beliefs or probabilities as new information becomes available. Some common applications include spam email filtering, medical diagnosis, recommendation systems, and natural language processing.\n"
   ]
  },
  {
   "cell_type": "markdown",
   "id": "986c1d79-78fe-4c4a-b56b-af8f20fe2753",
   "metadata": {},
   "source": [
    "Q4. What is the relationship between Bayes' theorem and conditional probability?"
   ]
  },
  {
   "cell_type": "markdown",
   "id": "bd3f908c-8d03-448a-946a-22203be581c9",
   "metadata": {},
   "source": [
    "Answer4. \n",
    "\n",
    "Bayes' theorem is a way to calculate conditional probabilities. In its essence, Bayes' theorem quantifies how the probability of an event (A) can be updated based on new evidence (B) when we know the conditional probabilities of B given A and the prior probability of A. It provides a formal framework for updating beliefs in light of new information.\n"
   ]
  },
  {
   "cell_type": "markdown",
   "id": "9cb38a78-8528-41ba-a7bd-c6729a298dee",
   "metadata": {},
   "source": [
    "Q5. How do you choose which type of Naive Bayes classifier to use for any given problem?"
   ]
  },
  {
   "cell_type": "markdown",
   "id": "69a79970-09dd-457a-a6fd-05f691cc4c40",
   "metadata": {},
   "source": [
    "Answer5. \n",
    "\n",
    "The choice of which type of Naive Bayes classifier to use in a given problem depends on the nature of the data and the assumptions you are willing to make. There are three common types of Naive Bayes classifiers:\n",
    "\n",
    "- Gaussian Naive Bayes: This is suitable for continuous data that can be modeled as a Gaussian (normal) distribution. It assumes that the features follow a Gaussian distribution with different means and variances for each class.\n",
    "- Multinomial Naive Bayes: This is typically used for discrete data, such as text data. It assumes that the features are counts or frequencies of discrete items and follow a multinomial distribution.\n",
    "- Bernoulli Naive Bayes: This is used when the features are binary (e.g., presence or absence of a feature). It models the probability of features being present or absent using a Bernoulli distribution.\n",
    "\n",
    "To choose the appropriate type, consider the following factors:\n",
    "\n",
    "- The nature of your data: Is it continuous, discrete, or binary?\n",
    "- The assumptions of the Naive Bayes model: Are the features truly independent within each class? The \"naive\" assumption may not hold in all cases.\n",
    "- The performance of the model on your specific problem: You can try different types and evaluate their performance using techniques like cross-validation."
   ]
  },
  {
   "cell_type": "markdown",
   "id": "47fad85e-faab-4c57-97e9-43ccf0e75dd6",
   "metadata": {},
   "source": [
    "Q6. Assignment:\n",
    "    \n",
    "You have a dataset with two features, X1 and X2, and two possible classes, A and B. You want to use Naive\n",
    "Bayes to classify a new instance with features X1 = 3 and X2 = 4. The following table shows the frequency of\n",
    "each feature value for each class:"
   ]
  },
  {
   "cell_type": "markdown",
   "id": "34b8f53d-03b2-47b5-9096-d387f788bac5",
   "metadata": {},
   "source": [
    "Answer6. \n",
    "\n",
    "To use Naive Bayes for classification, we need to calculate the posterior probabilities for each class based on the given features (X1 = 3 and X2 = 4). Let's calculate the posterior probabilities for both classes A and B:\n",
    "\n",
    "For class A: P(X1=3/A) = 4/10 P(X2=4/A) = 3/10 P(A) = 1/2\n",
    "\n",
    "For class B: P(X1=3/B) = 1/7 P(X2=4/B) = 3/7 P(B) = 1/2\n",
    "\n",
    "For class A: P(A/X1=3,X2=4) = (P(A) * P(X1=3/A) * P(X2/A))/P(X1=3) * P(X2=4) = (1/24/103/10)/0.09 = 0.6667\n",
    "\n",
    "For class B: P(B/X1=3,X2=4) = (P(B) * P(X1=3/A) * P(X2/A))/P(X1=3) * P(X2=4) = (1/21/73/7)/0.09 = 0.3333\n",
    "\n",
    "For class A we can predict new instance"
   ]
  },
  {
   "cell_type": "code",
   "execution_count": null,
   "id": "7bc74d8a-3937-4d2a-b35b-f4e9148bfe7d",
   "metadata": {},
   "outputs": [],
   "source": []
  },
  {
   "cell_type": "code",
   "execution_count": null,
   "id": "95a8cff9-1162-481a-bcf0-993743929181",
   "metadata": {},
   "outputs": [],
   "source": []
  }
 ],
 "metadata": {
  "kernelspec": {
   "display_name": "Python 3 (ipykernel)",
   "language": "python",
   "name": "python3"
  },
  "language_info": {
   "codemirror_mode": {
    "name": "ipython",
    "version": 3
   },
   "file_extension": ".py",
   "mimetype": "text/x-python",
   "name": "python",
   "nbconvert_exporter": "python",
   "pygments_lexer": "ipython3",
   "version": "3.10.8"
  }
 },
 "nbformat": 4,
 "nbformat_minor": 5
}
