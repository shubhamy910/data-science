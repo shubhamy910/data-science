{
 "cells": [
  {
   "cell_type": "markdown",
   "id": "44ad7721-8b6c-4f69-8b97-324cae0d33a7",
   "metadata": {},
   "source": [
    "Q1. What is Lasso Regression, and how does it differ from other regression techniques?"
   ]
  },
  {
   "cell_type": "markdown",
   "id": "e527c398-1a66-42d9-8935-5cf0eafb81a9",
   "metadata": {},
   "source": [
    "Answer1.\n",
    "\n",
    "- Lasso Regression (Least Absolute Shrinkage and Selection Operator) is a linear regression technique that adds a regularization term to the loss function, which is the sum of the absolute values of coefficients (L1 regularization).\n",
    "- Lasso differs from other regression techniques, such as ordinary least squares (OLS) regression, Ridge Regression, and Elastic Net, in that it can perform feature selection by setting some coefficients to exactly zero.\n",
    "- Unlike Ridge, which uses L2 regularization, Lasso tends to create sparse models with a subset of important features retained"
   ]
  },
  {
   "cell_type": "markdown",
   "id": "3964f5ea-9703-419d-abb9-2eb4836a6e4f",
   "metadata": {},
   "source": [
    "Q2. What is the main advantage of using Lasso Regression in feature selection?"
   ]
  },
  {
   "cell_type": "markdown",
   "id": "0bc77d9c-1c54-416a-9658-b6c8a24582d9",
   "metadata": {},
   "source": [
    "A2.\n",
    "\n",
    "- The main advantage of Lasso Regression for feature selection is its ability to automatically select a subset of relevant features.\n",
    "- Lasso can set the coefficients of less important features to zero, effectively removing them from the model.\n",
    "- This simplifies the model, improves interpretability, and potentially leads to better generalization when dealing with high-dimensional datasets."
   ]
  },
  {
   "cell_type": "markdown",
   "id": "d267ffeb-bb42-413c-83de-f058da3b6587",
   "metadata": {},
   "source": [
    "Q3. How do you interpret the coefficients of a Lasso Regression model?"
   ]
  },
  {
   "cell_type": "markdown",
   "id": "fbfd062b-b7db-4905-8e50-219c05e638dd",
   "metadata": {},
   "source": [
    "Answer3.\n",
    "\n",
    "- Interpreting Lasso coefficients is similar to interpreting coefficients in ordinary linear regression.\n",
    "- The coefficients represent the change in the dependent variable for a one-unit change in the corresponding independent variable while holding all other variables constant.\n",
    "- In Lasso, some coefficients may be exactly zero, indicating that the corresponding features are not included in the model."
   ]
  },
  {
   "cell_type": "markdown",
   "id": "d179ecd0-5e26-4150-9c68-ec29122b78c0",
   "metadata": {},
   "source": [
    "Q4. What are the tuning parameters that can be adjusted in Lasso Regression, and how do they affect the model's performance?"
   ]
  },
  {
   "cell_type": "markdown",
   "id": "a54bf2a5-70ea-490f-b203-4212b173b24e",
   "metadata": {},
   "source": [
    "Answer4.\n",
    "\n",
    "- The primary tuning parameter in Lasso Regression is lambda (λ), also known as the regularization parameter.\n",
    "- Lambda controls the strength of the L1 regularization. Larger values of λ result in stronger regularization and more coefficients being set to zero.\n",
    "- Another related parameter is alpha (α), which controls the mix between L1 and L2 regularization. When α = 1, it's pure Lasso; when α = 0, it's pure Ridge (Elastic Net combines both).\n",
    "- The choice of λ and α can significantly affect the model's performance, and they are typically determined through cross-validation."
   ]
  },
  {
   "cell_type": "markdown",
   "id": "940fc6e8-65a9-4f07-a1a4-6bdecb6a8ffa",
   "metadata": {},
   "source": [
    "Q5. Can Lasso Regression be used for non-linear regression problems? If yes, how?"
   ]
  },
  {
   "cell_type": "markdown",
   "id": "0ceb4814-fd75-4591-b200-31cd41dda50f",
   "metadata": {},
   "source": [
    "Answer5.\n",
    "\n",
    "- Lasso Regression is inherently a linear model. It can handle non-linear problems to some extent by transforming the input features or by incorporating non-linear transformations (e.g., polynomial features) into the model.\n",
    "- However, for highly non-linear problems, other non-linear regression techniques like decision trees, support vector machines, or neural networks may be more suitable."
   ]
  },
  {
   "cell_type": "markdown",
   "id": "44e61623-8616-4bfe-9392-91558817e945",
   "metadata": {},
   "source": [
    "Q6. What is the difference between Ridge Regression and Lasso Regression?"
   ]
  },
  {
   "cell_type": "markdown",
   "id": "e84f0de2-c3db-4edb-a8e5-948c42f9a047",
   "metadata": {},
   "source": [
    "Answer6.\n",
    "\n",
    "- The primary difference between Ridge and Lasso Regression is the type of regularization used.\n",
    "- Ridge uses L2 regularization, adding a penalty term proportional to the sum of squared coefficients. It shrinks coefficients towards zero but does not set them exactly to zero.\n",
    "- Lasso uses L1 regularization, adding a penalty term proportional to the sum of absolute values of coefficients. It can set coefficients to exactly zero, performing feature selection.\n",
    "- Ridge tends to distribute the reduction in coefficients evenly, while Lasso can create a sparse model with some coefficients eliminated."
   ]
  },
  {
   "cell_type": "markdown",
   "id": "53fd6dee-4677-456f-befe-feb304e086ef",
   "metadata": {},
   "source": [
    "Q7. Can Lasso Regression handle multicollinearity in the input features? If yes, how?"
   ]
  },
  {
   "cell_type": "markdown",
   "id": "f7056449-4dd3-430b-bc47-724b8341b3e7",
   "metadata": {},
   "source": [
    "Answer7.\n",
    "\n",
    "- Lasso Regression is effective at handling multicollinearity (high correlation between independent variables).\n",
    "- It can set some of the correlated variables' coefficients to zero, effectively choosing one from the group while reducing the impact of multicollinearity."
   ]
  },
  {
   "cell_type": "markdown",
   "id": "6e6cdaf4-162e-4371-8753-f7959bf919fb",
   "metadata": {},
   "source": [
    "Q8. How do you choose the optimal value of the regularization parameter (lambda) in Lasso Regression?"
   ]
  },
  {
   "cell_type": "markdown",
   "id": "c9184b17-e959-46b1-a527-fc669d55c5a1",
   "metadata": {},
   "source": [
    "Answer8.\n",
    "\n",
    "- The optimal λ value in Lasso Regression is typically determined through cross-validation.\n",
    "- You train the Lasso model with various values of λ and use cross-validation to assess the model's performance (e.g., using mean squared error) on a validation set.\n",
    "- The λ value that minimizes the validation error is chosen as the optimal regularization strength, striking a balance between model complexity and performance."
   ]
  },
  {
   "cell_type": "code",
   "execution_count": null,
   "id": "f887e109-4dd4-4b12-9c09-ec3938298918",
   "metadata": {},
   "outputs": [],
   "source": []
  }
 ],
 "metadata": {
  "kernelspec": {
   "display_name": "Python 3 (ipykernel)",
   "language": "python",
   "name": "python3"
  },
  "language_info": {
   "codemirror_mode": {
    "name": "ipython",
    "version": 3
   },
   "file_extension": ".py",
   "mimetype": "text/x-python",
   "name": "python",
   "nbconvert_exporter": "python",
   "pygments_lexer": "ipython3",
   "version": "3.10.8"
  }
 },
 "nbformat": 4,
 "nbformat_minor": 5
}
