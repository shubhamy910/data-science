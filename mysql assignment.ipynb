{
 "cells": [
  {
   "cell_type": "code",
   "execution_count": 5,
   "id": "1244a12a-6e6d-48fb-8bbd-d7e6a2e7c9ee",
   "metadata": {},
   "outputs": [],
   "source": [
    "#Q1. What is a database? Differentiate between SQL and NoSQL databases."
   ]
  },
  {
   "cell_type": "code",
   "execution_count": 6,
   "id": "40d24e15-bfa9-4c7c-a8d0-070e0ed1eb14",
   "metadata": {},
   "outputs": [],
   "source": [
    "#answer1- A database is a structured collection of data that is organized and managed in a way that allows for \n",
    "#         efficient storage, retrieval, and manipulation of data. \n",
    "#         It provides a systematic way to store and manage large volumes of information.\n",
    "# The main difference between SQL and NoSQL databases lies in their data models, schema flexibility, and scalability options. \n",
    "#       SQL databases are known for their strong consistency, ACID (Atomicity, Consistency, Isolation, Durability) properties,\n",
    "#       and support for complex transactions.\n",
    "#       NoSQL databases, on the other hand, provide high scalability, flexible schema design, eventual consistency,\n",
    "#       and are often used in scenarios where data volume and performance are critical."
   ]
  },
  {
   "cell_type": "code",
   "execution_count": 7,
   "id": "966cfa5f-886c-4b6f-a333-5ecd1962daf6",
   "metadata": {},
   "outputs": [],
   "source": [
    "#Q2. What is DDL? Explain why CREATE, DROP, ALTER, and TRUNCATE are used with an example."
   ]
  },
  {
   "cell_type": "code",
   "execution_count": 8,
   "id": "6a79656b-2a22-4e29-b9dc-9e91f18ac41a",
   "metadata": {},
   "outputs": [],
   "source": [
    "#answer2- DDL stands for Data Definition Language. \n",
    "#         It is a set of SQL statements used to define and manage the structure of a database.\n",
    "#         DDL statements are responsible for creating, modifying, and deleting database objects such as tables,\n",
    "#         indexes, views, and schemas.\n",
    "\n",
    "# CREATE: The CREATE statement is used to create a new database object.\n",
    "#for example- CREATE TABLE TABLE_NAME( C1 INt , C2 VARCHAR(12), C3 FLOAT);\n",
    "\n",
    "# DROP: The DROP statement is used to delete a database object.\n",
    "#for example - DROP TABLE TABLE_NAME ;\n",
    "\n",
    "# ALTER: The ALTER statement is used to modify the structure of an existing database object.\n",
    "#for example- ALTER TABLE TABLE_NAME\n",
    "#             ADD COLUMN_NAME DATATYPE ;\n",
    "# TRUNCATE: The TRUNCATE statement is used to delete all the data from a table while keeping its structure intact.\n",
    "#for example- TRUNCATE TABLE TABLE_NAME ;"
   ]
  },
  {
   "cell_type": "code",
   "execution_count": 9,
   "id": "d7bf5397-c282-498a-a192-ee1c77681540",
   "metadata": {},
   "outputs": [],
   "source": [
    "#Q3. What is DML? Explain INSERT, UPDATE, and DELETE with an example."
   ]
  },
  {
   "cell_type": "code",
   "execution_count": 10,
   "id": "e9f679b3-9408-4305-b4f4-fc144174bc36",
   "metadata": {},
   "outputs": [],
   "source": [
    "#answer3- DML stands for Data Manipulation Language. \n",
    "#         It is a set of SQL statements used to manage the data within a database. \n",
    "#         DML statements allow you to insert, update, and delete data from database tables.\n",
    "\n",
    "# Insert -The INSERT statement is used to insert new records into a table. \n",
    "#         INSERT INTO table_name (name, age)\n",
    "#         VALUES ('John', 25) ;\n",
    "\n",
    "# UPDATE: The UPDATE statement is used to modify existing records in a table.\n",
    "#         UPDATE table_name\n",
    "#         SET age = 30\n",
    "#         WHERE name = 'John';\n",
    "\n",
    "# DELETE: The DELETE statement is used to delete records from a table. \n",
    "#         DELETE FROM table_name\n",
    "#         WHERE age > 40 ;"
   ]
  },
  {
   "cell_type": "code",
   "execution_count": 11,
   "id": "d6cfc37f-900a-4a70-aa88-746024644a6c",
   "metadata": {},
   "outputs": [],
   "source": [
    "#Q4. What is DQL? Explain SELECT with an example."
   ]
  },
  {
   "cell_type": "code",
   "execution_count": 12,
   "id": "ff3ff22c-63ef-485f-aaeb-ec4619de80e4",
   "metadata": {},
   "outputs": [],
   "source": [
    "#answer4- DQL stands for Data Query Language. It is a subset of SQL used to retrieve data from a database. \n",
    "#        The most commonly used DQL statement is SELECT, which allows you to query and retrieve data \n",
    "#        from one or more tables based on specific conditions.\n",
    "\n",
    "# SELct example - SELECT * FROM table_name ;\n",
    "#                 SELECT name, age FROM table_name ;\n",
    "#                 SELECT * FROM table_name WHERE age > 30 ;"
   ]
  },
  {
   "cell_type": "code",
   "execution_count": 13,
   "id": "079ae5a6-483b-442c-92fc-7de7e316d25a",
   "metadata": {},
   "outputs": [],
   "source": [
    "#Q5. Explain Primary Key and Foreign Key."
   ]
  },
  {
   "cell_type": "code",
   "execution_count": 14,
   "id": "aef3105c-d29a-4250-903a-1e01b53ba578",
   "metadata": {},
   "outputs": [],
   "source": [
    "#answer5- Primary Key: A primary key is a column or a combination of columns in a database table that uniquely\n",
    "#         identifies each row in the table. It provides a way to ensure data integrity and enforce uniqueness.\n",
    "#         A primary key constraint ensures that the values in the primary key column(s) are unique and not null.\n",
    "#         It is typically used as a reference point for relationships with other tables.\n",
    "\n",
    "#Foreign Key: A foreign key is a column or a combination of columns in a table that refers to the primary key\n",
    "#             of another table. It establishes a relationship between two tables, creating a link between them.\n",
    "#             The foreign key constraint ensures referential integrity, meaning that the values in the foreign\n",
    "#             key column(s) must match the values in the primary key column(s) of the referenced table or be null."
   ]
  },
  {
   "cell_type": "code",
   "execution_count": 20,
   "id": "6733de34-17bd-4280-8c27-76556743570b",
   "metadata": {},
   "outputs": [],
   "source": [
    "#Q6. Write a python code to connect MySQL to python. Explain the cursor() and execute() method."
   ]
  },
  {
   "cell_type": "code",
   "execution_count": null,
   "id": "83aeaef1-c667-438b-9e56-475931bc7d4f",
   "metadata": {},
   "outputs": [],
   "source": [
    "#answer6- \n",
    "import mysql.connector\n",
    "\n",
    "mydb = mysql.connector.connect(host=\"localhost\",user=\"abc\",password=\"password\")\n",
    "\n",
    "mycursor = mydb.cursor()\n",
    "mycursor.execute(\"SHOW DATABASES\")\n",
    "for x in mycursor:\n",
    "    print(x)\n",
    "#The cursor()- the method is called on the connection object to create a cursor.\n",
    "#             The cursor is used to execute SQL statements and retrieve results.\n",
    "#The execute() - the method is used to execute an SQL query. It takes the SQL query as a parameter."
   ]
  },
  {
   "cell_type": "code",
   "execution_count": 23,
   "id": "d954b045-baac-4d52-9a2e-47afacc2435e",
   "metadata": {},
   "outputs": [],
   "source": [
    "#Q7. Give the order of execution of SQL clauses in an SQL query."
   ]
  },
  {
   "cell_type": "code",
   "execution_count": null,
   "id": "dc88407a-02f9-4397-b12c-c9d0a1285d8d",
   "metadata": {},
   "outputs": [],
   "source": [
    "#answer7- \n",
    "#The order of execution of SQL clauses in an SQL query is as follows:\n",
    "\n",
    "#FROM: The FROM clause specifies the table or tables from which the data will be retrieved.\n",
    "\n",
    "WHERE: The WHERE clause is used to filter the rows based on specified conditions.\n",
    "\n",
    "GROUP BY: The GROUP BY clause is used to group the rows based on one or more columns.\n",
    "\n",
    "HAVING: The HAVING clause is used to filter the grouped rows based on specified conditions.\n",
    "\n",
    "SELECT: The SELECT clause is used to specify the columns to be retrieved from the table.\n",
    "\n",
    "DISTINCT: The DISTINCT keyword is used to eliminate duplicate rows from the result set.\n",
    "\n",
    "ORDER BY: The ORDER BY clause is used to sort the rows in the result set based on one or more columns.\n",
    "\n",
    "LIMIT/OFFSET: The LIMIT and OFFSET clauses are used for result set pagination, allowing you to retrieve a specific number of rows starting from a particular"
   ]
  }
 ],
 "metadata": {
  "kernelspec": {
   "display_name": "Python 3 (ipykernel)",
   "language": "python",
   "name": "python3"
  },
  "language_info": {
   "codemirror_mode": {
    "name": "ipython",
    "version": 3
   },
   "file_extension": ".py",
   "mimetype": "text/x-python",
   "name": "python",
   "nbconvert_exporter": "python",
   "pygments_lexer": "ipython3",
   "version": "3.10.8"
  }
 },
 "nbformat": 4,
 "nbformat_minor": 5
}
