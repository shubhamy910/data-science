{
 "cells": [
  {
   "cell_type": "code",
   "execution_count": 7,
   "id": "84078f61-9d25-4ec0-b1d0-66068cc60bec",
   "metadata": {},
   "outputs": [
    {
     "name": "stdout",
     "output_type": "stream",
     "text": [
      "[('Virat Kohli', 24936), ('Jack Kallis', 25534), ('Ricky Ponting', 27483), ('Sachin Tendulkar', 34357)]\n"
     ]
    }
   ],
   "source": [
    "#answer1- Create a python program to sort the given list of tuples based on integer value using a lambda function\n",
    "\n",
    "\n",
    "data = [('Sachin Tendulkar', 34357), ('Ricky Ponting', 27483), ('Jack Kallis', 25534), ('Virat Kohli', 24936)]\n",
    "sorted_data = sorted(data,key = lambda x:x[1])\n",
    "print(sorted_data)\n"
   ]
  },
  {
   "cell_type": "code",
   "execution_count": 25,
   "id": "eeb2633c-a5a4-44a5-abc3-96b608321174",
   "metadata": {},
   "outputs": [
    {
     "name": "stdout",
     "output_type": "stream",
     "text": [
      "[1, 4, 9, 16, 25, 36, 49, 64, 81, 100]\n"
     ]
    }
   ],
   "source": [
    "#answer2- Write a Python Program to find the squares of all the numbers in the given list of integers using lambda and map functions.\n",
    "\n",
    "l= [1, 2, 3, 4, 5, 6, 7, 8, 9, 10]\n",
    "l1= list(map(lambda x : x**2,l))\n",
    "print(l1)"
   ]
  },
  {
   "cell_type": "code",
   "execution_count": 26,
   "id": "df2b8c9e-bedc-4201-978d-b8e56ab52dea",
   "metadata": {},
   "outputs": [
    {
     "name": "stdout",
     "output_type": "stream",
     "text": [
      "['1', '2', '3', '4', '5', '6', '7', '8', '9', '10']\n"
     ]
    }
   ],
   "source": [
    "#answer3- Write a python program to convert the given list of integers into a tuple of strings. Use map and lambda functions\n",
    "\n",
    "Given_String =[1, 2, 3, 4, 5, 6, 7, 8, 9, 10]\n",
    "output_tuple = list(map(lambda x : str(x), Given_String))\n",
    "print(output_tuple)\n"
   ]
  },
  {
   "cell_type": "code",
   "execution_count": 28,
   "id": "2666b7b6-26f3-4b7c-b534-db0904e45c92",
   "metadata": {},
   "outputs": [
    {
     "name": "stdout",
     "output_type": "stream",
     "text": [
      "15511210043330985984000000\n"
     ]
    }
   ],
   "source": [
    "#answer4- Write a python program using reduce function to compute the product of a list containing numbers from 1  functools import reduce\n",
    "from functools import reduce\n",
    "\n",
    "given = [1,2,3,4,5,6,7,8,9,10,11,12,13,14,15,16,17,18,19,20,21,22,23,24,25]\n",
    "output = reduce(lambda x,y : x*y , given)\n",
    "print(output)"
   ]
  },
  {
   "cell_type": "code",
   "execution_count": 33,
   "id": "5d3f22b1-c2f9-4d3e-96db-320e4859d60d",
   "metadata": {},
   "outputs": [
    {
     "data": {
      "text/plain": [
       "[6, 60, 90, 120]"
      ]
     },
     "execution_count": 33,
     "metadata": {},
     "output_type": "execute_result"
    }
   ],
   "source": [
    "#answer5-  Write a python program to filter the numbers in a given list that are divisible by 2 and 3 using the filter function\n",
    "\n",
    "l = [2, 3, 6, 9, 27, 60, 90, 120, 55, 46]\n",
    "list(filter(lambda x :x%2 ==0 and x%3 == 0 , l))"
   ]
  },
  {
   "cell_type": "code",
   "execution_count": 37,
   "id": "1f68ddc7-1318-4b95-b609-ddf702400564",
   "metadata": {},
   "outputs": [
    {
     "name": "stdout",
     "output_type": "stream",
     "text": [
      "['php', 'aba', 'radar', 'level']\n"
     ]
    }
   ],
   "source": [
    "#answer6- Write a python program to find palindromes in the given list of strings using lambda and filter function.\n",
    "\n",
    "a = ['python', 'php', 'aba', 'radar', 'level']\n",
    "palindromes = list(filter(lambda x : x == x[::-1], a))\n",
    "print(palindromes)"
   ]
  },
  {
   "cell_type": "code",
   "execution_count": null,
   "id": "2c41908d-78eb-4b56-a667-26a99398ed5f",
   "metadata": {},
   "outputs": [],
   "source": []
  }
 ],
 "metadata": {
  "kernelspec": {
   "display_name": "Python 3 (ipykernel)",
   "language": "python",
   "name": "python3"
  },
  "language_info": {
   "codemirror_mode": {
    "name": "ipython",
    "version": 3
   },
   "file_extension": ".py",
   "mimetype": "text/x-python",
   "name": "python",
   "nbconvert_exporter": "python",
   "pygments_lexer": "ipython3",
   "version": "3.10.8"
  }
 },
 "nbformat": 4,
 "nbformat_minor": 5
}
