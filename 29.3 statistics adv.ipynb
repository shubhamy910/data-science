{
 "cells": [
  {
   "cell_type": "markdown",
   "id": "e288e276-548d-48f0-b32a-c8e77e97c21c",
   "metadata": {},
   "source": [
    "Q1. Explain the assumptions required to use ANOVA and provide examples of violations that could impact the validity of the results.\n"
   ]
  },
  {
   "cell_type": "markdown",
   "id": "9dad00ac-ae3f-45ad-8a32-af9fae2d6010",
   "metadata": {},
   "source": [
    "Answer1:\n",
    "\n",
    "Assumptions of ANOVA:\n",
    "\n",
    "1- Independence: The observations in each group must be independent of each other.\n",
    "\n",
    "2- Normality: The data within each group should follow a normal distribution.\n",
    "\n",
    "3- Homogeneity of Variance: The variance of the data should be equal across all groups.\n",
    "\n",
    "Examples of Violations:\n",
    "\n",
    "1- Independence: If data points in one group are related or dependent on data points in another group, the assumption of independence is violated. For example, if you measure the same individuals multiple times in different groups, their data points may not be independent.\n",
    "\n",
    "2- Normality: If the data within each group deviates significantly from a normal distribution, the normality assumption is violated. This could happen when sample sizes are small, or if there are extreme outliers present in the data.\n",
    "\n",
    "3- Homogeneity of Variance: If the variance of the data is not equal across all groups, the homogeneity of variance assumption is violated. This could result in unequal influence of different groups on the overall results."
   ]
  },
  {
   "cell_type": "markdown",
   "id": "30de4374-9afe-4597-ba29-0e3e8425b39d",
   "metadata": {},
   "source": [
    "Q2. What are the three types of ANOVA, and in what situations would each be used?"
   ]
  },
  {
   "cell_type": "markdown",
   "id": "b0a003ac-9725-4a0c-93d3-c0cf52dc9449",
   "metadata": {},
   "source": [
    "Answer2:\n",
    "\n",
    "1- One-Way ANOVA: Used when comparing means of three or more independent groups on a single continuous dependent variable\n",
    "\n",
    "2- Two-Way ANOVA: Used when comparing means across two independent categorical variables on a single continuous dependent variable. It can also examine the interaction effect between the two independent variables.\n",
    "\n",
    "3- Repeated Measures ANOVA: Used when comparing means of the same group under different conditions or at different time points. It is used for dependent data where each participant is measured under multiple conditions.\n"
   ]
  },
  {
   "cell_type": "markdown",
   "id": "ca9738b4-8b99-44ae-851f-6e6b322fd7d7",
   "metadata": {},
   "source": [
    "Q3. What is the partitioning of variance in ANOVA, and why is it important to understand this concept?\n"
   ]
  },
  {
   "cell_type": "markdown",
   "id": "409e8aed-18f6-49d0-b8c9-97f0e0546fd6",
   "metadata": {},
   "source": [
    "\n",
    "Answer3:\n",
    "\n",
    "The partitioning of variance in ANOVA involves breaking down the total variance observed in the data into different components related to the factors being analyzed. In a one-way ANOVA, the total variance (SST) is partitioned into two components:\n",
    "\n",
    "1- Explained Variance (SSE): The variance explained by the differences between group means.\n",
    "\n",
    "2- Residual Variance (SSR): The variance remaining after accounting for the differences between group means, often referred to as the error variance.\n",
    "\n",
    "Understanding the partitioning of variance is crucial because it allows us to quantify the proportion of variance in the data that is explained by the factors under consideration. This information is essential in interpreting the significance of the ANOVA results and understanding the contribution of the factors to the overall variability in the data."
   ]
  },
  {
   "cell_type": "markdown",
   "id": "baf62c9c-ea73-4df5-870a-0e4c4079f4d5",
   "metadata": {},
   "source": [
    "Q4. How would you calculate the total sum of squares (SST), explained sum of squares (SSE), and residual sum of squares (SSR) in a one-way ANOVA using Python?"
   ]
  },
  {
   "cell_type": "code",
   "execution_count": 1,
   "id": "582208e1-6ba0-4145-aa33-49eb5f511e3e",
   "metadata": {},
   "outputs": [
    {
     "name": "stdout",
     "output_type": "stream",
     "text": [
      "Total Sum of Squares (SST): 34.0\n",
      "Explained Sum of Squares (SSE): 31.000000000000014\n",
      "Residual Sum of Squares (SSR): 2.999999999999986\n"
     ]
    }
   ],
   "source": [
    "#answer4-\n",
    "\n",
    "\n",
    "import numpy as np\n",
    "import pandas as pd\n",
    "import statsmodels.api as sm\n",
    "from statsmodels.formula.api import ols\n",
    "\n",
    "data = pd.DataFrame({'Group': ['A', 'A', 'B', 'B', 'C', 'C'],\n",
    "                     'Values': [5, 6, 8, 7, 10, 12]})\n",
    "\n",
    "model = ols('Values ~ Group', data=data).fit()\n",
    "\n",
    "SST = np.sum((data['Values'] - np.mean(data['Values']))**2)\n",
    "\n",
    "SSE = np.sum((model.fittedvalues - np.mean(data['Values']))**2)\n",
    "\n",
    "SSR = SST - SSE\n",
    "\n",
    "print(\"Total Sum of Squares (SST):\", SST)\n",
    "print(\"Explained Sum of Squares (SSE):\", SSE)\n",
    "print(\"Residual Sum of Squares (SSR):\", SSR)"
   ]
  },
  {
   "cell_type": "markdown",
   "id": "885f9714-0f23-4fc6-bbe4-e800b4739079",
   "metadata": {},
   "source": [
    "Q5. In a two-way ANOVA, how would you calculate the main effects and interaction effects using Python?"
   ]
  },
  {
   "cell_type": "code",
   "execution_count": 2,
   "id": "0991c75b-144a-4d17-baf8-db2436ff9d08",
   "metadata": {},
   "outputs": [
    {
     "name": "stdout",
     "output_type": "stream",
     "text": [
      "Main Effects:\n",
      "Group1[T.B]    3.0\n",
      "Group1[T.C]    5.0\n",
      "Group2[T.Y]    1.0\n",
      "dtype: float64\n",
      "Interaction Effect:\n",
      "0.9999999999999982\n"
     ]
    }
   ],
   "source": [
    "#answer5-\n",
    "\n",
    "import pandas as pd\n",
    "import statsmodels.api as sm\n",
    "from statsmodels.formula.api import ols\n",
    "\n",
    "data = pd.DataFrame({'Group1': ['A', 'A', 'B', 'B', 'C', 'C'],\n",
    "                     'Group2': ['X', 'Y', 'X', 'Y', 'X', 'Y'],\n",
    "                     'Values': [5, 6, 8, 7, 10, 12]})\n",
    "\n",
    "model = ols('Values ~ Group1 * Group2', data=data).fit()\n",
    "\n",
    "main_effects = model.params[['Group1[T.B]', 'Group1[T.C]', 'Group2[T.Y]']]\n",
    "interaction_effect = model.params['Group1[T.C]:Group2[T.Y]']\n",
    "\n",
    "print(\"Main Effects:\")\n",
    "print(main_effects)\n",
    "print(\"Interaction Effect:\")\n",
    "print(interaction_effect)"
   ]
  },
  {
   "cell_type": "markdown",
   "id": "c748a449-30a8-4bfe-98e8-c5d0cb9768fb",
   "metadata": {},
   "source": [
    "Q6. Suppose you conducted a one-way ANOVA and obtained an F-statistic of 5.23 and a p-value of 0.02. What can you conclude about the differences between the groups, and how would you interpret these results?"
   ]
  },
  {
   "cell_type": "markdown",
   "id": "af190bca-15c8-44a2-9792-ab8a27a8d1e0",
   "metadata": {},
   "source": [
    "Answer6: \n",
    "\n",
    "If you conducted a one-way ANOVA and obtained an F-statistic of 5.23 and a p-value of 0.02, it means that the variability between group means is significantly larger than the variability within groups. The F-statistic of 5.23 indicates how much larger the variability between group means is compared to the variability within groups.\n",
    "\n",
    "With a p-value of 0.02, you can conclude that there is a statistically significant difference between the group means at a significance level of 0.05. In other words, you can reject the null hypothesis that all group means are equal. The result suggests that the population means of the groups are not all the same, and there is evidence to support that the population means are significantly different.\n"
   ]
  },
  {
   "cell_type": "markdown",
   "id": "75e2d071-dcac-4d5d-b544-d922bfa52793",
   "metadata": {},
   "source": [
    "Q7. In a repeated measures ANOVA, how would you handle missing data, and what are the potential consequences of using different methods to handle missing data?"
   ]
  },
  {
   "cell_type": "markdown",
   "id": "82049ea9-072f-419c-bbac-e2965bb0aee9",
   "metadata": {},
   "source": [
    "\n",
    "Answer7: \n",
    "\n",
    "In a repeated measures ANOVA, missing data can be handled in various ways:\n",
    "\n",
    "1- Complete Case Analysis: You can remove cases with missing data from the analysis, which may lead to a reduction in sample size and potential loss of information.\n",
    "\n",
    "2- Mean Imputation: You can replace missing values with the mean of the available data for the corresponding group or condition. However, this may introduce bias and underestimate the true variability.\n",
    "\n",
    "3- Multiple Imputation: Use statistical techniques to impute missing data multiple times based on the available information, which provides more robust estimates.\n",
    "\n",
    "Potential Consequences of Handling Missing Data Differently:\n",
    "\n",
    "Different methods of handling missing data can lead to varying results and interpretations. Complete case analysis reduces the sample size and may introduce bias if the missing data are not missing completely at random. Imputation methods assume that missing data are missing at random, and the imputed values may not accurately reflect the true underlying values. Multiple imputation can provide more reliable estimates but requires careful consideration of the imputation model and assumptions. Using different methods can lead to different conclusions about the significance of the effects and may impact the validity of the results. It is essential to handle missing data appropriately and consider the potential impact of the chosen method on the study conclusions."
   ]
  },
  {
   "cell_type": "markdown",
   "id": "d6593ffc-bdf6-4642-8490-57c37fa96800",
   "metadata": {},
   "source": [
    "Q8. What are some common post-hoc tests used after ANOVA, and when would you use each one? Provide an example of a situation where a post-hoc test might be necessary.\n"
   ]
  },
  {
   "cell_type": "markdown",
   "id": "fa76afd7-b14f-4c67-adfe-7bcbf11207e5",
   "metadata": {},
   "source": [
    "\n",
    "Answer8: \n",
    "\n",
    "Post-hoc tests are used after ANOVA to compare group means pairwise when there are three or more groups. Some common post-hoc tests include:\n",
    "\n",
    "1- Tukey's Honestly Significant Difference (HSD) test: It controls the family-wise error rate and is used when the assumption of homogeneity of variances is met.\n",
    "\n",
    "2- Bonferroni correction: It adjusts the significance level for multiple comparisons and can be used when the number of pairwise comparisons is small.\n",
    "\n",
    "3- Scheffe's test: It is conservative and can be used when the assumption of homogeneity of variances is violated.\n",
    "\n",
    "4- Dunnett's test: It is used for comparing all treatment groups with a control group in a one-way ANOVA.\n",
    "\n",
    "Example of a situation where a post-hoc test might be necessary:\n",
    "\n",
    "Suppose you conducted a one-way ANOVA with four groups and found a significant overall difference. To determine which specific groups differ from each other, you can conduct post-hoc tests. For instance, Tukey's HSD or Bonferroni correction can help identify which group means are significantly different from each other. Post-hoc tests provide valuable information about pairwise comparisons and help pinpoint the sources of significant differences identified in the ANOVA."
   ]
  },
  {
   "cell_type": "markdown",
   "id": "1d453e73-ebdf-4dd5-aa61-d3e840e66557",
   "metadata": {},
   "source": [
    "Q9. A researcher wants to compare the mean weight loss of three diets: A, B, and C. They collect data from 50 participants who were randomly assigned to one of the diets. Conduct a one-way ANOVA using Python to determine if there are any significant differences between the mean weight loss of the three diets. Report the F-statistic and p-value, and interpret the results."
   ]
  },
  {
   "cell_type": "code",
   "execution_count": 3,
   "id": "c2511dc4-e3d9-4412-baf1-94c4f01824fc",
   "metadata": {},
   "outputs": [
    {
     "name": "stdout",
     "output_type": "stream",
     "text": [
      "F-Statistic: 198.67029972752044\n",
      "P-value: 1.6267681192634228e-42\n"
     ]
    }
   ],
   "source": [
    "#answer9-\n",
    "\n",
    "import numpy as np\n",
    "from scipy.stats import f_oneway\n",
    "\n",
    "weight_loss_A = [5, 7, 6, 8, 9, 4, 6, 5, 8, 7, 6, 5, 9, 7, 5, 6, 8, 6, 7, 5,\n",
    "                 6, 8, 7, 9, 5, 6, 7, 8, 9, 6, 7, 5, 6, 8, 9, 7, 6, 5, 7, 8,\n",
    "                 6, 5, 9, 7, 6, 5, 8, 7, 6, 5]\n",
    "\n",
    "weight_loss_B = [3, 2, 1, 4, 2, 3, 4, 3, 2, 3, 1, 4, 2, 3, 2, 1, 4, 3, 2, 4,\n",
    "                 3, 2, 4, 3, 1, 3, 2, 4, 2, 3, 1, 4, 3, 2, 3, 4, 1, 2, 3, 4,\n",
    "                 3, 2, 4, 1, 3, 2, 4, 2, 3, 1]\n",
    "\n",
    "weight_loss_C = [1, 3, 2, 4, 1, 2, 3, 1, 4, 3, 2, 4, 1, 2, 3, 1, 4, 2, 3, 1,\n",
    "                 4, 2, 3, 1, 4, 2, 3, 1, 4, 2, 3, 1, 4, 2, 3, 1, 4, 2, 3, 1,\n",
    "                 4, 3, 2, 4, 1, 3, 2, 4, 1, 3]\n",
    "\n",
    "f_statistic, p_value = f_oneway(weight_loss_A, weight_loss_B, weight_loss_C)\n",
    "\n",
    "print(\"F-Statistic:\", f_statistic)\n",
    "print(\"P-value:\", p_value)"
   ]
  },
  {
   "cell_type": "markdown",
   "id": "2b5e6314-5b69-49f7-a45b-6e5b512187ff",
   "metadata": {},
   "source": [
    "Q10. A company wants to know if there are any significant differences in the average time it takes to complete a task using three different software programs: Program A, Program B, and Program C. They randomly assign 30 employees to one of the programs and record the time it takes each employee to complete the task. Conduct a two-way ANOVA using Python to determine if there are any main effects or interaction effects between the software programs and employee experience level (novice vs. experienced). Report the F-statistics and p-values, and interpret the results."
   ]
  },
  {
   "cell_type": "code",
   "execution_count": 4,
   "id": "9d9c75bf-a822-4aa8-a75a-13bedc557fc7",
   "metadata": {},
   "outputs": [
    {
     "name": "stdout",
     "output_type": "stream",
     "text": [
      "                               sum_sq   df          F    PR(>F)\n",
      "C(Software)                264.500000  2.0  36.906977  0.000425\n",
      "C(Experience)                2.083333  1.0   0.581395  0.474664\n",
      "C(Software):C(Experience)   10.166667  2.0   1.418605  0.312974\n",
      "Residual                    21.500000  6.0        NaN       NaN\n"
     ]
    }
   ],
   "source": [
    "#answer10-\n",
    "\n",
    "\n",
    "import pandas as pd\n",
    "import statsmodels.api as sm\n",
    "from statsmodels.formula.api import ols\n",
    "\n",
    "data = pd.DataFrame({\n",
    "    'Software': ['A', 'A', 'B', 'B', 'C', 'C', 'A', 'B', 'C', 'A', 'B', 'C'],\n",
    "    'Experience': ['Novice', 'Experienced'] * 6,\n",
    "    'Time': [25, 22, 30, 28, 35, 33, 23, 32, 38, 24, 27, 34]\n",
    "})\n",
    "\n",
    "model = ols('Time ~ C(Software) + C(Experience) + C(Software):C(Experience)', data=data).fit()\n",
    "\n",
    "anova_table = sm.stats.anova_lm(model, typ=2)\n",
    "\n",
    "print(anova_table)"
   ]
  },
  {
   "cell_type": "markdown",
   "id": "ae17ca72-c4a2-4974-bd8f-2176b47d1033",
   "metadata": {},
   "source": [
    "Q11. An educational researcher is interested in whether a new teaching method improves student test scores. They randomly assign 100 students to either the control group (traditional teaching method) or the experimental group (new teaching method) and administer a test at the end of the semester. Conduct a two-sample t-test using Python to determine if there are any significant differences in test scores between the two groups. If the results are significant, follow up with a post-hoc test to determine which group(s) differ significantly from each other."
   ]
  },
  {
   "cell_type": "code",
   "execution_count": 5,
   "id": "55e8ad30-5db7-4935-b185-a816f43bdbe3",
   "metadata": {},
   "outputs": [
    {
     "name": "stdout",
     "output_type": "stream",
     "text": [
      "T-Statistic: -7.666184363521894\n",
      "P-value: 3.144088678985931e-09\n"
     ]
    }
   ],
   "source": [
    "#answer11-\n",
    "\n",
    "\n",
    "import numpy as np\n",
    "from scipy.stats import ttest_ind\n",
    "\n",
    "control_group = [85, 82, 78, 88, 90, 84, 86, 80, 87, 89, 81, 83, 85, 88, 82, 80, 86, 84, 89, 85]\n",
    "experimental_group = [92, 88, 95, 89, 90, 94, 91, 93, 87, 96, 93, 92, 94, 90, 91, 95, 92, 89, 93, 91]\n",
    "\n",
    "t_statistic, p_value = ttest_ind(control_group, experimental_group)\n",
    "\n",
    "print(\"T-Statistic:\", t_statistic)\n",
    "print(\"P-value:\", p_value)"
   ]
  },
  {
   "cell_type": "markdown",
   "id": "839c773e-f4b1-4b2d-873f-a67ad3785e59",
   "metadata": {},
   "source": [
    "Q12. A researcher wants to know if there are any significant differences in the average daily sales of three retail stores: Store A, Store B, and Store C. They randomly select 30 days and record the sales for each store on those days. Conduct a repeated measures ANOVA using Python to determine if there are any significant differences in sales between the three stores. If the results are significant, follow up with a post- hoc test to determine which store(s) differ significantly from each other.\n"
   ]
  },
  {
   "cell_type": "code",
   "execution_count": 6,
   "id": "984680ff-6590-479f-8fcd-28de2831e010",
   "metadata": {},
   "outputs": [
    {
     "name": "stdout",
     "output_type": "stream",
     "text": [
      "Day      0\n",
      "Store    0\n",
      "Sales    0\n",
      "dtype: int64\n",
      "0\n",
      "F-Statistic: 0.4706384796070894\n",
      "P-value: 0.6261841937083128\n"
     ]
    }
   ],
   "source": [
    "#answer12-\n",
    "\n",
    "import pandas as pd\n",
    "import statsmodels.api as sm\n",
    "from statsmodels.formula.api import ols\n",
    "\n",
    "data = pd.DataFrame({\n",
    "    'Day': [i for i in range(1, 31)] * 3,\n",
    "    'Store': ['A'] * 30 + ['B'] * 30 + ['C'] * 30,\n",
    "    'Sales': [500, 520, 480, 510, 490, 510, 480, 500, 510, 490,\n",
    "              520, 490, 480, 510, 500, 520, 510, 500, 480, 510,\n",
    "              500, 490, 510, 480, 500, 520, 510, 500, 480, 510,\n",
    "              520, 490, 480, 500, 510, 520, 490, 510, 500, 480,\n",
    "              510, 490, 520, 500, 510, 480, 500, 510, 490, 520,\n",
    "              510, 500, 520, 500, 510, 520, 510, 490, 520, 500,\n",
    "              500, 480, 510, 520, 490, 480, 510, 510, 480, 500,\n",
    "              490, 520, 500, 510, 500, 520, 510, 490, 510, 480, \n",
    "              500, 510, 490, 520, 510, 520, 510, 490, 480, 510,]\n",
    "})\n",
    "\n",
    "print(data.isna().sum())\n",
    "\n",
    "print(np.isinf(data['Sales']).sum())\n",
    "\n",
    "data.dropna(inplace=True)\n",
    "data = data[~np.isinf(data['Sales'])]\n",
    "\n",
    "f_statistic, p_value = f_oneway(data[data['Store'] == 'A']['Sales'],\n",
    "                                data[data['Store'] == 'B']['Sales'],\n",
    "                                data[data['Store'] == 'C']['Sales'])\n",
    "\n",
    "print(\"F-Statistic:\", f_statistic)\n",
    "print(\"P-value:\", p_value)"
   ]
  },
  {
   "cell_type": "markdown",
   "id": "1e7c9780-e2ec-4714-93e3-a9b7bffde7ab",
   "metadata": {},
   "source": [
    "."
   ]
  },
  {
   "cell_type": "code",
   "execution_count": null,
   "id": "cab3a158-7ea2-45f9-9cda-afa8977b95a7",
   "metadata": {},
   "outputs": [],
   "source": []
  }
 ],
 "metadata": {
  "kernelspec": {
   "display_name": "Python 3 (ipykernel)",
   "language": "python",
   "name": "python3"
  },
  "language_info": {
   "codemirror_mode": {
    "name": "ipython",
    "version": 3
   },
   "file_extension": ".py",
   "mimetype": "text/x-python",
   "name": "python",
   "nbconvert_exporter": "python",
   "pygments_lexer": "ipython3",
   "version": "3.10.8"
  }
 },
 "nbformat": 4,
 "nbformat_minor": 5
}
