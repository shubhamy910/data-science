{
 "cells": [
  {
   "cell_type": "markdown",
   "id": "ad0621cc-c338-42e7-aa55-606d92204aa9",
   "metadata": {},
   "source": [
    "Q1. Pearson correlation coefficient is a measure of the linear relationship between two variables. Suppose you have collected data on the amount of time students spend studying for an exam and their final exam scores. Calculate the Pearson correlation coefficient between these two variables and interpret the result."
   ]
  },
  {
   "cell_type": "code",
   "execution_count": 4,
   "id": "43c836bc-4cc5-44ba-ab8a-1a7f7e6fa511",
   "metadata": {},
   "outputs": [
    {
     "name": "stdout",
     "output_type": "stream",
     "text": [
      "Pearson correlation coefficient: 0.99\n"
     ]
    }
   ],
   "source": [
    "import numpy as np\n",
    "\n",
    "time_spent_studying = [10, 12, 8, 15, 11]  \n",
    "final_exam_scores = [80, 85, 75, 90, 82]\n",
    "\n",
    "pearson_corr = np.corrcoef(time_spent_studying, final_exam_scores)[0, 1]\n",
    "\n",
    "print(f\"Pearson correlation coefficient: {pearson_corr:.2f}\")"
   ]
  },
  {
   "cell_type": "markdown",
   "id": "118032c4-a784-4e06-a26d-814fe45cd966",
   "metadata": {},
   "source": [
    "Q2. Spearman's rank correlation is a measure of the monotonic relationship between two variables. Suppose you have collected data on the amount of sleep individuals get each night and their overall job satisfaction level on a scale of 1 to 10. Calculate the Spearman's rank correlation between these two variables and interpret the result.\n"
   ]
  },
  {
   "cell_type": "code",
   "execution_count": 7,
   "id": "19860aee-56bb-4799-8012-457afdb41f31",
   "metadata": {},
   "outputs": [
    {
     "name": "stdout",
     "output_type": "stream",
     "text": [
      "Spearman's rank correlation: 0.99\n"
     ]
    }
   ],
   "source": [
    "\n",
    "import scipy.stats as stats\n",
    "\n",
    "hours_of_sleep = [7, 6, 8, 5, 6, 9] \n",
    "job_satisfaction = [8, 7, 9, 4, 6, 10] \n",
    "\n",
    "spearman_corr, _ = stats.spearmanr(hours_of_sleep, job_satisfaction)\n",
    "\n",
    "print(f\"Spearman's rank correlation: {spearman_corr:.2f}\")"
   ]
  },
  {
   "cell_type": "markdown",
   "id": "868f076f-2eb3-4a1a-8ca3-0630359472f5",
   "metadata": {},
   "source": [
    "Q3. Suppose you are conducting a study to examine the relationship between the number of hours of exercise per week and body mass index (BMI) in a sample of adults. You collected data on both variables for 50 participants. Calculate the Pearson correlation coefficient and the Spearman's rank correlation between these two variables and compare the results."
   ]
  },
  {
   "cell_type": "code",
   "execution_count": 9,
   "id": "ee8f5baa-7a58-40ac-ad31-759b8a95c067",
   "metadata": {},
   "outputs": [
    {
     "name": "stdout",
     "output_type": "stream",
     "text": [
      "Pearson correlation coefficient: 1.00\n",
      "Spearman's rank correlation: 1.00\n"
     ]
    }
   ],
   "source": [
    "import scipy.stats as stats\n",
    "import numpy as np\n",
    "\n",
    "exercise_hours = [3, 5, 2, 6, 4, 1]  \n",
    "bmi = [25, 30, 22, 32, 28, 20]\n",
    "\n",
    "# Calculate Pearson correlation coefficient\n",
    "pearson_corr = np.corrcoef(exercise_hours, bmi)[0, 1]\n",
    "\n",
    "# Calculate Spearman's rank correlation\n",
    "spearman_corr, _ =  stats.spearmanr(exercise_hours, bmi)\n",
    "\n",
    "print(f\"Pearson correlation coefficient: {pearson_corr:.2f}\")\n",
    "print(f\"Spearman's rank correlation: {spearman_corr:.2f}\")"
   ]
  },
  {
   "cell_type": "markdown",
   "id": "11cee598-995c-4ba3-9eed-2628a2ce0d82",
   "metadata": {},
   "source": [
    "Q4. A researcher is interested in examining the relationship between the number of hours individuals spend watching television per day and their level of physical activity. The researcher collected data on both variables from a sample of 50 participants. Calculate the Pearson correlation coefficient between these two variables."
   ]
  },
  {
   "cell_type": "code",
   "execution_count": 10,
   "id": "a2ec5772-7465-4960-8d4d-6d94fe5bc504",
   "metadata": {},
   "outputs": [
    {
     "name": "stdout",
     "output_type": "stream",
     "text": [
      "Pearson correlation coefficient: -1.00\n"
     ]
    }
   ],
   "source": [
    "import numpy as np\n",
    "\n",
    "tv_hours_per_day = [2, 3, 4, 1, 2, 3] \n",
    "physical_activity_level = [3, 2, 1, 4, 3, 2] \n",
    "\n",
    "# Calculate Pearson correlation coefficient\n",
    "pearson_corr = np.corrcoef(tv_hours_per_day, physical_activity_level)[0, 1]\n",
    "\n",
    "print(f\"Pearson correlation coefficient: {pearson_corr:.2f}\")"
   ]
  },
  {
   "cell_type": "markdown",
   "id": "9d68ac1f-e5c0-4ab7-ba4e-42edf8861677",
   "metadata": {},
   "source": [
    "Q5. A survey was conducted to examine the relationship between age and preference for a particular brand of soft drink. The survey results are shown below:\n",
    "\n",
    "import pandas as pd\n",
    "df = pd.DataFrame({\n",
    "    'age' : [ 25, 42, 37, 19, 31, 28],\n",
    "    'soft_drink_preference' : [\"Coke\", \"Pepsi\", \"Mountain Dew\", \"Coke\", \"Pepsi\", \"Coke\"]\n",
    "\n",
    "})\n",
    "mean_price = df.groupby(\"soft_drink_preference\")['age'].mean().to_dict()\n",
    "mean_price"
   ]
  }
 ],
 "metadata": {
  "kernelspec": {
   "display_name": "Python 3 (ipykernel)",
   "language": "python",
   "name": "python3"
  },
  "language_info": {
   "codemirror_mode": {
    "name": "ipython",
    "version": 3
   },
   "file_extension": ".py",
   "mimetype": "text/x-python",
   "name": "python",
   "nbconvert_exporter": "python",
   "pygments_lexer": "ipython3",
   "version": "3.10.8"
  }
 },
 "nbformat": 4,
 "nbformat_minor": 5
}
