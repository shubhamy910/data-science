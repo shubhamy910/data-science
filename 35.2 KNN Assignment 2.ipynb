{
 "cells": [
  {
   "cell_type": "markdown",
   "id": "d6c044de-899f-4072-b6f4-cb6931be25af",
   "metadata": {},
   "source": [
    "Q1. What is the main difference between the Euclidean distance metric and the Manhattan distance metric in KNN? How might this difference affect the performance of a KNN classifier or regressor?"
   ]
  },
  {
   "cell_type": "markdown",
   "id": "0275563b-722f-4fe9-a26c-61f5476d2a5d",
   "metadata": {},
   "source": [
    "Answer1. The main difference between Euclidean distance and Manhattan distance lies in how they measure distance between points:\n",
    "\n",
    "- Euclidean Distance: It measures the straight-line distance between two points in Euclidean space. It considers both the horizontal and vertical distances.\n",
    "- Manhattan Distance: It measures the distance as the sum of the absolute differences between the coordinates of two points. It only considers horizontal and vertical movements, akin to navigating a city grid.\n",
    "\n",
    "The choice of distance metric can affect KNN's performance because it determines how \"closeness\" between data points is defined. Euclidean distance tends to work well when features are continuous and measured in the same units. Manhattan distance can be more appropriate when features are not naturally represented in Euclidean space or when you want to emphasize differences along individual dimensions. The choice should be based on the nature of your data.\n",
    "\n"
   ]
  },
  {
   "cell_type": "markdown",
   "id": "16d4e9fc-68e5-4b7c-a0d8-f9106f9f9381",
   "metadata": {},
   "source": [
    "Q2. How do you choose the optimal value of k for a KNN classifier or regressor? What techniques can be used to determine the optimal k value?"
   ]
  },
  {
   "cell_type": "markdown",
   "id": "3e487d75-e4a1-4d66-8e95-6d132cefbec2",
   "metadata": {},
   "source": [
    "Answer2. Selecting the optimal value of k in KNN is critical for model performance. Some techniques to determine the optimal k value include:\n",
    "\n",
    "- Cross-validation: Split your data into training and validation sets, and evaluate the model's performance with different values of k. Choose the k that results in the best validation performance.\n",
    "- Grid Search: Perform a grid search over a range of k values and use cross-validation to select the best k based on a chosen performance metric.\n",
    "- Elbow Method: Plot the performance metric (e.g., accuracy or mean squared error) against different k values and look for an \"elbow\" point where performance stabilizes.\n",
    "- Leave-One-Out Cross-Validation (LOOCV): A special form of cross-validation where you use each data point as a validation set with different k values."
   ]
  },
  {
   "cell_type": "markdown",
   "id": "425e3983-46c6-4c1f-be4b-4ae6a98c0ccc",
   "metadata": {},
   "source": [
    "Q3. How does the choice of distance metric affect the performance of a KNN classifier or regressor? In what situations might you choose one distance metric over the other?"
   ]
  },
  {
   "cell_type": "markdown",
   "id": "9b22c1a0-3be0-4d04-b835-5cb0b7e60f37",
   "metadata": {},
   "source": [
    "Answer3. The choice of distance metric can significantly impact KNN's performance:\n",
    "\n",
    "- Euclidean Distance: Works well when features are continuous and have similar scales. It assumes a spherical shape of influence around data points.\n",
    "- Manhattan Distance: Appropriate when features are not naturally represented in Euclidean space or when you want to give equal weight to differences along individual dimensions. It assumes a rectangular shape of influence.\n",
    "\n",
    "You might choose one distance metric over the other based on your knowledge of the data and the underlying problem. Experimentation and cross-validation can help determine which distance metric performs better for a given dataset.\n"
   ]
  },
  {
   "cell_type": "markdown",
   "id": "7856d22a-b807-43ef-902c-75fce9a09abc",
   "metadata": {},
   "source": [
    "Q4. What are some common hyperparameters in KNN classifiers and regressors, and how do they affect the performance of the model? How might you go about tuning these hyperparameters to improve model performance?"
   ]
  },
  {
   "cell_type": "markdown",
   "id": "03a5fea1-1309-47e7-a458-1b399691cbb8",
   "metadata": {},
   "source": [
    "Answer4. Common hyperparameters in KNN include:\n",
    "\n",
    "- k (number of neighbors)\n",
    "- Distance metric\n",
    "- Weighting scheme (e.g., uniform or distance-based weighting)\n",
    "\n",
    "The choice of k affects the model's bias-variance trade-off, while the distance metric and weighting scheme affect how neighbors contribute to predictions. Tuning these hyperparameters involves using techniques like cross-validation and grid search to find the combination that results in the best model performance.\n"
   ]
  },
  {
   "cell_type": "markdown",
   "id": "39f09721-afcd-4b1e-8afe-b1753b74fa52",
   "metadata": {},
   "source": [
    "Q5. How does the size of the training set affect the performance of a KNN classifier or regressor? What techniques can be used to optimize the size of the training set?"
   ]
  },
  {
   "cell_type": "markdown",
   "id": "bda6eff6-8bf6-44b1-8bf1-e4d40cfe64df",
   "metadata": {},
   "source": [
    "Answer5. The size of the training set can influence KNN's performance. With a small training set, the model may be sensitive to noise, while with a large training set, it may become computationally expensive.\n",
    "\n",
    "Techniques to optimize the size of the training set include:\n",
    "\n",
    "- Cross-validation: Assess model performance with different training set sizes to find an optimal balance between data quantity and model stability.\n",
    "- Resampling methods: If data is limited, you can use techniques like bootstrapping to create multiple training sets with replacement.\n",
    "- Data augmentation: Generate synthetic data points to increase the size of your training set."
   ]
  },
  {
   "cell_type": "markdown",
   "id": "45611c1a-8014-4d5e-8a96-215b6889a3e3",
   "metadata": {},
   "source": [
    "Q6. What are some potential drawbacks of using KNN as a classifier or regressor? How might you overcome these drawbacks to improve the performance of the model?"
   ]
  },
  {
   "cell_type": "markdown",
   "id": "a873c809-e09b-4360-ae4e-923a99e7f127",
   "metadata": {},
   "source": [
    "Answer6. Drawbacks of KNN include:\n",
    "\n",
    "- Sensitive to the choice of k.\n",
    "- Computationally expensive for large datasets.\n",
    "- Suffers from the curse of dimensionality.\n",
    "\n",
    "To overcome these drawbacks, you can:\n",
    "\n",
    "- Use feature selection or dimensionality reduction techniques to reduce the number of features.\n",
    "- Optimize the choice of k through cross-validation.\n",
    "- Implement efficient data structures like KD-trees or ball trees to speed up neighbor search.\n",
    "- Preprocess data to handle missing values or outliers.\n",
    "- Use appropriate distance metrics and weighting schemes.\n",
    "- Consider ensemble methods like weighted KNN or distance-based learning to improve robustness."
   ]
  },
  {
   "cell_type": "code",
   "execution_count": null,
   "id": "b6647f31-85fd-487e-8fc5-19350a340f1b",
   "metadata": {},
   "outputs": [],
   "source": []
  }
 ],
 "metadata": {
  "kernelspec": {
   "display_name": "Python 3 (ipykernel)",
   "language": "python",
   "name": "python3"
  },
  "language_info": {
   "codemirror_mode": {
    "name": "ipython",
    "version": 3
   },
   "file_extension": ".py",
   "mimetype": "text/x-python",
   "name": "python",
   "nbconvert_exporter": "python",
   "pygments_lexer": "ipython3",
   "version": "3.10.8"
  }
 },
 "nbformat": 4,
 "nbformat_minor": 5
}
