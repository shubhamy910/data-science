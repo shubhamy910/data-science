{
 "cells": [
  {
   "cell_type": "markdown",
   "id": "af4a5473-035a-44fd-8ffb-6aafd73da950",
   "metadata": {},
   "source": [
    "Q1: What is the difference between a t-test and a z-test? Provide an example scenario where you would use each type of test."
   ]
  },
  {
   "cell_type": "markdown",
   "id": "8d18cb5a-f238-4180-897e-9bd72878b405",
   "metadata": {},
   "source": [
    "Answer1:\n",
    "\n",
    "Both t-tests and z-tests are used in statistical hypothesis testing to determine if there is a significant difference between a sample mean and a population mean. The main difference between the two lies in the underlying assumptions and when they are used:\n",
    "\n",
    "Z-test:\n",
    "\n",
    "1- A z-test is used when the population standard deviation is known.\n",
    "\n",
    "2- It assumes that the sample size is large (typically n ≥ 30) and follows a normal distribution.\n",
    "\n",
    "3- The critical value for the test statistic is obtained from the standard normal distribution (Z-distribution).\n",
    "\n",
    "Example Scenario: Suppose you want to test if the average weight of a certain breed of dogs is significantly different from the national average weight for that breed (population average weight is known). If you have a large enough sample size and the weights of the dogs in your sample are approximately normally distributed, you can use a z-test.\n",
    "\n",
    "T-test:\n",
    "\n",
    "1- A t-test is used when the population standard deviation is unknown.\n",
    "\n",
    "2- It is appropriate for small sample sizes or when the sample data is not normally distributed.\n",
    "\n",
    "3- The critical value for the test statistic is obtained from the t-distribution, which has fatter tails than the standard normal distribution.\n",
    "\n",
    "Example Scenario: Let's say you want to test if a new teaching method has improved the test scores of a group of students. You have limited data and don't know the population's standard deviation. In this case, you would use a t-test to compare the average test scores before and after implementing the new teaching method."
   ]
  },
  {
   "cell_type": "markdown",
   "id": "3a2c82a9-d1c9-4411-be5f-bc42d6a310bf",
   "metadata": {},
   "source": [
    "Q2: Differentiate between one-tailed and two-tailed tests."
   ]
  },
  {
   "cell_type": "markdown",
   "id": "1140ebed-a526-4c5f-b72c-6313b2fb607e",
   "metadata": {},
   "source": [
    "Answer2:\n",
    "\n",
    "One-tailed test:\n",
    "\n",
    "1- Also known as a directional test.\n",
    "\n",
    "2- It tests for a specific direction of difference between the sample and the population mean.\n",
    "\n",
    "3- The critical region is on one side of the distribution (either the upper tail or the lower tail).\n",
    "\n",
    "Example: A pharmaceutical company develops a new drug and believes it will increase participants' reaction times. A one-tailed test is used to check if the reaction times are significantly faster with the new drug.\n",
    "\n",
    "\n",
    "Two-tailed test:\n",
    "\n",
    "1- Also known as a non-directional test.\n",
    "\n",
    "2- It tests for any significant difference between the sample and the population mean, regardless of the direction.\n",
    "\n",
    "3- The critical region is divided into two sides of the distribution (both the upper and lower tails).\n",
    "\n",
    "Example: An electronics manufacturer wants to test if a new manufacturing process has changed the mean lifespan of their products. A two-tailed test is used to determine if there is a significant difference in either direction (longer or shorter lifespan)."
   ]
  },
  {
   "cell_type": "markdown",
   "id": "5b614d01-e9a7-4a7d-9af0-be6dd1e8c37d",
   "metadata": {},
   "source": [
    "Q3: Explain the concept of Type 1 and Type 2 errors in hypothesis testing. Provide an example scenario for each type of error."
   ]
  },
  {
   "cell_type": "markdown",
   "id": "014edb1c-d216-47cb-a27e-cafed4196892",
   "metadata": {},
   "source": [
    "Answer3:\n",
    "\n",
    "Type 1 error (False Positive):\n",
    "\n",
    "1- Occurs when we reject a true null hypothesis.\n",
    "\n",
    "2- In other words, we conclude that there is a significant effect when there isn't one in the population.\n",
    "\n",
    "3- The probability of making a Type 1 error is denoted by the symbol \"α\" (alpha) and is typically set as the significance level (e.g., 0.05).\n",
    "\n",
    "Example Scenario: In a criminal trial, the null hypothesis is that the defendant is innocent. Making a Type 1 error would mean wrongly convicting an innocent person.\n",
    "\n",
    "Type 2 error (False Negative):\n",
    "\n",
    "1- Occurs when we fail to reject a false null hypothesis.\n",
    "\n",
    "2- In other words, we conclude that there is no significant effect when there is one in the population.\n",
    "\n",
    "3- The probability of making a Type 2 error is denoted by the symbol \"β\" (beta).\n",
    "\n",
    "Example Scenario: In a medical test for a disease, the null hypothesis is that the person is healthy. Making a Type 2 error would mean failing to diagnose a person who actually has the disease."
   ]
  },
  {
   "cell_type": "markdown",
   "id": "ce8f0e66-6397-44eb-a313-4d5f0e992e13",
   "metadata": {},
   "source": [
    "Q4: Explain Bayes's theorem with an example."
   ]
  },
  {
   "cell_type": "markdown",
   "id": "a6a1ea70-8db6-405c-9d23-8c51c69706cd",
   "metadata": {},
   "source": [
    "Answer4:\n",
    "\n",
    "Bayes's Theorem is a fundamental concept in probability theory that allows us to update the probability of an event occurring based on new evidence. The formula is as follows:\n",
    "\n",
    "P(A|B) = [P(B|A) * P(A)] / P(B)\n",
    "\n",
    "Where:\n",
    "\n",
    "P(A|B) is the posterior probability of event A given evidence B. P(B|A) is the likelihood of evidence B given event A. P(A) is the prior probability of event A (before considering any evidence). P(B) is the probability of evidence B.\n",
    "\n",
    "Example: Let's say we have a medical test for a rare disease, and we know the test's accuracy:\n",
    "\n",
    "The probability of having the disease (prior probability) P(A) is 0.01 (1% of the population has the disease). The probability of the test correctly detecting the disease (true positive rate) P(B|A) is 0.95 (95%). The probability of the test giving a false positive result (detecting the disease when the person is healthy) is P(B|~A) = 0.05 (5%). Now, suppose a person receives a positive test result (evidence B). We want to calculate the probability that the person actually has the disease (P(A|B)).\n",
    "\n",
    "Using Bayes's Theorem:\n",
    "\n",
    "P(A|B) = [P(B|A) * P(A)] / P(B)\n",
    "\n",
    "P(A|B) = [0.95 * 0.01] / (0.95 * 0.01 + 0.05 * 0.99)\n",
    "\n",
    "P(A|B) = 0.95 / 0.0995\n",
    "\n",
    "P(A|B) ≈ 0.9548\n",
    "\n",
    "So, given a positive test result, the probability that the person actually has the disease is approximately 95.48%."
   ]
  },
  {
   "cell_type": "markdown",
   "id": "76bdb51c-ddda-4a62-9881-6d76268f6ff6",
   "metadata": {},
   "source": [
    "Q5: What is a confidence interval? How to calculate the confidence interval, explain with an example.\n",
    "\n",
    "\n"
   ]
  },
  {
   "cell_type": "markdown",
   "id": "e9422976-c296-4a53-b6a5-db0ca2b0a1e3",
   "metadata": {},
   "source": [
    "Answer5:\n",
    "\n",
    "A confidence interval (CI) is a range of values within which we are reasonably confident the true population parameter lies. It provides a measure of the uncertainty associated with estimating the population parameter from a sample.\n",
    "\n",
    "To calculate a confidence interval for the population mean (μ), we need three pieces of information:\n",
    "\n",
    "Sample mean (x̄) - the average of the sample data. Sample standard deviation (s) - the measure of variability within the sample. Confidence level (CL) - the level of confidence we want in our estimate, typically expressed as a percentage. The formula for the confidence interval is:\n",
    "\n",
    "CI = x̄ ± Z * (s / √n)\n",
    "\n",
    "Where:\n",
    "\n",
    "1- Z is the critical value from the standard normal distribution corresponding to the chosen confidence level.\n",
    "\n",
    "2- n is the sample size.\n",
    "\n",
    "Example: Let's say we have a sample of 100 students' test scores, and we want to calculate a 95% confidence interval for the population mean test score. The sample mean is 85, and the sample standard deviation is 10.\n",
    "\n",
    "1- Find the critical value (Z) for a 95% confidence level. For a 95% confidence level, the critical value is approximately 1.96 (you can find this value from a standard normal distribution table).\n",
    "\n",
    "2- Calculate the confidence interval:\n",
    "\n",
    "CI = 85 ± 1.96 * (10 / √100) = 85 ± 1.96\n",
    "\n",
    "Interpretation: The 95% confidence interval for the population mean test score is (82.04, 87.96). This means we are 95% confident that the true population mean test score lies within this range.\n"
   ]
  },
  {
   "cell_type": "markdown",
   "id": "f2c982e6-8160-466b-935d-c83676c887ac",
   "metadata": {},
   "source": [
    "Q6. Use Bayes' Theorem to calculate the probability of an event occurring given prior knowledge of the event's probability and new evidence. Provide a sample problem and solution."
   ]
  },
  {
   "cell_type": "markdown",
   "id": "3ab95d91-466b-4948-bbac-becc9b02262f",
   "metadata": {},
   "source": [
    "Answer6:\n",
    "\n",
    "Suppose we have prior knowledge about the probability of an event (A) occurring, and we receive new evidence (B). Bayes's Theorem allows us to update our probability estimate based on the evidence. The formula is the same as mentioned earlier:\n",
    "\n",
    "P(A|B) = [P(B|A) * P(A)] / P(B)\n",
    "\n",
    "Example: Let's consider a scenario of a rare disease and a medical test:\n",
    "\n",
    "1- Prior Probability: The probability of a randomly selected person having the disease (A) is 0.01 (1%).\n",
    "\n",
    "2- Test Accuracy: The probability of the test correctly detecting the disease (B|A) is 0.95 (95%).\n",
    "\n",
    "3- False Positive Rate: The probability of the test giving a false positive result (B|~A) is 0.05 (5%).\n",
    "\n",
    "Now, let's say an individual tests positive for the disease (evidence B). We want to calculate the updated probability that the person actually has the disease (P(A|B)).\n",
    "\n",
    "Using Bayes's Theorem:\n",
    "\n",
    "P(A|B) = [P(B|A) * P(A)] / P(B)\n",
    "\n",
    "P(A|B) = [0.95 * 0.01] / (0.95 * 0.01 + 0.05 * 0.99)\n",
    "\n",
    "P(A|B) = 0.95 / 0.0995\n",
    "\n",
    "P(A|B) ≈ 0.9548\n",
    "\n",
    "So, given a positive test result, the updated probability that the person actually has the disease is approximately 95.48%.\n"
   ]
  },
  {
   "cell_type": "markdown",
   "id": "4d93e0c6-09bc-4519-8d46-9f8e82b37c1a",
   "metadata": {},
   "source": [
    "Q7. Calculate the 95% confidence interval for a sample of data with a mean of 50 and a standard deviation of 5. Interpret the results."
   ]
  },
  {
   "cell_type": "markdown",
   "id": "336232d5-1fef-4c8f-a602-0d469dbcff39",
   "metadata": {},
   "source": [
    "Answer7:\n",
    "\n",
    "Given a sample of data with a mean of 50 and a standard deviation of 5, we can calculate the 95% confidence interval using the formula mentioned earlier:\n",
    "\n",
    "CI = x̄ ± Z * (s / √n)\n",
    "\n",
    "Where:\n",
    "\n",
    "x̄ = sample mean (50)\n",
    "\n",
    "s = sample standard deviation (5)\n",
    "\n",
    "n = sample size (unknown)\n",
    "\n",
    "The critical value for a 95% confidence level (Z) can be obtained from the standard normal distribution table, and it is approximately 1.96.\n",
    "\n",
    "CI = 50 ± 1.96 * (5 / √n)\n",
    "\n",
    "Interpretation: The 95% confidence interval for the population mean is (50 - 1.96 * (5 / √n), 50 + 1.96 * (5 / √n)).\n",
    "\n",
    "To interpret the results, you would need to know the actual sample size (n) to compute the specific interval bounds."
   ]
  },
  {
   "cell_type": "markdown",
   "id": "8a538209-c1f8-45cc-b454-c46a89c9b23a",
   "metadata": {},
   "source": [
    "Q8. What is the margin of error in a confidence interval? How does sample size affect the margin of error? Provide an example of a scenario where a larger sample size would result in a smaller margin of error."
   ]
  },
  {
   "cell_type": "markdown",
   "id": "22c6ba4c-d6a9-4efd-8ad9-bc243b9fc153",
   "metadata": {},
   "source": [
    "Answer8:\n",
    "\n",
    "The margin of error (MOE) is a measure of the uncertainty in the estimate provided by a confidence interval. It indicates the range within which the true population parameter is likely to lie. The larger the margin of error, the less precise the estimate.\n",
    "\n",
    "The formula for calculating the margin of error is:\n",
    "\n",
    "MOE = Z * (s / √n)\n",
    "\n",
    "Where:\n",
    "\n",
    "Z is the critical value from the standard normal distribution corresponding to the chosen confidence level.\n",
    "\n",
    "s is the sample standard deviation.\n",
    "\n",
    "n is the sample size.\n",
    "\n",
    "Relationship with Sample Size:\n",
    "\n",
    "The margin of error is inversely proportional to the square root of the sample size. As the sample size increases, the margin of error decreases, resulting in a more precise estimate.\n",
    "\n",
    "Example: Suppose you want to estimate the average height of students in a school with a 95% confidence level. You take two\n",
    "\n",
    "samples: one with 100 students and another with 400 students.\n",
    "\n",
    "For a 95% confidence level, the critical value (Z) is approximately 1.96.\n",
    "\n",
    "Sample 1 (n = 100):\n",
    "\n",
    "MOE = 1.96 * (s / √100)\n",
    "\n",
    "Sample 2 (n = 400):\n",
    "\n",
    "MOE = 1.96 * (s / √400)\n",
    "\n",
    "The margin of error for Sample 2 (n = 400) will be smaller than the margin of error for Sample 1 (n = 100). As a result, the estimate based on Sample 2 will be more precise than the estimate based on Sample 1."
   ]
  },
  {
   "cell_type": "markdown",
   "id": "637e6f26-40fc-4ded-a42d-c15038fe5790",
   "metadata": {},
   "source": [
    "Q9. Calculate the z-score for a data point with a value of 75, a population mean of 70, and a population standard deviation of 5. Interpret the results."
   ]
  },
  {
   "cell_type": "markdown",
   "id": "7a34a60d-3fde-4816-b38a-f51b69446a38",
   "metadata": {},
   "source": [
    "Answer9: \n",
    "\n",
    "The z-score measures how many standard deviations a data point is away from the population mean. The formula for calculating the z-score is:\n",
    "\n",
    "z = (x - μ) / σ\n",
    "\n",
    "Where:\n",
    "\n",
    "x = 75\n",
    "\n",
    "μ = 70 σ = 5\n",
    "\n",
    "Now, let's calculate the z-score:\n",
    "\n",
    "z = (75 - 70) / 5\n",
    "\n",
    "z = 1\n",
    "\n",
    "Interpretation: The calculated z-score is 1. This means that the data point with a value of 75 is one standard deviation above the population mean of 70."
   ]
  },
  {
   "cell_type": "markdown",
   "id": "2217d873-40e1-4caf-936d-a6bcbf8ef264",
   "metadata": {},
   "source": [
    "Q10. In a study of the effectiveness of a new weight loss drug, a sample of 50 participants lost an average of 6 pounds with a standard deviation of 2.5 pounds. Conduct a hypothesis test to determine if the drug is significantly effective at a 95% confidence level using a t-test."
   ]
  },
  {
   "cell_type": "markdown",
   "id": "0bad56ff-e8a1-4707-9389-7e1d326c0625",
   "metadata": {},
   "source": [
    "Answer10:\n",
    "\n",
    "Null hypothesis (H0): The new weight loss drug has no significant effect (μ = 0). Alternative hypothesis (Ha): The new weight loss drug is significantly effective (μ ≠ 0).\n",
    "\n",
    "Given:\n",
    "\n",
    "Sample mean (x̄) = 6 pounds\n",
    "\n",
    "Sample standard deviation (s) = 2.5 pounds\n",
    "\n",
    "Sample size (n) = 50\n",
    "\n",
    "Confidence level = 95%\n",
    "\n",
    "We will use a two-tailed t-test since we want to determine if the drug is significantly effective in either direction.\n",
    "\n",
    "Using the t-distribution table the critical t-value for a 95% confidence level and 49 degrees of freedom (n-1) is approximately ±2.009.\n",
    "\n",
    "Calculate the t-score:\n",
    "\n",
    "t = (x̄ - μ) / (s / √n)\n",
    "\n",
    "t = (6 - 0) / (2.5 / √50)\n",
    "\n",
    "t = 6 / 0.3536\n",
    "\n",
    "t = 16.97\n",
    "\n",
    "Since the t-score (16.97) is greater than the critical t-value (±2.009), we reject the null hypothesis.\n",
    "\n",
    "Interpretation: At a 95% confidence level, there is enough evidence to suggest that the new weight loss drug is significantly effective in helping participants lose weight."
   ]
  },
  {
   "cell_type": "markdown",
   "id": "80bbc8e2-53dc-4ca0-891c-7f8b9167c1ef",
   "metadata": {},
   "source": [
    "Q11. In a survey of 500 people, 65% reported being satisfied with their current job. Calculate the 95% confidence interval for the true proportion of people who are satisfied with their job."
   ]
  },
  {
   "cell_type": "markdown",
   "id": "206742c3-cdf4-4d0b-97d4-7dbfd5274a7d",
   "metadata": {},
   "source": [
    "Answer11:\n",
    "\n",
    "Given:\n",
    "\n",
    "Sample proportion (p) = 65% or 0.65 Sample size (n) = 500 The formula for calculating the confidence interval for a proportion is:\n",
    "\n",
    "CI = p ± Z * √(p * (1 - p) / n)\n",
    "\n",
    "Where:\n",
    "\n",
    "Z is the critical value from the standard normal distribution corresponding to the chosen confidence level (for 95% confidence, Z = 1.96). Calculate the confidence interval:\n",
    "\n",
    "CI = 0.65 ± 1.96 * √(0.65 * (1 - 0.65) / 500)\n",
    "\n",
    "CI = 0.65 ± 0.0418\n",
    "\n",
    "Interpretation: The 95% confidence interval for the true proportion of people satisfied with their job is (0.6082, 0.6918). This means we are 95% confident that the true proportion of people satisfied with their job falls within this range."
   ]
  },
  {
   "cell_type": "markdown",
   "id": "59e9b072-ddbb-4e05-b3a3-78443bf5c55f",
   "metadata": {},
   "source": [
    "Q12. A researcher is testing the effectiveness of two different teaching methods on student performance. Sample A has a mean score of 85 with a standard deviation of 6, while sample B has a mean score of 82 with a standard deviation of 5. Conduct a hypothesis test to determine if the two teaching methods have a significant difference in student performance using a t-test with a significance level of 0.01."
   ]
  },
  {
   "cell_type": "markdown",
   "id": "659343b1-5523-4689-b8c1-978db93f5643",
   "metadata": {},
   "source": [
    "A12:\n",
    "\n",
    "Null hypothesis (H0): There is no significant difference between the two teaching methods (μA - μB = 0). Alternative hypothesis (Ha): There is a significant difference between the two teaching methods (μA - μB ≠ 0).\n",
    "\n",
    "Given:\n",
    "\n",
    "Sample A mean (x̄A) = 85\n",
    "\n",
    "Sample A standard deviation (sA) = 6\n",
    "\n",
    "Sample A size (nA) = Unknown\n",
    "\n",
    "Sample B mean (x̄B) = 82\n",
    "\n",
    "Sample B standard deviation (sB) = 5\n",
    "\n",
    "Sample B size (nB) = Unknown\n",
    "\n",
    "Significance level = 0.01 (α = 0.01)\n",
    "\n",
    "To conduct the t-test, we need to calculate the pooled standard error and the t-statistic:\n",
    "\n",
    "1- Calculate the pooled standard error (sp):\n",
    "sp = √[( (nA - 1) * sA^2 + (nB - 1) * sB^2 ) / (nA + nB - 2)] We need to know the sample sizes (nA and nB) to compute the pooled standard error.\n",
    "\n",
    "2- Calculate the t-statistic:\n",
    "t = (x̄A - x̄B) / (sp * √(1/nA + 1/nB))\n",
    "\n",
    "Once we have the t-statistic, we compare it with the critical t-value for a two-tailed test at a significance level of 0.01 and the appropriate degrees of freedom to determine whether to reject the null hypothesis or not."
   ]
  },
  {
   "cell_type": "markdown",
   "id": "2fae09bd-6a98-467c-9a94-a952d5d81079",
   "metadata": {},
   "source": [
    "Q13. A population has a mean of 60 and a standard deviation of 8. A sample of 50 observations has a mean of 65. Calculate the 90% confidence interval for the true population mean."
   ]
  },
  {
   "cell_type": "markdown",
   "id": "ed5d6da6-1544-4b30-9479-59df0efbeae7",
   "metadata": {},
   "source": [
    "Answer13:\n",
    "\n",
    "Given:\n",
    "\n",
    "Population mean (μ) = 60\n",
    "\n",
    "Population standard deviation (σ) = 8\n",
    "\n",
    "Sample mean (x̄) = 65\n",
    "\n",
    "Sample size (n) = 50\n",
    "\n",
    "The formula for calculating the confidence interval for the population mean is the same as before:\n",
    "\n",
    "CI = x̄ ± Z * (σ / √n)\n",
    "\n",
    "Where:\n",
    "\n",
    "Z is the critical value from the standard normal distribution corresponding to the chosen confidence level (for 90% confidence, Z = 1.645).\n",
    "\n",
    "Calculate the confidence interval:\n",
    "\n",
    "CI = 65 ± 1.645 * (8 / √50)\n",
    "\n",
    "Interpretation: The 90% confidence interval for the true population mean is (63.139, 66.861). This means we are 90% confident that the true population mean falls within this range."
   ]
  },
  {
   "cell_type": "markdown",
   "id": "90c94736-1ada-45c8-a91a-5b0efa2074de",
   "metadata": {},
   "source": [
    "Q14. In a study of the effects of caffeine on reaction time, a sample of 30 participants had an average reaction time of 0.25 seconds with a standard deviation of 0.05 seconds. Conduct a hypothesis test to determine if the caffeine has a significant effect on reaction time at a 90% confidence level using a t-test."
   ]
  },
  {
   "cell_type": "markdown",
   "id": "03a83e36-a9c9-402e-8c7c-3f64789e8f0f",
   "metadata": {},
   "source": [
    "Answer14:\n",
    "\n",
    "Null hypothesis (H0): Caffeine has no significant effect on reaction time (μ = 0). Alternative hypothesis (Ha): Caffeine has a significant effect on reaction time (μ ≠ 0).\n",
    "\n",
    "Given:\n",
    "\n",
    "Sample mean (x̄) = 0.25 seconds\n",
    "\n",
    "Sample standard deviation (s) = 0.05 seconds\n",
    "\n",
    "Sample size (n) = 30\n",
    "\n",
    "Confidence level = 90%\n",
    "\n",
    "To conduct the t-test,\n",
    "\n",
    "Calculate the t-score:\n",
    "\n",
    "t = (x̄ - μ) / (s / √n)\n",
    "\n",
    "t = (0.25 - 0) / (0.05 / √30)\n",
    "\n",
    "t = 27.38\n",
    "\n",
    "Compare the t-score with the critical t-value for a two-tailed test at a significance level of 0.10 and the appropriate degrees of freedom.\n",
    "\n",
    "critical value = 1.699\n",
    "\n",
    "If the t-score is greater than the critical t-value, we reject the null hypothesis and conclude that caffeine has a significant effect on reaction time at a 90% confidence level. Otherwise, we fail to reject the null hypothesis.\n",
    "\n",
    "here t>1.699 therefore we reject the null hypothesis"
   ]
  },
  {
   "cell_type": "markdown",
   "id": "8b61d899-e190-4438-a50f-88921e783f9c",
   "metadata": {},
   "source": [
    "."
   ]
  },
  {
   "cell_type": "code",
   "execution_count": null,
   "id": "694fc031-624d-4d53-adac-164370839a48",
   "metadata": {},
   "outputs": [],
   "source": []
  },
  {
   "cell_type": "code",
   "execution_count": null,
   "id": "b4d56ca7-b4a0-4278-b9a7-3547665d17b2",
   "metadata": {},
   "outputs": [],
   "source": []
  }
 ],
 "metadata": {
  "kernelspec": {
   "display_name": "Python 3 (ipykernel)",
   "language": "python",
   "name": "python3"
  },
  "language_info": {
   "codemirror_mode": {
    "name": "ipython",
    "version": 3
   },
   "file_extension": ".py",
   "mimetype": "text/x-python",
   "name": "python",
   "nbconvert_exporter": "python",
   "pygments_lexer": "ipython3",
   "version": "3.10.8"
  }
 },
 "nbformat": 4,
 "nbformat_minor": 5
}
