{
 "cells": [
  {
   "cell_type": "code",
   "execution_count": 1,
   "id": "025a54d1-1d4b-4ea9-a247-de49a7257709",
   "metadata": {},
   "outputs": [],
   "source": [
    "a = \"my name is shubham\"\n",
    "b = [2,3,4,5,6,\"shubh\",99.65,True]\n",
    "c = 33.54\n",
    "d = (\"apple\",2,3,4,5,\"mango\")"
   ]
  },
  {
   "cell_type": "code",
   "execution_count": 2,
   "id": "b526dd0c-49ea-4a04-b139-bdecd0205f59",
   "metadata": {},
   "outputs": [
    {
     "name": "stdout",
     "output_type": "stream",
     "text": [
      "<class 'str'> <class 'list'> <class 'float'> <class 'tuple'>\n"
     ]
    }
   ],
   "source": [
    "print(type(a),type(b),type(c),type(d))"
   ]
  },
  {
   "cell_type": "code",
   "execution_count": 3,
   "id": "dae17d65-6564-4a85-8c73-e5f43eb9537c",
   "metadata": {},
   "outputs": [],
   "source": [
    "var1 = ''"
   ]
  },
  {
   "cell_type": "code",
   "execution_count": 4,
   "id": "3e8a3622-98af-47f2-b29d-35264744d7d2",
   "metadata": {},
   "outputs": [
    {
     "data": {
      "text/plain": [
       "str"
      ]
     },
     "execution_count": 4,
     "metadata": {},
     "output_type": "execute_result"
    }
   ],
   "source": [
    "type(var1)"
   ]
  },
  {
   "cell_type": "code",
   "execution_count": 5,
   "id": "c4702ae2-7c15-4534-8a06-d551ce550142",
   "metadata": {},
   "outputs": [],
   "source": [
    "var2 = '[DS,ML,PYTHON]'"
   ]
  },
  {
   "cell_type": "code",
   "execution_count": 6,
   "id": "ac2841f6-97c9-4b0d-9511-1b028f6d01f5",
   "metadata": {},
   "outputs": [
    {
     "data": {
      "text/plain": [
       "str"
      ]
     },
     "execution_count": 6,
     "metadata": {},
     "output_type": "execute_result"
    }
   ],
   "source": [
    "type(var2)"
   ]
  },
  {
   "cell_type": "code",
   "execution_count": 8,
   "id": "719a3485-82c5-40d5-9bc2-5d94e82459df",
   "metadata": {},
   "outputs": [],
   "source": [
    "var3 = ['DS','ML','PYTHON']"
   ]
  },
  {
   "cell_type": "code",
   "execution_count": 9,
   "id": "44ab1e4d-2ae5-4ac3-8a48-0f8439c870ba",
   "metadata": {},
   "outputs": [
    {
     "data": {
      "text/plain": [
       "list"
      ]
     },
     "execution_count": 9,
     "metadata": {},
     "output_type": "execute_result"
    }
   ],
   "source": [
    "type(var3)"
   ]
  },
  {
   "cell_type": "code",
   "execution_count": 10,
   "id": "61051bb3-04c6-4318-945d-4aac8c3cda52",
   "metadata": {},
   "outputs": [],
   "source": [
    "var4 = 1."
   ]
  },
  {
   "cell_type": "code",
   "execution_count": 11,
   "id": "2c1c9bbf-1ac0-4bb3-bc2f-5da6264a6223",
   "metadata": {},
   "outputs": [
    {
     "data": {
      "text/plain": [
       "float"
      ]
     },
     "execution_count": 11,
     "metadata": {},
     "output_type": "execute_result"
    }
   ],
   "source": [
    "type(var4)"
   ]
  },
  {
   "cell_type": "code",
   "execution_count": 12,
   "id": "fd4e7a51-5175-4baa-8e6d-b729793beb8d",
   "metadata": {},
   "outputs": [
    {
     "data": {
      "text/plain": [
       "2.0"
      ]
     },
     "execution_count": 12,
     "metadata": {},
     "output_type": "execute_result"
    }
   ],
   "source": [
    "4/2"
   ]
  },
  {
   "cell_type": "code",
   "execution_count": 17,
   "id": "1aba963a-e6cc-446d-bc55-066357fd1a2f",
   "metadata": {},
   "outputs": [
    {
     "data": {
      "text/plain": [
       "1"
      ]
     },
     "execution_count": 17,
     "metadata": {},
     "output_type": "execute_result"
    }
   ],
   "source": [
    "1%4"
   ]
  },
  {
   "cell_type": "code",
   "execution_count": 19,
   "id": "27a42854-ac67-4b81-ba2e-102b827ea739",
   "metadata": {},
   "outputs": [
    {
     "data": {
      "text/plain": [
       "2"
      ]
     },
     "execution_count": 19,
     "metadata": {},
     "output_type": "execute_result"
    }
   ],
   "source": [
    "8//4"
   ]
  },
  {
   "cell_type": "code",
   "execution_count": 20,
   "id": "867a22a8-acbf-42d6-9066-edca0a9466e9",
   "metadata": {},
   "outputs": [
    {
     "data": {
      "text/plain": [
       "27"
      ]
     },
     "execution_count": 20,
     "metadata": {},
     "output_type": "execute_result"
    }
   ],
   "source": [
    "3**3"
   ]
  },
  {
   "cell_type": "code",
   "execution_count": 21,
   "id": "58d0b958-1cb7-47e1-a297-4d12f57f98ae",
   "metadata": {},
   "outputs": [
    {
     "name": "stdout",
     "output_type": "stream",
     "text": [
      "2 <class 'int'>\n",
      "3 <class 'int'>\n",
      "4 <class 'int'>\n",
      "5 <class 'int'>\n",
      "6 <class 'int'>\n",
      "7 <class 'int'>\n",
      "shubh <class 'str'>\n",
      "22.34 <class 'float'>\n",
      "(2+3j) <class 'complex'>\n",
      "True <class 'bool'>\n"
     ]
    }
   ],
   "source": [
    "l = [2,3,4,5,6,7,\"shubh\",22.34,2+3j,True]\n",
    "for i in l:\n",
    "    print(i,type(i))\n",
    "     "
   ]
  },
  {
   "cell_type": "code",
   "execution_count": 23,
   "id": "c0771059-6b23-4a47-beb0-35bf8dc5e586",
   "metadata": {},
   "outputs": [
    {
     "name": "stdin",
     "output_type": "stream",
     "text": [
      " 8\n",
      " 4\n"
     ]
    },
    {
     "name": "stdout",
     "output_type": "stream",
     "text": [
      "a is purely divisible by b and a is divisible by b for 2.0 times\n"
     ]
    }
   ],
   "source": [
    "a = int(input())\n",
    "b = int(input())\n",
    "while a%b == 0 :\n",
    "    print(\"a is purely divisible by b\" , \"and a is divisible by b for\" , a/b , \"times\")\n",
    "    break\n",
    "else :\n",
    "    print(\"a is divisible by b\")\n"
   ]
  },
  {
   "cell_type": "code",
   "execution_count": 37,
   "id": "ad59e21e-241a-43bd-b4db-12462edc42a6",
   "metadata": {},
   "outputs": [
    {
     "name": "stdout",
     "output_type": "stream",
     "text": [
      "1 is not divisible by 3\n",
      "2 is not divisible by 3\n",
      "3 is is divisible by 3\n",
      "4 is not divisible by 3\n",
      "5 is not divisible by 3\n",
      "6 is is divisible by 3\n",
      "7 is not divisible by 3\n",
      "8 is not divisible by 3\n",
      "9 is is divisible by 3\n",
      "10 is not divisible by 3\n",
      "11 is not divisible by 3\n",
      "12 is is divisible by 3\n",
      "13 is not divisible by 3\n",
      "14 is not divisible by 3\n",
      "15 is is divisible by 3\n",
      "16 is not divisible by 3\n",
      "17 is not divisible by 3\n",
      "18 is is divisible by 3\n",
      "19 is not divisible by 3\n",
      "20 is not divisible by 3\n",
      "21 is is divisible by 3\n",
      "22 is not divisible by 3\n",
      "23 is not divisible by 3\n",
      "24 is is divisible by 3\n",
      "25 is not divisible by 3\n"
     ]
    }
   ],
   "source": [
    "a = [1,2,3,4,5,6,7,8,9,10,11,12,13,14,15,16,17,18,19,20,21,22,23,24,25]\n",
    "for i in a :\n",
    "    if i%3 == 0 :\n",
    "        print(i, \"is is divisible by 3\")\n",
    "    else :\n",
    "        print(i, \"is not divisible by 3\")"
   ]
  },
  {
   "cell_type": "code",
   "execution_count": 38,
   "id": "37be9157-d69e-4510-b478-ce671cc370f4",
   "metadata": {},
   "outputs": [],
   "source": [
    "#Mutable data: a data which cannot be editted at a particular index for eg- list is mutable"
   ]
  },
  {
   "cell_type": "code",
   "execution_count": 39,
   "id": "cecaee65-9660-4f0e-a669-c2211a011bb6",
   "metadata": {},
   "outputs": [],
   "source": [
    "l = [2,3,4,5,6,\"shubh\",44.444,True]"
   ]
  },
  {
   "cell_type": "code",
   "execution_count": 40,
   "id": "0eee776b-b4d5-4b48-9330-7c7487cfc2eb",
   "metadata": {},
   "outputs": [
    {
     "data": {
      "text/plain": [
       "4"
      ]
     },
     "execution_count": 40,
     "metadata": {},
     "output_type": "execute_result"
    }
   ],
   "source": [
    "l[2]"
   ]
  },
  {
   "cell_type": "code",
   "execution_count": 41,
   "id": "f08a17f3-2b93-4cb5-ba98-6252804b84a6",
   "metadata": {},
   "outputs": [],
   "source": [
    "l[2] = 300"
   ]
  },
  {
   "cell_type": "code",
   "execution_count": 42,
   "id": "bb4ca8d2-f45b-46d6-a376-7c940d30c9bc",
   "metadata": {},
   "outputs": [
    {
     "data": {
      "text/plain": [
       "[2, 3, 300, 5, 6, 'shubh', 44.444, True]"
      ]
     },
     "execution_count": 42,
     "metadata": {},
     "output_type": "execute_result"
    }
   ],
   "source": [
    "l"
   ]
  },
  {
   "cell_type": "code",
   "execution_count": 43,
   "id": "7be184c4-7c45-4863-b81a-5c2c8e61d987",
   "metadata": {},
   "outputs": [],
   "source": [
    "#Immutable data : A data which cannot be editted at a particular index for eg - string"
   ]
  },
  {
   "cell_type": "code",
   "execution_count": 44,
   "id": "df6b734c-e5ee-4659-8b3d-f41d89269111",
   "metadata": {},
   "outputs": [],
   "source": [
    "c = \"my name is shubham\""
   ]
  },
  {
   "cell_type": "code",
   "execution_count": 46,
   "id": "9d491475-418b-4cc0-b81c-2089d71094a5",
   "metadata": {},
   "outputs": [
    {
     "data": {
      "text/plain": [
       "'n'"
      ]
     },
     "execution_count": 46,
     "metadata": {},
     "output_type": "execute_result"
    }
   ],
   "source": [
    "c[3]"
   ]
  },
  {
   "cell_type": "code",
   "execution_count": 47,
   "id": "d7b376c1-baa8-4278-a4a5-265155a76735",
   "metadata": {},
   "outputs": [
    {
     "ename": "NameError",
     "evalue": "name 'k' is not defined",
     "output_type": "error",
     "traceback": [
      "\u001b[0;31m---------------------------------------------------------------------------\u001b[0m",
      "\u001b[0;31mNameError\u001b[0m                                 Traceback (most recent call last)",
      "Cell \u001b[0;32mIn[47], line 1\u001b[0m\n\u001b[0;32m----> 1\u001b[0m c[\u001b[38;5;241m3\u001b[39m] \u001b[38;5;241m=\u001b[39m \u001b[43mk\u001b[49m\n",
      "\u001b[0;31mNameError\u001b[0m: name 'k' is not defined"
     ]
    }
   ],
   "source": [
    "c[3] = k"
   ]
  },
  {
   "cell_type": "code",
   "execution_count": null,
   "id": "6cc5336b-b730-454e-86df-61f6d1ac1ea2",
   "metadata": {},
   "outputs": [],
   "source": []
  }
 ],
 "metadata": {
  "kernelspec": {
   "display_name": "Python 3 (ipykernel)",
   "language": "python",
   "name": "python3"
  },
  "language_info": {
   "codemirror_mode": {
    "name": "ipython",
    "version": 3
   },
   "file_extension": ".py",
   "mimetype": "text/x-python",
   "name": "python",
   "nbconvert_exporter": "python",
   "pygments_lexer": "ipython3",
   "version": "3.10.8"
  }
 },
 "nbformat": 4,
 "nbformat_minor": 5
}
