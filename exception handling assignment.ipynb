{
 "cells": [
  {
   "cell_type": "code",
   "execution_count": 1,
   "id": "c6d14442-343b-4057-8828-f60b19202548",
   "metadata": {},
   "outputs": [],
   "source": [
    "#Q1. What is an Exception in Python? Write the difference between Exceptions and Syntax errors."
   ]
  },
  {
   "cell_type": "code",
   "execution_count": 2,
   "id": "df7f59bf-534d-4173-9481-5fa65332340f",
   "metadata": {},
   "outputs": [],
   "source": [
    "#answer1- An Exception is an error that happens during the execution of a program. Whenever there is an error, Python generates an exception that could be handled. It basically prevents the program from getting crashed.\n",
    "# the difference between exception and syntax errors are - Exceptions occur during program execution, while syntax errors occur during the parsing phase before execution. Exceptions are caused by runtime factors, such as invalid inputs or file not found, while syntax errors result from violating Python's syntax rules. Exceptions can be caught and handled using try-except blocks, allowing the program to recover. Syntax errors cannot be caught and need to be fixed before execution. Exceptions provide detailed error messages with tracebacks, while syntax errors offer brief error messages indicating the location and type of the error."
   ]
  },
  {
   "cell_type": "code",
   "execution_count": 3,
   "id": "9323b533-f1bc-447b-8d10-c37f23934091",
   "metadata": {},
   "outputs": [],
   "source": [
    "#Q2. What happens when an exception is not handled? Explain with an example."
   ]
  },
  {
   "cell_type": "code",
   "execution_count": 4,
   "id": "9a08f891-dc2b-430b-9bdd-a69a49a6db01",
   "metadata": {},
   "outputs": [
    {
     "ename": "ZeroDivisionError",
     "evalue": "division by zero",
     "output_type": "error",
     "traceback": [
      "\u001b[0;31m---------------------------------------------------------------------------\u001b[0m",
      "\u001b[0;31mZeroDivisionError\u001b[0m                         Traceback (most recent call last)",
      "Cell \u001b[0;32mIn[4], line 7\u001b[0m\n\u001b[1;32m      5\u001b[0m     answer \u001b[38;5;241m=\u001b[39m a\u001b[38;5;241m/\u001b[39mb\n\u001b[1;32m      6\u001b[0m     \u001b[38;5;28;01mreturn\u001b[39;00m answer\n\u001b[0;32m----> 7\u001b[0m answer \u001b[38;5;241m=\u001b[39m divide(\u001b[38;5;241;43m20\u001b[39;49m\u001b[38;5;241;43m/\u001b[39;49m\u001b[38;5;241;43m0\u001b[39;49m)\n\u001b[1;32m      8\u001b[0m \u001b[38;5;28mprint\u001b[39m(answer)\n",
      "\u001b[0;31mZeroDivisionError\u001b[0m: division by zero"
     ]
    }
   ],
   "source": [
    "#answer2- When an exception is not handled, it leads to an unhandled exception error, and the program execution is halted abruptly. This means that the program terminates and does not continue with the remaining instructions.\n",
    "#for eexample-\n",
    "\n",
    "def divide(a,b) :\n",
    "    answer = a/b\n",
    "    return answer\n",
    "answer = divide(20/0)\n",
    "print(answer)"
   ]
  },
  {
   "cell_type": "code",
   "execution_count": 5,
   "id": "1de450f8-6a87-4408-ac04-e0825dbd182a",
   "metadata": {},
   "outputs": [],
   "source": [
    "#Q3. Which Python statements are used to catch and handle exception? Explain with an example."
   ]
  },
  {
   "cell_type": "code",
   "execution_count": 10,
   "id": "8662a9a4-a6e3-4993-b4f7-e96be1ac568a",
   "metadata": {},
   "outputs": [
    {
     "name": "stdout",
     "output_type": "stream",
     "text": [
      "it is an zero divison error\n",
      "operation successfuuly done\n",
      "the answer is: 10.0\n",
      "operation successfuuly done\n"
     ]
    }
   ],
   "source": [
    "#answer3- The statements used to raise and handle exceptions are - try, except, else, finally, and raise.\n",
    "#for example - def divide1(a, b):\n",
    "\n",
    "def divide1(a,b):\n",
    "    try:\n",
    "        answer = a / b\n",
    "    except ZeroDivisionError:\n",
    "        print(\"it is an zero divison error\")\n",
    "    else:\n",
    "        print(\"the answer is:\",answer)\n",
    "    finally:\n",
    "        print(\"operation successfuuly done\")\n",
    "\n",
    "divide1(50 , 0)\n",
    "divide1(50 , 5)"
   ]
  },
  {
   "cell_type": "code",
   "execution_count": 11,
   "id": "ad427b3d-7ede-4dd4-a242-7f6a475f3900",
   "metadata": {},
   "outputs": [],
   "source": [
    "#Q4. Explain with an example.Try and Else,finally,raise"
   ]
  },
  {
   "cell_type": "code",
   "execution_count": 2,
   "id": "50fb7bfc-ec49-4227-90b9-5edb2bad47ac",
   "metadata": {},
   "outputs": [
    {
     "name": "stdout",
     "output_type": "stream",
     "text": [
      "Error its not divisible by this number\n",
      "thats your answer\n",
      "yes its divisible by this number: 5.0\n",
      "thats your answer\n"
     ]
    }
   ],
   "source": [
    "def divide(x,y):\n",
    "    try:\n",
    "        result = x/y\n",
    "        \n",
    "    except ZeroDivisionError:\n",
    "        print(\"Error its not divisible by this number\")\n",
    "    else :\n",
    "        print(\"yes its divisible by this number:\",result)\n",
    "    finally :\n",
    "        print(\"thats your answer\")\n",
    "        \n",
    "divide(25 , 0)\n",
    "divide(25 , 5)"
   ]
  },
  {
   "cell_type": "code",
   "execution_count": 3,
   "id": "38d4b819-0322-453d-939d-8094372a4ac9",
   "metadata": {},
   "outputs": [
    {
     "ename": "Exception",
     "evalue": "it can not be possible",
     "output_type": "error",
     "traceback": [
      "\u001b[0;31m---------------------------------------------------------------------------\u001b[0m",
      "\u001b[0;31mException\u001b[0m                                 Traceback (most recent call last)",
      "Cell \u001b[0;32mIn[3], line 5\u001b[0m\n\u001b[1;32m      3\u001b[0m a \u001b[38;5;241m=\u001b[39m \u001b[38;5;241m5\u001b[39m \n\u001b[1;32m      4\u001b[0m \u001b[38;5;28;01mif\u001b[39;00m a \u001b[38;5;241m%\u001b[39m \u001b[38;5;241m2\u001b[39m \u001b[38;5;241m!=\u001b[39m \u001b[38;5;241m0\u001b[39m :\n\u001b[0;32m----> 5\u001b[0m     \u001b[38;5;28;01mraise\u001b[39;00m \u001b[38;5;167;01mException\u001b[39;00m(\u001b[38;5;124m\"\u001b[39m\u001b[38;5;124mit can not be possible\u001b[39m\u001b[38;5;124m\"\u001b[39m)\n",
      "\u001b[0;31mException\u001b[0m: it can not be possible"
     ]
    }
   ],
   "source": [
    "#raise example\n",
    "\n",
    "a = 5 \n",
    "if a % 2 != 0 :\n",
    "    raise Exception(\"it can not be possible\")\n",
    "    "
   ]
  },
  {
   "cell_type": "code",
   "execution_count": 4,
   "id": "c6d79c8a-0447-4a76-8e7e-0a74773596ae",
   "metadata": {},
   "outputs": [],
   "source": [
    "#Q5. What are customs exceptions in Python? Why do we need custom exceptions? explain with an example\n"
   ]
  },
  {
   "cell_type": "code",
   "execution_count": 7,
   "id": "0796f4fc-360d-40e3-9ab2-88703bc6d085",
   "metadata": {},
   "outputs": [],
   "source": [
    "#answer5- In Python, we can define custom exceptions by creating a new class that is derived from the built-in Exception class. Custom exceptions allow programmers to create their own specific exception types to represent and handle exceptional situations that are not covered by built-in exceptions."
   ]
  },
  {
   "cell_type": "code",
   "execution_count": 22,
   "id": "b50eb388-6e8d-4953-bb3f-6a07c38327f8",
   "metadata": {},
   "outputs": [
    {
     "name": "stdout",
     "output_type": "stream",
     "text": [
      "Withdrawal Error: Insufficient funds.\n",
      "Withdrawal Error: Withdrawal amount cannot be negative.\n"
     ]
    }
   ],
   "source": [
    "#for example\n",
    "class WithdrawalError(Exception):\n",
    "    pass\n",
    "\n",
    "class InsufficientFundsError(WithdrawalError):\n",
    "    pass\n",
    "\n",
    "class NegativeAmountError(WithdrawalError):\n",
    "    pass\n",
    "\n",
    "class BankAccount:\n",
    "    def __init__(self, balance):\n",
    "        self.balance = balance\n",
    "\n",
    "    def withdraw(self, amount):\n",
    "        if amount < 0:\n",
    "            raise NegativeAmountError(\"Withdrawal amount cannot be negative.\")\n",
    "        if amount > self.balance:\n",
    "            raise InsufficientFundsError(\"Insufficient funds.\")\n",
    "        self.balance -= amount\n",
    "        return self.balance\n",
    "\n",
    "account = BankAccount(2000)\n",
    "\n",
    "try:\n",
    "    account.withdraw(2500)\n",
    "except WithdrawalError as e:\n",
    "    print(\"Withdrawal Error:\", str(e))\n",
    "\n",
    "try:\n",
    "    account.withdraw(-1000)\n",
    "except WithdrawalError as e:\n",
    "    print(\"Withdrawal Error:\", str(e))"
   ]
  },
  {
   "cell_type": "code",
   "execution_count": 23,
   "id": "6c5696c3-875c-45b8-ad4e-5556484f797b",
   "metadata": {},
   "outputs": [],
   "source": [
    "#Q6. Create a custom exception class. Use this class to handle exception."
   ]
  },
  {
   "cell_type": "code",
   "execution_count": 24,
   "id": "cc13f829-97e1-4ffc-97a4-ed9892f0517b",
   "metadata": {},
   "outputs": [
    {
     "name": "stdout",
     "output_type": "stream",
     "text": [
      "Processing string: Hi!\n"
     ]
    }
   ],
   "source": [
    "#answer6- \n",
    "\n",
    "class EmptyStringError(Exception):\n",
    "    pass\n",
    "\n",
    "def process_string(input_string):\n",
    "    if not input_string:\n",
    "        raise EmptyStringError(\"Input string cannot be empty.\")\n",
    "    else:\n",
    "        print(\"Processing string:\", input_string)\n",
    "try:\n",
    "    process_string(\"Hi!\")\n",
    "except EmptyStringError as e:\n",
    "    print(e)"
   ]
  },
  {
   "cell_type": "code",
   "execution_count": null,
   "id": "d391939c-747e-4304-a6ab-f29ee382a829",
   "metadata": {},
   "outputs": [],
   "source": []
  }
 ],
 "metadata": {
  "kernelspec": {
   "display_name": "Python 3 (ipykernel)",
   "language": "python",
   "name": "python3"
  },
  "language_info": {
   "codemirror_mode": {
    "name": "ipython",
    "version": 3
   },
   "file_extension": ".py",
   "mimetype": "text/x-python",
   "name": "python",
   "nbconvert_exporter": "python",
   "pygments_lexer": "ipython3",
   "version": "3.10.8"
  }
 },
 "nbformat": 4,
 "nbformat_minor": 5
}
