{
 "cells": [
  {
   "cell_type": "code",
   "execution_count": 1,
   "id": "f695e3a7-ab95-44bb-b1fd-ce9482edb495",
   "metadata": {},
   "outputs": [],
   "source": [
    "#Q1-What is Abstraction in OOps? Explain with an example."
   ]
  },
  {
   "cell_type": "code",
   "execution_count": 20,
   "id": "a4788967-9b90-4207-8aa1-252b31df83d7",
   "metadata": {},
   "outputs": [],
   "source": [
    "#answer1- Abstraction is the process of hiding the internal details of an application from the outer world. Abstraction is used to describe things in simple terms. It's used to create a boundary between the application and the client programs.\n",
    "\n",
    "\n",
    "import abc\n",
    "\n",
    "class car_baazar :\n",
    "    \n",
    "    @abc.abstractmethod\n",
    "    def car_model(self) :\n",
    "        pass\n",
    "    \n",
    "    @abc.abstractmethod\n",
    "    def car_name(self) :\n",
    "        pass\n",
    "    \n",
    "    @abc.abstractmethod\n",
    "    def car_year(self) :\n",
    "        pass"
   ]
  },
  {
   "cell_type": "code",
   "execution_count": 21,
   "id": "e428f9b5-b82c-44fb-933a-2e50effde6d9",
   "metadata": {},
   "outputs": [],
   "source": [
    "class car_model (car_baazar) :\n",
    "    \n",
    "    def car_model(self) :\n",
    "        return \"this is toyota model\"\n",
    "    \n",
    "    def car_name(self) :\n",
    "        return \"this is fortuner\"\n",
    "    \n",
    "    def car_year(self) :\n",
    "        return \"year is 2021\"\n",
    "    "
   ]
  },
  {
   "cell_type": "code",
   "execution_count": 28,
   "id": "5420ca0f-8649-4994-acfc-5a9450df8702",
   "metadata": {},
   "outputs": [],
   "source": [
    "cb = car_model()"
   ]
  },
  {
   "cell_type": "code",
   "execution_count": 29,
   "id": "343fa9aa-2dce-4f7c-91a6-d4f3dd2c9226",
   "metadata": {},
   "outputs": [
    {
     "data": {
      "text/plain": [
       "'this is toyota model'"
      ]
     },
     "execution_count": 29,
     "metadata": {},
     "output_type": "execute_result"
    }
   ],
   "source": [
    "cb.car_model()"
   ]
  },
  {
   "cell_type": "code",
   "execution_count": 31,
   "id": "dc0cf5f4-85e7-4cb5-9ce3-7be658af168c",
   "metadata": {},
   "outputs": [
    {
     "data": {
      "text/plain": [
       "'this is fortuner'"
      ]
     },
     "execution_count": 31,
     "metadata": {},
     "output_type": "execute_result"
    }
   ],
   "source": [
    "cb.car_name()"
   ]
  },
  {
   "cell_type": "code",
   "execution_count": 32,
   "id": "96103df2-5b40-455d-bea4-2bd541949f99",
   "metadata": {},
   "outputs": [
    {
     "data": {
      "text/plain": [
       "'year is 2021'"
      ]
     },
     "execution_count": 32,
     "metadata": {},
     "output_type": "execute_result"
    }
   ],
   "source": [
    "cb.car_year()"
   ]
  },
  {
   "cell_type": "code",
   "execution_count": 33,
   "id": "4be2d590-06f1-4cb5-8f89-30ce0e224ddd",
   "metadata": {},
   "outputs": [],
   "source": [
    "#Q2. Differentiate between Abstraction and Encapsulation. Explain with an example."
   ]
  },
  {
   "cell_type": "code",
   "execution_count": 34,
   "id": "18b59e11-ec23-4e34-9972-2f27bf4351e7",
   "metadata": {},
   "outputs": [],
   "source": [
    "#Answer2- The most significant difference between the two is that data abstraction is a method which helps to hide the unwanted data from the user, while data encapsulation is a method which helps to hide data using a single entity.Abstraction hides complexity by giving you a more abstract picture, while Encapsulation hides internal work so that you can change it later. while Encapsulation hides internal work so that you can change it later.\n",
    "# the example of abstraction and encapsulation is the interaction between a user and a mobile phone as an example of encapsulationis that The user does not need to understand the internal workings of the phone in order to utilise it, which is referred to as abstraction."
   ]
  },
  {
   "cell_type": "code",
   "execution_count": 35,
   "id": "74596b8e-5fdf-4750-8c59-570ac576ef7f",
   "metadata": {},
   "outputs": [],
   "source": [
    "#Q3- What is abc module in python? Why is it used?"
   ]
  },
  {
   "cell_type": "code",
   "execution_count": 36,
   "id": "75ced063-ecec-4571-867b-679d70560d9a",
   "metadata": {},
   "outputs": [],
   "source": [
    "#Answer3- Abc module provides the infrastructure for defining abstract base classes (ABCs) in Python. An abstract base class(abc)is a class that is used as a blueprint for other classes. Abstract base classes are a powerful feature in Python since they help you define a blueprint for other classes that may have something in common."
   ]
  },
  {
   "cell_type": "code",
   "execution_count": 37,
   "id": "e372f820-d543-4893-ac91-dad49535c244",
   "metadata": {},
   "outputs": [],
   "source": [
    "#Q4- How can we achieve data abstraction?"
   ]
  },
  {
   "cell_type": "code",
   "execution_count": 38,
   "id": "144a8884-7c93-4ee8-b044-579e1b6b6763",
   "metadata": {},
   "outputs": [],
   "source": [
    "#Answer4- We can achieve data abstraction through Abstract classes and interfaces. Through abstract classes, you can achieve partial or complete abstraction as abstract classes contain methods that have an implementation which can result in partial abstraction."
   ]
  },
  {
   "cell_type": "code",
   "execution_count": null,
   "id": "d70372e7-9517-424b-8ffc-91ed9cf085c8",
   "metadata": {},
   "outputs": [],
   "source": []
  },
  {
   "cell_type": "code",
   "execution_count": 39,
   "id": "10e4a639-c976-461c-8a20-b2751482e041",
   "metadata": {},
   "outputs": [],
   "source": [
    "#Answer5- Abstract classes are not complete, as they may have some methods that are not defined. So we cannot create an instance or object of an abstract class in Python.Abstract classes cannot be instantiated, but they can be subclassed. When an abstract class is subclassed, the subclass usually provides implementations for all of the abstract methods in its parent class. However, if it does not, then the subclass must also be declared abstract"
   ]
  },
  {
   "cell_type": "code",
   "execution_count": null,
   "id": "53026b62-97f6-4242-a591-8e55cb1081c3",
   "metadata": {},
   "outputs": [],
   "source": []
  }
 ],
 "metadata": {
  "kernelspec": {
   "display_name": "Python 3 (ipykernel)",
   "language": "python",
   "name": "python3"
  },
  "language_info": {
   "codemirror_mode": {
    "name": "ipython",
    "version": 3
   },
   "file_extension": ".py",
   "mimetype": "text/x-python",
   "name": "python",
   "nbconvert_exporter": "python",
   "pygments_lexer": "ipython3",
   "version": "3.10.8"
  }
 },
 "nbformat": 4,
 "nbformat_minor": 5
}
