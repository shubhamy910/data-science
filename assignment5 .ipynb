{
 "cells": [
  {
   "cell_type": "code",
   "execution_count": 1,
   "id": "c0f58b64-8a1a-482f-800b-0e58b5ea2371",
   "metadata": {},
   "outputs": [],
   "source": [
    "#Q1-Create a vehicle class with an init method having instance variables as name_of_vehicle, max_speed and average_of_vehicle. "
   ]
  },
  {
   "cell_type": "code",
   "execution_count": 125,
   "id": "17a76b11-e403-4c40-a4d4-8eea41637a65",
   "metadata": {},
   "outputs": [],
   "source": [
    "class vehicle :\n",
    "    \n",
    "    def __init__(self, name_of_vehicle , max_speed , average_of_vehicle ):\n",
    "        self.name_of_vehicle = name_of_vehicle\n",
    "        self.max_speed = max_speed\n",
    "        self.average_of_vehicle = average_of_vehicle\n",
    "        "
   ]
  },
  {
   "cell_type": "code",
   "execution_count": 126,
   "id": "52a4de80-1ef7-42df-acde-22ba177d1b8b",
   "metadata": {},
   "outputs": [],
   "source": [
    "#Q2- Create a child class car from the vehicle class created in Que 1, which will inherit the vehicle class. Create a method named seating_capacity which takes capacity as an argument and returns the name of the vehicle and its seating capacity."
   ]
  },
  {
   "cell_type": "code",
   "execution_count": 127,
   "id": "df5653ba-bca6-4530-a648-c2241880d0b1",
   "metadata": {},
   "outputs": [],
   "source": [
    "class vehicle :\n",
    "    \n",
    "    def __init__(self, name_of_vehicle , max_speed , average_of_vehicle ):\n",
    "        self.name_of_vehicle = name_of_vehicle\n",
    "        self.max_speed = max_speed\n",
    "        self.average_of_vehicle = average_of_vehicle\n",
    "        \n",
    "class child_class(vehicle) :\n",
    "    \n",
    "    def seating_capacity(self,capacity):\n",
    "        return f\"Name of the vehicle: {self.name_of_vehicle}, Seating capacity: {capacity}\""
   ]
  },
  {
   "cell_type": "code",
   "execution_count": 128,
   "id": "8de9be83-42d9-4cd2-8a96-c01fa2aefe73",
   "metadata": {},
   "outputs": [],
   "source": [
    "car = child_class(\"maruti\" , 270 , 25)"
   ]
  },
  {
   "cell_type": "code",
   "execution_count": 129,
   "id": "51a42beb-17b9-4300-8b4b-021174ac7e2e",
   "metadata": {},
   "outputs": [
    {
     "name": "stdout",
     "output_type": "stream",
     "text": [
      "Name of the vehicle: maruti, Seating capacity: 5\n"
     ]
    }
   ],
   "source": [
    "print(car.seating_capacity(5))"
   ]
  },
  {
   "cell_type": "code",
   "execution_count": null,
   "id": "0e4c3823-3fd4-4e9e-8b79-23aed5ff074b",
   "metadata": {},
   "outputs": [],
   "source": []
  },
  {
   "cell_type": "code",
   "execution_count": null,
   "id": "f6712ddd-e368-4b77-969c-014a725b239b",
   "metadata": {},
   "outputs": [],
   "source": [
    "#Q3 - What is multiple inheritance? Write a python code to demonstrate multiple inheritance"
   ]
  },
  {
   "cell_type": "code",
   "execution_count": 53,
   "id": "41d1c0f5-69ec-44f0-a048-4ff605764f57",
   "metadata": {},
   "outputs": [],
   "source": [
    "#answer_3 - If a child class is inheriting the properties of a single other class, we call it single inheritance. However, if a child class inherits from more than one class, i.e. this child class is derived from multiple classes, we call it multiple inheritance in Python."
   ]
  },
  {
   "cell_type": "code",
   "execution_count": 56,
   "id": "708b3e3c-e4a6-4fb5-bcd4-e8724cbc8990",
   "metadata": {},
   "outputs": [],
   "source": [
    "class class1 :\n",
    "     def test_class1(self) :\n",
    "            return \"this is my class 1\"\n",
    "        "
   ]
  },
  {
   "cell_type": "code",
   "execution_count": 57,
   "id": "9e5c3fa5-98dc-4a5a-a6cb-a4a2f45ac3aa",
   "metadata": {},
   "outputs": [],
   "source": [
    "class class2 :\n",
    "    def test_class2(self) :\n",
    "        return \"this is my class 2\"\n",
    "    "
   ]
  },
  {
   "cell_type": "code",
   "execution_count": 58,
   "id": "b1ac9f07-65b4-44a6-b3ab-8a596218d77a",
   "metadata": {},
   "outputs": [],
   "source": [
    "class class3 :\n",
    "    def test_class3(self) :\n",
    "        return \"this is my class 3\""
   ]
  },
  {
   "cell_type": "code",
   "execution_count": 59,
   "id": "1d829762-0af3-4f7f-bbbf-9b35104a5705",
   "metadata": {},
   "outputs": [],
   "source": [
    "class class4(class1,class2,class3) :\n",
    "    pass"
   ]
  },
  {
   "cell_type": "code",
   "execution_count": 63,
   "id": "d7bb25a7-d47f-408e-806f-b01f4c7c9eb2",
   "metadata": {},
   "outputs": [],
   "source": [
    "obj_class4 = class4()"
   ]
  },
  {
   "cell_type": "code",
   "execution_count": 64,
   "id": "7044ba22-c72c-4665-ac75-e6a0fc60b883",
   "metadata": {},
   "outputs": [
    {
     "data": {
      "text/plain": [
       "'this is me'"
      ]
     },
     "execution_count": 64,
     "metadata": {},
     "output_type": "execute_result"
    }
   ],
   "source": [
    "obj_class4.test_class1()"
   ]
  },
  {
   "cell_type": "code",
   "execution_count": 66,
   "id": "4331c977-53f1-42af-a823-9f5814a98628",
   "metadata": {},
   "outputs": [
    {
     "data": {
      "text/plain": [
       "'this is my class 2'"
      ]
     },
     "execution_count": 66,
     "metadata": {},
     "output_type": "execute_result"
    }
   ],
   "source": [
    "obj_class4.test_class2()"
   ]
  },
  {
   "cell_type": "code",
   "execution_count": 67,
   "id": "9850b51c-f189-442b-a42f-5539c4e4b7f9",
   "metadata": {},
   "outputs": [
    {
     "data": {
      "text/plain": [
       "'this is my class 3'"
      ]
     },
     "execution_count": 67,
     "metadata": {},
     "output_type": "execute_result"
    }
   ],
   "source": [
    "obj_class4.test_class3()"
   ]
  },
  {
   "cell_type": "code",
   "execution_count": null,
   "id": "b0db9dda-35b9-4fe1-a219-1082460e3bd9",
   "metadata": {},
   "outputs": [],
   "source": [
    "#Q4. What are getter and setter in python? Create a class and create a getter and a setter method in this class"
   ]
  },
  {
   "cell_type": "code",
   "execution_count": 68,
   "id": "087195b6-e42d-4fd3-84e3-e455b8372c39",
   "metadata": {},
   "outputs": [],
   "source": [
    "#answer_4 - Getter: A method that allows you to access an attribute in a given class. Setter: A method that allows you to set or mutate the value of an attribute in a class."
   ]
  },
  {
   "cell_type": "code",
   "execution_count": 69,
   "id": "454ab876-62d2-411f-879b-3c0365a69466",
   "metadata": {},
   "outputs": [],
   "source": [
    "class my_age:   \n",
    "    def __init__(self, age = 0):   \n",
    "         self._age = age   \n",
    "      \n",
    "    def get_age(self):   \n",
    "        return self._age   \n",
    "    \n",
    "    def set_age(self, a):   \n",
    "        self._age = a"
   ]
  },
  {
   "cell_type": "code",
   "execution_count": 71,
   "id": "e26b54a9-8555-43d5-943c-8a6e447d6516",
   "metadata": {},
   "outputs": [],
   "source": [
    "shubh = my_age()"
   ]
  },
  {
   "cell_type": "code",
   "execution_count": 73,
   "id": "79960626-48ba-460b-a83f-3fb59763e06d",
   "metadata": {},
   "outputs": [],
   "source": [
    "shubh.set_age(20)   "
   ]
  },
  {
   "cell_type": "code",
   "execution_count": 74,
   "id": "b5c27af2-ae8d-4c1b-a256-c6f8964f6870",
   "metadata": {},
   "outputs": [
    {
     "data": {
      "text/plain": [
       "20"
      ]
     },
     "execution_count": 74,
     "metadata": {},
     "output_type": "execute_result"
    }
   ],
   "source": [
    "shubh.get_age()"
   ]
  },
  {
   "cell_type": "code",
   "execution_count": null,
   "id": "f3e4b878-98f4-4ec9-9d59-3cf17516372a",
   "metadata": {},
   "outputs": [],
   "source": []
  },
  {
   "cell_type": "code",
   "execution_count": null,
   "id": "b43fcdb7-1db4-46c5-9ebc-6b144d0d433e",
   "metadata": {},
   "outputs": [],
   "source": [
    "#Q5-What is method overriding in python? Write a python code to demonstrate method overriding."
   ]
  },
  {
   "cell_type": "code",
   "execution_count": 75,
   "id": "f4f747f1-80e4-43bf-89ab-465e40bc45aa",
   "metadata": {},
   "outputs": [],
   "source": [
    "#answer5- Method overriding is a feature of object-oriented programming languages where the subclass or child class can provide the program with specific characteristics or a specific implementation process of data provided that are already defined in the parent class or superclass"
   ]
  },
  {
   "cell_type": "code",
   "execution_count": 114,
   "id": "595046b2-2d83-4040-a357-18c768d47c02",
   "metadata": {},
   "outputs": [],
   "source": [
    "class parent:\n",
    "    def parent_class(self):\n",
    "        print(\"this is my parent class\")\n",
    "\n",
    "class child_class(parent):\n",
    "    def parent_class(self):\n",
    "        print(\"this is my child class\")"
   ]
  },
  {
   "cell_type": "code",
   "execution_count": 115,
   "id": "5d71e9e4-fc42-49a0-9f60-96baed785c72",
   "metadata": {},
   "outputs": [],
   "source": [
    "obj = child_class()"
   ]
  },
  {
   "cell_type": "code",
   "execution_count": 116,
   "id": "97e8af7e-20ad-4ad6-8511-067994620319",
   "metadata": {},
   "outputs": [
    {
     "name": "stdout",
     "output_type": "stream",
     "text": [
      "this is my child class\n"
     ]
    }
   ],
   "source": [
    "obj.parent_class()"
   ]
  },
  {
   "cell_type": "code",
   "execution_count": null,
   "id": "3ed3e2cd-78f6-4987-bf17-7b6444ba9eab",
   "metadata": {},
   "outputs": [],
   "source": []
  }
 ],
 "metadata": {
  "kernelspec": {
   "display_name": "Python 3 (ipykernel)",
   "language": "python",
   "name": "python3"
  },
  "language_info": {
   "codemirror_mode": {
    "name": "ipython",
    "version": 3
   },
   "file_extension": ".py",
   "mimetype": "text/x-python",
   "name": "python",
   "nbconvert_exporter": "python",
   "pygments_lexer": "ipython3",
   "version": "3.10.8"
  }
 },
 "nbformat": 4,
 "nbformat_minor": 5
}
