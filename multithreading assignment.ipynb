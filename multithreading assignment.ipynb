{
 "cells": [
  {
   "cell_type": "code",
   "execution_count": 2,
   "id": "2ac4fca6-a642-459b-bc98-52727f72a38c",
   "metadata": {},
   "outputs": [],
   "source": [
    "#Q1-What is multithreading in python? Why is it used? Name the module used to handle threads in python."
   ]
  },
  {
   "cell_type": "code",
   "execution_count": 3,
   "id": "c4b31feb-a706-4d43-855b-96f2faf71a68",
   "metadata": {},
   "outputs": [],
   "source": [
    "#answer1- Multithreading in Python refers to the concurrent execution of multiple threads within a single program.\n",
    "#Multithreading is used in Python to achieve concurrency, where multiple threads can execute simultaneously, improving the overall performance and responsiveness of the program. It is particularly useful in scenarios where there are tasks that can be executed independently, such as performing I/O operations or executing time-consuming computations.\n",
    "#The threading module is used to handle threads in Python."
   ]
  },
  {
   "cell_type": "code",
   "execution_count": 4,
   "id": "8410a41f-c4e0-497c-a3ed-f7c3a8440368",
   "metadata": {},
   "outputs": [],
   "source": [
    "#Q2- Why threading module used? Write the use of the following functions-1- activeCount() , 2-currentThread() , 3-enumerate()"
   ]
  },
  {
   "cell_type": "code",
   "execution_count": 5,
   "id": "0a95a29f-1ded-49ca-86e9-9b9ec162fe86",
   "metadata": {},
   "outputs": [],
   "source": [
    "#answer2- The threading module in Python is used to handle threads and concurrent programming. It provides a high-level interface for creating, managing, and synchronizing threads within a Python program.\n",
    "# The use of following functions are -\n",
    "#1. activeCount(): This function is used to get the number of Thread objects currently alive. It returns the number of Thread objects that have been created and have not yet been terminated. It can be useful to monitor the number of active threads in a program or to check if any threads are still running.\n",
    "#2. currentThread(): This function returns the current Thread object, representing the thread from which it is called. It allows us to obtain a reference to the currently executing thread. This can be helpful in scenarios where we need to perform operations specific to the current thread, such as obtaining its name, identifying the thread's ID, or setting thread-local data.\n",
    "#3. enumerate(): The enumerate() function returns a list of all currently active Thread objects. It provides a way to obtain references to all the running threads in a Python program. The list includes the current thread, as well as any other active threads that have been created. This function can be useful for monitoring or managing the state of multiple threads in a program, such as checking their names, IDs, or other attributes."
   ]
  },
  {
   "cell_type": "code",
   "execution_count": 6,
   "id": "f01d3518-bd7e-4704-877a-7aee14706561",
   "metadata": {},
   "outputs": [],
   "source": [
    "#Q3. Explain the following functions;- 1- run() ,2- start() ,3- join() ,4- isAlive()"
   ]
  },
  {
   "cell_type": "code",
   "execution_count": 7,
   "id": "8b61fa12-55b7-4825-8e3a-89b59cfff384",
   "metadata": {},
   "outputs": [],
   "source": [
    "#answer3-\n",
    "#1- run(): The run() function is the entry point for the thread's activity. It is the method that is executed when the start() method is called on a Thread object\n",
    "\n",
    "#2- start(): The start() method is used to start the execution of a thread. It creates a new thread of execution and calls the run() method of the thread. The start() method returns immediately, and the thread begins its execution in parallel with the main thread or other threads.\n",
    "\n",
    "#3-join(): The join() method is used to wait for a thread to complete its execution. When the join() method is called on a thread, the calling thread will pause and wait until the specified thread finishes its execution or until a timeout (if provided) is reached.\n",
    "\n",
    "#4-isAlive(): The isAlive() method is used to check if a thread is currently active and executing. It returns True if the thread is still running, and False otherwise."
   ]
  },
  {
   "cell_type": "code",
   "execution_count": 9,
   "id": "d08f6fbb-4074-4af4-b63c-b9709570ce2c",
   "metadata": {},
   "outputs": [],
   "source": [
    "#Q4-Write a python program to create two threads. Thread one must print the list of squares and thread two must print the list of cubes."
   ]
  },
  {
   "cell_type": "code",
   "execution_count": 19,
   "id": "dac552d8-d344-4e24-9018-b2e0b205f6be",
   "metadata": {},
   "outputs": [
    {
     "name": "stdout",
     "output_type": "stream",
     "text": [
      "Square of 0: 0\n",
      "Square of 1: 1\n",
      "Square of 2: 4\n",
      "Square of 3: 9\n",
      "Square of 4: 16\n",
      "Square of 5: 25\n",
      "Square of 6: 36\n",
      "Square of 7: 49\n",
      "Square of 8: 64\n",
      "Square of 9: 81\n",
      "Cube of 0: 0\n",
      "Cube of 1: 1\n",
      "Cube of 2: 8\n",
      "Cube of 3: 27\n",
      "Cube of 4: 64\n",
      "Cube of 5: 125\n",
      "Cube of 6: 216\n",
      "Cube of 7: 343\n",
      "Cube of 8: 512\n",
      "Cube of 9: 729\n",
      "program is completed\n"
     ]
    }
   ],
   "source": [
    "import threading\n",
    "\n",
    "def list_of_squares():\n",
    "    for i in range(10):\n",
    "        square = i * i\n",
    "        print(f\"Square of {i}: {square}\")\n",
    "    \n",
    "def list_of_cubes() :\n",
    "    for i in range(10):\n",
    "        cube = i**3\n",
    "        print(f\"Cube of {i}: {cube}\")\n",
    "    \n",
    "thread1 = threading.Thread(target = list_of_squares)\n",
    "thread2 = threading.Thread(target = list_of_cubes)\n",
    "\n",
    "thread1.start()\n",
    "thread2.start()\n",
    "\n",
    "thread1.join()\n",
    "thread2.join()\n",
    "print(\"program is completed\")"
   ]
  },
  {
   "cell_type": "code",
   "execution_count": 20,
   "id": "0b95f8cb-6d47-478e-b469-bb49d0055279",
   "metadata": {},
   "outputs": [],
   "source": [
    "#Q5- State advantages and disadvantages of multithreading."
   ]
  },
  {
   "cell_type": "code",
   "execution_count": 21,
   "id": "ae9125e1-6b2e-41bd-8347-75dc268e9bb4",
   "metadata": {},
   "outputs": [],
   "source": [
    "#answer5- advantages of Multithreading:\n",
    "#1. Increased Responsiveness: Multithreading allows an application to be more responsive by executing multiple tasks concurrently. It can prevent the user interface from becoming unresponsive during time-consuming operations by moving them to separate threads.\n",
    "#2. Enhanced Performance: Multithreading can improve performance by utilizing the available resources efficiently. It enables the execution of multiple tasks simultaneously, making better use of multi-core processors.\n",
    "#3. Resource Sharing: Threads within a process can share the same memory space, allowing them to communicate and share data more easily. This enables efficient resource sharing and coordination between threads.\n",
    "#4. Simplified Design: Multithreading can simplify the design of complex applications. By breaking down tasks into separate threads, we can manage different aspects of an application independently, leading to cleaner and more modular code.\n",
    "\n",
    "# Disadvantages of Multithreading:\n",
    "#1. Increased Complexity: Multithreaded programming introduces additional complexity compared to single-threaded programming. It involves managing shared resources, handling synchronization, and dealing with potential issues such as race conditions and deadlocks.\n",
    "#2. Synchronization Overhead: When multiple threads access shared resources, synchronization mechanisms (such as locks or semaphores) are required to ensure data integrity and prevent conflicts. Implementing and managing these mechanisms can introduce overhead and potential performance bottlenecks.\n",
    "#3. Difficulty in Debugging: Debugging multithreaded applications can be more challenging due to non-deterministic behavior. Thread interactions and timing-dependent issues can be hard to reproduce and diagnose.\n",
    "#4. Scalability Limitations: Although multithreading can enhance performance, it may have limitations in terms of scalability. Some applications may reach a point of diminishing returns when adding more threads due to contention for shared resources or other bottlenecks."
   ]
  },
  {
   "cell_type": "code",
   "execution_count": 22,
   "id": "44c1b3f0-9ad9-4ec5-a886-2942a387752d",
   "metadata": {},
   "outputs": [],
   "source": [
    "#Q6- Explain deadlocks and race conditions."
   ]
  },
  {
   "cell_type": "code",
   "execution_count": 23,
   "id": "821d7c47-eb81-4964-b204-891273ea6b7e",
   "metadata": {},
   "outputs": [],
   "source": [
    "#answer6- Deadlocks: A deadlock occurs when two or more threads are unable to proceed because each is waiting for a resource that another thread holds, resulting in a deadlock situation where none of the threads can make progress. Deadlocks typically happen due to the following four conditions, known as the Coffman\n",
    "#conditions:\n",
    "#1- Mutual Exclusion: At least one resource must be exclusively held or reserved by a thread, meaning it cannot be used by other threads simultaneously.\n",
    "#2- Hold and Wait: A thread holding a resource can request additional resources while still holding the current ones, without releasing them.\n",
    "#3- No Preemption: Resources cannot be forcibly taken away from a thread. They must be released voluntarily by the thread holding them.\n",
    "#4- Circular Wait: A cycle exists in the resource allocation graph, where each thread in the cycle is waiting for a resource held by another thread in the cycle.\n",
    "#Deadlocks can lead to a program freeze or a state where no further progress can be made, requiring intervention or a restart of the program.\n",
    "\n",
    "#2. Race Conditions: A race condition occurs when two or more threads access shared data concurrently, and the final outcome depends on the timing or order of their execution. The result of the program becomes non-deterministic and may vary each time the program is run.\n",
    "#Race conditions :1- typically happen when multiple threads perform operations on shared data without proper synchronization. When threads access and modify shared data simultaneously, the order of their execution can lead to unexpected and incorrect results. Race conditions can manifest as data corruption, incorrect calculations, or other inconsistent behaviors.\n",
    "#2 -To mitigate race conditions, proper synchronization mechanisms such as locks, semaphores, or atomic operations need to be used to ensure that only one thread can access the shared data at a time or that data access is properly coordinated."
   ]
  },
  {
   "cell_type": "code",
   "execution_count": null,
   "id": "d4e55399-efb9-47e7-8036-4a1b3a1cc6ca",
   "metadata": {},
   "outputs": [],
   "source": []
  }
 ],
 "metadata": {
  "kernelspec": {
   "display_name": "Python 3 (ipykernel)",
   "language": "python",
   "name": "python3"
  },
  "language_info": {
   "codemirror_mode": {
    "name": "ipython",
    "version": 3
   },
   "file_extension": ".py",
   "mimetype": "text/x-python",
   "name": "python",
   "nbconvert_exporter": "python",
   "pygments_lexer": "ipython3",
   "version": "3.10.8"
  }
 },
 "nbformat": 4,
 "nbformat_minor": 5
}
